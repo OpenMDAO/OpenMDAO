{
 "cells": [
  {
   "cell_type": "markdown",
   "metadata": {},
   "source": [
    "# Basic User Guide\n",
    "\n",
    "These tutorials serve to give an initial introduction to the OpenMDAO framework. They are intended to be read in order, and you should complete all of them to gain a basic understanding of the framework. After going through these tutorials, you will know how to define components, combine those components into larger models, and then run optimizations on those models.\n",
    "\n",
    "## Single-Discipline Optimization\n",
    "\n",
    "- [How OpenMDAO Represents Variables](single_disciplinary_optimization/component_types.ipynb)\n",
    "- [Paraboloid - A Single-Discipline Model](single_disciplinary_optimization/first_analysis.ipynb)\n",
    "- [Optimization of Paraboloid](single_disciplinary_optimization/first_optimization.ipynb)\n",
    "\n",
    "## Multidisciplinary Optimization\n",
    "\n",
    "- [Sellar - A Two-Discipline Problem with a Nonlinear Solver](multidisciplinary_optimization/sellar.ipynb)\n",
    "- [Linking Variables with Promotion vs. Connection](multidisciplinary_optimization/linking_vars.ipynb)\n",
    "- [Optimizing the Sellar Problem](multidisciplinary_optimization/sellar_opt.ipynb)\n",
    "\n",
    "## Using the OpenMDAO Command Line Utility\n",
    "\n",
    "- [Sanity Checking Your Model](command_line/check_setup.ipynb)\n",
    "- [Visualizing The Structure of Your Model](command_line/make_n2.ipynb)\n",
    "\n",
    "## Recording and Reading Data\n",
    "\n",
    "- [Basic Recording Example](reading_recording/basic_recording_example.ipynb)"
   ]
  }
 ],
 "metadata": {
  "celltoolbar": "Tags",
  "kernelspec": {
   "display_name": "Python 3",
   "language": "python",
   "name": "python3"
  },
  "language_info": {
   "codemirror_mode": {
    "name": "ipython",
    "version": 3
   },
   "file_extension": ".py",
   "mimetype": "text/x-python",
   "name": "python",
   "nbconvert_exporter": "python",
   "pygments_lexer": "ipython3",
   "version": "3.7.3"
  },
  "orphan": true
 },
 "nbformat": 4,
 "nbformat_minor": 4
}
