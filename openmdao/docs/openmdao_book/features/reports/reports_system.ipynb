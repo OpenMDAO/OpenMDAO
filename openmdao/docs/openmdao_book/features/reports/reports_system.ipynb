{
 "cells": [
  {
   "cell_type": "code",
   "execution_count": 1,
   "metadata": {
    "tags": [
     "remove-input",
     "active-ipynb",
     "remove-output"
    ]
   },
   "outputs": [],
   "source": [
    "try:\n",
    "    from openmdao.utils.notebook_utils import notebook_mode\n",
    "except ImportError:\n",
    "    !python -m pip install openmdao[notebooks]"
   ]
  },
  {
   "cell_type": "markdown",
   "metadata": {},
   "source": [
    "# Reports System\n",
    "\n",
    "## Default Usage\n",
    "\n",
    "OpenMDAO has a reports system which will generate several common reports when you run your model. Currently, the only reports that are run are the N2 diagram [N2 diagram](../model_visualization/n2_basics/n2_basics.ipynb), the optimization report [optimization report](optimization_reports.ipynb), and the scaling report  [scaling report](../model_visualization/view_scaling_report.ipynb).\n",
    "\n",
    "The N2 diagram report contains an interactive, graphical view of the model that is viewable in a browser.\n",
    "\n",
    "The optimization report, which is only run when a driver is run, provides the user a summary of the results of an optimization run.\n",
    "\n",
    "The scaling report contains tables of information for design variables, objectives, and constraints, as well as a viewer that shows magnitudes of subjacobians of the total jacobian.\n",
    "\n",
    "The names of these reports in the reporting system, are \"n2\", \"opt_result\", and \"scaling\", respectively.\n",
    "\n",
    "The n2 report is generated after `Problem.final_setup` runs.\n",
    "The optimizer report is generated after `Driver._post_run` runs, so after the Driver completes its run.\n",
    "The scaling report is run after `Driver._compute_totals`.\n",
    "\n",
    "Note that the reports are only run the first time the method is run on a given instance. For example, the scaling report is only run after the first call to `Driver._compute_totals`.\n",
    "\n",
    "These reports will, by default, be put into a folder named after the `Problem` name. For example, if your model\n",
    "has a single Problem and its default name, `problem1`, was not changed by the user, the reports will be placed in a directory named `problem1`.\n",
    "\n",
    "The user has control over this reports system by setting some environment variables which are described below.\n",
    "\n",
    "## Controlling which reports get run\n",
    "\n",
    "There are two ways to control which reports get run on which models.\n",
    "\n",
    "### Controlling reporting using an environment variable\n",
    "To turn off all the report generation that is part of the default report generation system of OpenMDAO,\n",
    "the user should set an environment variable of `OPENMDAO_REPORTS` to any one of these four values: '0', 'false', 'off', or 'none'.\n",
    "\n",
    "The user can also have more fine-grained control over what reports get run by setting this environment variable to a string that lists the reports to run. For example\n",
    "\n",
    "1. OPENMDAO_REPORTS=n2\n",
    "\n",
    "2. OPENMDAO_REPORTS=n2,scaling\n",
    "\n",
    "3. OPENMDAO_REPORTS=none\n",
    "\n",
    "If `OPENMDAO_REPORTS` is not set, all default reports are run. The user can also explicitly turn on all reports by setting `OPENMDAO_REPORTS` to any of these four values: '1', 'true', 'on', or 'all'.\n",
    "\n",
    "### Controlling reporting using the Problem reports argument \n",
    "The user can also control what reports get run using the `reports` argument to `Problem`.\n",
    "\n",
    "If `reports` is the default of `_UNDEFINED`, the `OPENMDAO_REPORTS` environment variable \n",
    "determines reporting.\n",
    "\n",
    "If the value for `reports` is a Boolean, it will enable/disable all reports on that `Problem`. A value of `None` is equivalent to `False`.\n",
    "\n",
    "Otherwise, `reports` may be a comma-delimted string of the names of the reports to run for that Problem."
   ]
  },
  {
   "cell_type": "markdown",
   "metadata": {},
   "source": [
    "## Setting the directory for the reports\n",
    "\n",
    "If the user wishes to have the reports directory placed into a different directory other than the default current working\n",
    "directory, the user can set the environment variable, `OPENMDAO_REPORTS_DIR` to the name of that directory. The\n",
    "directory does not have to exist beforehand. It will be created by the reporting system. As an example, if `OPENMDAO_REPORTS_DIR` is set to \"my_reports\", then, if the `Problem` name is `problem1`, then the reports will be written to the \"my_reports/problem1\" directory.\n",
    "\n",
    "## Support for subproblems\n",
    "\n",
    "The reporting system supports subproblems. For example, if a model has two Problems and they have the default names of\n",
    "`problem1` and `problem2`, the reporting system will put the reports into the folders, `problem1` and\n",
    "`problem2`.\n",
    "\n",
    "## Adding user defined reports\n",
    "\n",
    "The user can register a user defined report with the reporting system using the `register_report` function.\n",
    "\n",
    "```{eval-rst}\n",
    "    .. autofunction:: openmdao.utils.reports_system.register_report\n",
    "        :noindex:\n",
    "```\n",
    "\n",
    "Here is a script to show how this is done. Note that the function that is called to do the reporting must have\n",
    "as its first argument, the class name of the OpenMDAO object owning the method where the report will be run. Currently, the only options are `Problem` and `Driver`. The second argument to the report function is a file path to where to write the report. The user defines the file name for their report in the argument to the decorator `report_function` that must be used. The decorator takes care of making sure the full file path to the report file is determined correctly.\n",
    "\n",
    "After this script is run, there will be a file named `user_report.txt` in the directory `problem1`."
   ]
  },
  {
   "cell_type": "code",
   "execution_count": null,
   "metadata": {
    "tags": [
     "remove-input",
     "remove-output"
    ]
   },
   "outputs": [],
   "source": [
    "import os\n",
    "os.environ['OPENMDAO_REPORTS'] = '1'  # Need to run reports in this notebook."
   ]
  },
  {
   "cell_type": "code",
   "execution_count": null,
   "metadata": {
    "pycharm": {
     "name": "#%%\n"
    }
   },
   "outputs": [],
   "source": [
    "import pathlib\n",
    "import openmdao.api as om\n",
    "from openmdao.test_suite.components.paraboloid import Paraboloid\n",
    "from openmdao.utils.reports_system import report_function\n",
    "\n",
    "user_report_filename = 'user_report.txt'\n",
    "\n",
    "@report_function()\n",
    "def user_defined_report(prob, report_filepath):\n",
    "    with open(report_filepath, \"w\") as f:\n",
    "        f.write(f\"Do some reporting on the Problem, {prob._name}\\n\")\n",
    "\n",
    "# Run the report before the call to Problem.setup\n",
    "om.register_report(\"user_report\", user_defined_report, \"This report is user defined\",\n",
    "                     'Problem', 'setup', 'pre', user_report_filename)\n",
    "\n",
    "prob = om.Problem()\n",
    "model = prob.model\n",
    "\n",
    "model.add_subsystem('p1', om.IndepVarComp('x', 0.0), promotes=['x'])\n",
    "model.add_subsystem('p2', om.IndepVarComp('y', 0.0), promotes=['y'])\n",
    "model.add_subsystem('comp', Paraboloid(), promotes=['x', 'y', 'f_xy'])\n",
    "\n",
    "model.add_design_var('x', lower=0.0, upper=1.0)\n",
    "model.add_design_var('y', lower=0.0, upper=1.0)\n",
    "model.add_objective('f_xy')\n",
    "\n",
    "prob.driver = om.ScipyOptimizeDriver()\n",
    "\n",
    "prob.setup()\n",
    "prob.run_driver()\n",
    "prob.cleanup()"
   ]
  },
  {
   "cell_type": "code",
   "execution_count": null,
   "metadata": {
    "pycharm": {
     "name": "#%%\n"
    },
    "tags": [
     "remove-input",
     "remove-output"
    ]
   },
   "outputs": [],
   "source": [
    "import pathlib\n",
    "from openmdao.utils.reports_system import _reports_dir\n",
    "problem_reports_dir = pathlib.Path(_reports_dir).joinpath(prob._name)\n",
    "\n",
    "path = pathlib.Path(problem_reports_dir).joinpath(user_report_filename)\n",
    "assert path.is_file(),\"Could not find problem report\""
   ]
  },
  {
   "cell_type": "markdown",
   "metadata": {},
   "source": [
    "## Listing registered reports\n",
    "\n",
    "The user can use the `list_reports` function to see what reports are registered.\n",
    "\n",
    "```{eval-rst}\n",
    "    .. autofunction:: openmdao.utils.reports_system.list_reports\n",
    "        :noindex:\n",
    "```"
   ]
  },
  {
   "cell_type": "code",
   "execution_count": null,
   "metadata": {},
   "outputs": [],
   "source": [
    "om.list_reports()"
   ]
  },
  {
   "cell_type": "code",
   "execution_count": null,
   "metadata": {
    "tags": [
     "remove-input",
     "remove-output"
    ]
   },
   "outputs": [],
   "source": [
    "os.environ['OPENMDAO_REPORTS'] = '0'"
   ]
  }
 ],
 "metadata": {
  "celltoolbar": "Tags",
  "kernelspec": {
   "display_name": "Python 3",
   "language": "python",
   "name": "python3"
  },
  "language_info": {
   "codemirror_mode": {
    "name": "ipython",
    "version": 3
   },
   "file_extension": ".py",
   "mimetype": "text/x-python",
   "name": "python",
   "nbconvert_exporter": "python",
   "pygments_lexer": "ipython3",
   "version": "3.8.5"
  },
  "orphan": true
 },
 "nbformat": 4,
 "nbformat_minor": 4
}
