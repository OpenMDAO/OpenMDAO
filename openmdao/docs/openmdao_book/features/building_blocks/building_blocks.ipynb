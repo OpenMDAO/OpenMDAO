{
 "cells": [
  {
   "cell_type": "markdown",
   "metadata": {},
   "source": [
    "# Building Blocks\n",
    "\n",
    "- [Components](components/components.ipynb)\n",
    "- [Drivers](drivers/index.ipynb)\n",
    "- [Solvers](solvers/solvers.ipynb)\n",
    "- [SurrogateModels](surrogates/index.ipynb)\n",
    "- [Function Metadata API](func_api.ipynb)"
   ]
  }
 ],
 "metadata": {
  "celltoolbar": "Tags",
  "kernelspec": {
   "display_name": "Python 3",
   "language": "python",
   "name": "python3"
  },
  "language_info": {
   "codemirror_mode": {
    "name": "ipython",
    "version": 3
   },
   "file_extension": ".py",
   "mimetype": "text/x-python",
   "name": "python",
   "nbconvert_exporter": "python",
   "pygments_lexer": "ipython3",
   "version": "3.8.5"
  },
  "orphan": true
 },
 "nbformat": 4,
 "nbformat_minor": 4
}
