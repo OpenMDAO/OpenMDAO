{
 "cells": [
  {
   "cell_type": "markdown",
   "metadata": {},
   "source": [
    "# Components\n",
    "- [ExecComp](exec_comp.ipynb)\n",
    "- [ExplicitFuncComp](explicit_func_comp.ipynb)\n",
    "- [ImplicitFuncComp](implicit_func_comp.ipynb)\n",
    "- [BalanceComp](balance_comp.ipynb)\n",
    "- [EQConstraintComp](eq_constraint_comp.ipynb)\n",
    "- [ExternalCodeComp](external_code_comp.ipynb)\n",
    "- [ExternalCodeImplicitComp](external_code_implicit_comp.ipynb)\n",
    "- [LinearSystemComp](linearsystem_comp.ipynb)\n",
    "- [MetaModelStructuredComp](metamodelstructured_comp.ipynb)\n",
    "- [MetaModelSemiStructuredComp](metamodelsemistructured_comp.ipynb)\n",
    "- [MetaModelUnStructuredComp](metamodelunstructured_comp.ipynb)\n",
    "- [MultiFiMetaModelUnStructuredComp](multifi_metamodelunstructured_comp.ipynb)\n",
    "- [MuxComp and DemuxComp](mux_demux_comps.ipynb)\n",
    "- [KSComp](ks_comp.ipynb)\n",
    "- [SplineComp](spline_comp.ipynb)\n",
    "- [AddSubtractComp](add_subtract_comp.ipynb)\n",
    "- [CrossProductComp](cross_product_comp.ipynb)\n",
    "- [DotProductComp](dot_product_comp.ipynb)\n",
    "- [MatrixVectorProductComp](matrix_vector_product_comp.ipynb)\n",
    "- [VectorMagnitudeComp](vector_magnitude_comp.ipynb)"
   ]
  }
 ],
 "metadata": {
  "celltoolbar": "Tags",
  "kernelspec": {
   "display_name": "Python 3",
   "language": "python",
   "name": "python3"
  },
  "language_info": {
   "codemirror_mode": {
    "name": "ipython",
    "version": 3
   },
   "file_extension": ".py",
   "mimetype": "text/x-python",
   "name": "python",
   "nbconvert_exporter": "python",
   "pygments_lexer": "ipython3",
   "version": "3.8.10"
  },
  "orphan": true
 },
 "nbformat": 4,
 "nbformat_minor": 4
}
