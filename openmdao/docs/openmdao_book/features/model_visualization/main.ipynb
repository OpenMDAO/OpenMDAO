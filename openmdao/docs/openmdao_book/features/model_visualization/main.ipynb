{
 "cells": [
  {
   "cell_type": "markdown",
   "metadata": {},
   "source": [
    "# Model Visualization\n",
    "\n",
    "- [Basics of Creating N2 Model Visualizations](n2_basics/n2_basics.ipynb)\n",
    "- [Details of the N2 Model Visualizations](n2_details/n2_details.ipynb)\n",
    "- [Metamodel Visualization](meta_model_basics.ipynb)\n",
    "- [View Connections of a Model](view_connections.ipynb)\n",
    "- [View Driver Scaling Information](view_scaling_report.ipynb)\n",
    "- [Reports](../reports/reports_system.ipynb)\n",
    "- [Setting Options in Jupyter Notebook](options_widget.ipynb)\n",
    "- [View Driver Cases with the CaseViewer](case_viewer_driver_cases.ipynb)\n"
   ]
  }
 ],
 "metadata": {
  "celltoolbar": "Tags",
  "kernelspec": {
   "display_name": "Python 3",
   "language": "python",
   "name": "python3"
  },
  "language_info": {
   "codemirror_mode": {
    "name": "ipython",
    "version": 3
   },
   "file_extension": ".py",
   "mimetype": "text/x-python",
   "name": "python",
   "nbconvert_exporter": "python",
   "pygments_lexer": "ipython3",
   "version": "3.8.5"
  },
  "orphan": true
 },
 "nbformat": 4,
 "nbformat_minor": 4
}
