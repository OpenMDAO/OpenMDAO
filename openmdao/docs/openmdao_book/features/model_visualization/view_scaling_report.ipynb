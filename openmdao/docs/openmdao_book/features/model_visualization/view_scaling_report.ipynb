{
 "cells": [
  {
   "cell_type": "code",
   "execution_count": null,
   "metadata": {
    "tags": [
     "remove-input",
     "active-ipynb",
     "remove-output"
    ]
   },
   "outputs": [],
   "source": [
    "try:\n",
    "    from openmdao.utils.notebook_utils import notebook_mode\n",
    "except ImportError:\n",
    "    !python -m pip install openmdao[notebooks]"
   ]
  },
  {
   "cell_type": "markdown",
   "metadata": {},
   "source": [
    "# View Driver Scaling Information\n",
    "\n",
    "## View Driver Scaling Information from a Script\n",
    "\n",
    "You can generate a driver scaling report from within a script by calling the `scaling_report` method on your driver after all design variables, objectives, and constraints are declared and the problem has been set up.\n",
    "\n",
    "```{eval-rst}\n",
    "    .. autofunction:: openmdao.core.driver.Driver.scaling_report\n",
    "       :noindex:\n",
    "```\n",
    "\n",
    "## View Driver Scaling Information from Command Line\n",
    "\n",
    "The `openmdao scaling` command generates an html file containing driver scaling information. For more in-depth documentation, see [openmdao scaling](om-command-scaling)."
   ]
  }
 ],
 "metadata": {
  "celltoolbar": "Tags",
  "kernelspec": {
   "display_name": "Python 3",
   "language": "python",
   "name": "python3"
  },
  "language_info": {
   "codemirror_mode": {
    "name": "ipython",
    "version": 3
   },
   "file_extension": ".py",
   "mimetype": "text/x-python",
   "name": "python",
   "nbconvert_exporter": "python",
   "pygments_lexer": "ipython3",
   "version": "3.8.1"
  },
  "orphan": true
 },
 "nbformat": 4,
 "nbformat_minor": 4
}
