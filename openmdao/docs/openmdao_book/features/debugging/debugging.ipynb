{
 "cells": [
  {
   "cell_type": "markdown",
   "metadata": {},
   "source": [
    "# Debugging\n",
    "\n",
    "- [Listing Variables](listing_variables.ipynb)\n",
    "- [The Newton Solver Isn’t Converging](newton_solver_not_converging.ipynb)\n",
    "- [Driver Debug Printing](debugging_drivers.ipynb)\n",
    "- [Solver Debug Printing](debugging_solvers.ipynb)\n",
    "- [Profiling and Tracing](profiling/index.ipynb)\n",
    "- [MPI Detection, Troubleshooting, and Testing](controlling_mpi.ipynb)"
   ]
  }
 ],
 "metadata": {
  "celltoolbar": "Tags",
  "kernelspec": {
   "display_name": "Python 3",
   "language": "python",
   "name": "python3"
  },
  "language_info": {
   "codemirror_mode": {
    "name": "ipython",
    "version": 3
   },
   "file_extension": ".py",
   "mimetype": "text/x-python",
   "name": "python",
   "nbconvert_exporter": "python",
   "pygments_lexer": "ipython3",
   "version": "3.8.8"
  },
  "orphan": true
 },
 "nbformat": 4,
 "nbformat_minor": 4
}
