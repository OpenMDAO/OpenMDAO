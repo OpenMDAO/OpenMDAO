{
 "cells": [
  {
   "cell_type": "code",
   "execution_count": null,
   "id": "clinical-authorization",
   "metadata": {
    "tags": [
     "remove-input",
     "remove-output",
     "active-ipynb"
    ]
   },
   "outputs": [],
   "source": [
    "try:\n",
    "    from openmdao.utils.notebook_utils import notebook_mode\n",
    "except ImportError:\n",
    "    !python -m pip install openmdao[notebooks]"
   ]
  },
  {
   "cell_type": "code",
   "execution_count": null,
   "id": "hidden-warehouse",
   "metadata": {
    "tags": [
     "remove-input",
     "remove-output"
    ]
   },
   "outputs": [],
   "source": [
    "import os\n",
    "if os.path.exists('cases.sql'):\n",
    "    os.remove('cases.sql')"
   ]
  },
  {
   "cell_type": "markdown",
   "id": "bottom-surprise",
   "metadata": {},
   "source": [
    "# System Recording\n",
    "\n",
    "If you need to focus on a smaller part of your model, it may be useful to attach a case recorder to a particular `System`. There are slightly different options when recording from these objects. System recording can only be used in serial running environments and cannot currently be used in parallel."
   ]
  },
  {
   "cell_type": "code",
   "execution_count": null,
   "id": "foster-yacht",
   "metadata": {
    "scrolled": true,
    "tags": [
     "remove-input"
    ]
   },
   "outputs": [],
   "source": [
    "om.show_options_table(\"openmdao.core.system.System\", recording_options=True)"
   ]
  },
  {
   "cell_type": "markdown",
   "id": "enclosed-explorer",
   "metadata": {},
   "source": [
    "```{note}\n",
    "Note that the `excludes` option takes precedence over the `includes` option.\n",
    "```"
   ]
  },
  {
   "cell_type": "markdown",
   "id": "typical-budget",
   "metadata": {},
   "source": [
    "## System Recording Example"
   ]
  },
  {
   "cell_type": "code",
   "execution_count": null,
   "id": "least-sculpture",
   "metadata": {},
   "outputs": [],
   "source": [
    "import openmdao.api as om\n",
    "from openmdao.test_suite.components.sellar import SellarDerivatives\n",
    "\n",
    "prob = om.Problem(model=SellarDerivatives())\n",
    "prob.setup()\n",
    "\n",
    "recorder = om.SqliteRecorder(\"cases.sql\")\n",
    "\n",
    "obj_cmp = prob.model.obj_cmp\n",
    "obj_cmp.add_recorder(recorder)\n",
    "obj_cmp.recording_options['includes'] = ['*']\n",
    "obj_cmp.recording_options['excludes'] = ['obj_cmp.x']\n",
    "\n",
    "prob.model.nonlinear_solver.options['use_apply_nonlinear'] = True\n",
    "\n",
    "prob.run_model()"
   ]
  },
  {
   "cell_type": "code",
   "execution_count": null,
   "id": "stainless-option",
   "metadata": {},
   "outputs": [],
   "source": [
    "prob.cleanup()\n",
    "\n",
    "cr = om.CaseReader(\"cases.sql\")\n",
    "\n",
    "system_cases = cr.list_cases('root.obj_cmp')"
   ]
  },
  {
   "cell_type": "code",
   "execution_count": null,
   "id": "harmful-thompson",
   "metadata": {
    "tags": [
     "remove-input",
     "remove-output"
    ]
   },
   "outputs": [],
   "source": [
    "assert len(system_cases) == 7"
   ]
  },
  {
   "cell_type": "code",
   "execution_count": null,
   "id": "stuffed-jimmy",
   "metadata": {
    "scrolled": true
   },
   "outputs": [],
   "source": [
    "case = cr.get_case(system_cases[0])\n",
    "\n",
    "case.inputs"
   ]
  },
  {
   "cell_type": "code",
   "execution_count": null,
   "id": "generous-colleague",
   "metadata": {
    "tags": [
     "remove-input",
     "remove-output"
    ]
   },
   "outputs": [],
   "source": [
    "assert sorted(case.inputs.keys()) == ['y1', 'y2', 'z']"
   ]
  }
 ],
 "metadata": {
  "celltoolbar": "Tags",
  "kernelspec": {
   "display_name": "Python 3",
   "language": "python",
   "name": "python3"
  },
  "language_info": {
   "codemirror_mode": {
    "name": "ipython",
    "version": 3
   },
   "file_extension": ".py",
   "mimetype": "text/x-python",
   "name": "python",
   "nbconvert_exporter": "python",
   "pygments_lexer": "ipython3",
   "version": "3.8.5"
  },
  "orphan": true
 },
 "nbformat": 4,
 "nbformat_minor": 5
}
