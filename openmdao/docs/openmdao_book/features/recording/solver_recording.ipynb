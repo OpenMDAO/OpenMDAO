{
 "cells": [
  {
   "cell_type": "code",
   "execution_count": null,
   "id": "lightweight-teacher",
   "metadata": {
    "tags": [
     "remove-input",
     "remove-output",
     "active-ipynb"
    ]
   },
   "outputs": [],
   "source": [
    "try:\n",
    "    from openmdao.utils.notebook_utils import notebook_mode\n",
    "except ImportError:\n",
    "    !python -m pip install openmdao[notebooks]"
   ]
  },
  {
   "cell_type": "code",
   "execution_count": null,
   "id": "reasonable-metro",
   "metadata": {
    "tags": [
     "remove-input",
     "remove-output"
    ]
   },
   "outputs": [],
   "source": [
    "from openmdao.utils.assert_utils import assert_near_equal\n",
    "\n",
    "import os\n",
    "if os.path.exists('cases.sql'):\n",
    "    os.remove('cases.sql')"
   ]
  },
  {
   "cell_type": "markdown",
   "id": "remarkable-corps",
   "metadata": {},
   "source": [
    "# Solver Recording\n",
    "Solver recording is useful when you want to record the iterations within a solver. \n",
    "The recorder can capture the values of states, errors, and residuals as the solver converges."
   ]
  },
  {
   "cell_type": "code",
   "execution_count": null,
   "id": "pressed-bones",
   "metadata": {
    "scrolled": true,
    "tags": [
     "remove-input"
    ]
   },
   "outputs": [],
   "source": [
    "om.show_options_table(\"openmdao.solvers.solver.Solver\", recording_options=True)"
   ]
  },
  {
   "cell_type": "markdown",
   "id": "aging-sandwich",
   "metadata": {},
   "source": [
    "```{note}\n",
    "Note that the `excludes` option takes precedence over the `includes` option.\n",
    "```\n",
    "\n",
    "```{note}\n",
    "The paths given in the `includes` and `excludes` options are relative to the `Group` that the solver is attached to.\n",
    "```\n",
    "\n",
    "```{note}\n",
    "It is currently not possible to record linear solvers.\n",
    "````"
   ]
  },
  {
   "cell_type": "markdown",
   "id": "polished-direction",
   "metadata": {},
   "source": [
    "## Solver Recording Example"
   ]
  },
  {
   "cell_type": "code",
   "execution_count": null,
   "id": "vital-discrimination",
   "metadata": {
    "scrolled": true
   },
   "outputs": [],
   "source": [
    "import openmdao.api as om\n",
    "from openmdao.test_suite.components.sellar import SellarDerivatives\n",
    "\n",
    "prob = om.Problem(model=SellarDerivatives())\n",
    "prob.setup()\n",
    "\n",
    "recorder = om.SqliteRecorder(\"cases.sql\")\n",
    "\n",
    "solver = prob.model.nonlinear_solver\n",
    "solver.add_recorder(recorder)\n",
    "solver.recording_options['record_abs_error'] = True\n",
    "solver.options['use_apply_nonlinear'] = True\n",
    "\n",
    "prob.run_model()"
   ]
  },
  {
   "cell_type": "code",
   "execution_count": null,
   "id": "entertaining-profile",
   "metadata": {},
   "outputs": [],
   "source": [
    "prob.cleanup()\n",
    "cr = om.CaseReader(\"cases.sql\")\n",
    "solver_cases = cr.list_cases('root.nonlinear_solver')"
   ]
  },
  {
   "cell_type": "code",
   "execution_count": null,
   "id": "bottom-speaking",
   "metadata": {
    "tags": [
     "remove-input",
     "remove-output"
    ]
   },
   "outputs": [],
   "source": [
    "assert len(solver_cases) == 7"
   ]
  },
  {
   "cell_type": "code",
   "execution_count": null,
   "id": "dynamic-protest",
   "metadata": {
    "scrolled": true
   },
   "outputs": [],
   "source": [
    "for case_id in solver_cases:\n",
    "    print(cr.get_case(case_id).abs_err)"
   ]
  },
  {
   "cell_type": "code",
   "execution_count": null,
   "id": "informal-strength",
   "metadata": {
    "tags": [
     "remove-input",
     "remove-output"
    ]
   },
   "outputs": [],
   "source": [
    "assert_near_equal(cr.get_case(0).abs_err, 2.2545141, tolerance=1e-8)"
   ]
  }
 ],
 "metadata": {
  "celltoolbar": "Tags",
  "kernelspec": {
   "display_name": "Python 3",
   "language": "python",
   "name": "python3"
  },
  "language_info": {
   "codemirror_mode": {
    "name": "ipython",
    "version": 3
   },
   "file_extension": ".py",
   "mimetype": "text/x-python",
   "name": "python",
   "nbconvert_exporter": "python",
   "pygments_lexer": "ipython3",
   "version": "3.8.5"
  },
  "orphan": true
 },
 "nbformat": 4,
 "nbformat_minor": 5
}
