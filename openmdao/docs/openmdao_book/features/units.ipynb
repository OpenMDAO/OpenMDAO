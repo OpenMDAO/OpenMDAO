{
 "cells": [
  {
   "cell_type": "code",
   "execution_count": null,
   "metadata": {
    "tags": [
     "remove-input",
     "remove-output",
     "active-ipynb"
    ]
   },
   "outputs": [],
   "source": [
    "try:\n",
    "    from openmdao.utils.notebook_utils import notebook_mode\n",
    "except ImportError:\n",
    "    !python -m pip install openmdao[notebooks]"
   ]
  },
  {
   "cell_type": "markdown",
   "metadata": {},
   "source": [
    "# Units Definitions\n",
    "\n",
    "This is a list of all the units defined by default in the OpenMDAO library.\n",
    "Any entry in the `[base_units]` or `[units]` sections of the library is a known unit.\n",
    "Valid prefixes are given in the `[prefixes]` section of the library.\n",
    "\n",
    "See [Specifying Units for Variables](core_features/working_with_components/units.ipynb) for details on how to specify units on OpenMDAO variables."
   ]
  },
  {
   "cell_type": "code",
   "execution_count": null,
   "metadata": {
    "tags": [
     "remove-input",
     "active-ipynb"
    ]
   },
   "outputs": [],
   "source": [
    "from openmdao.utils import units\n",
    "import os\n",
    "defs = os.path.join(os.path.dirname(units.__file__), 'unit_library.ini')\n",
    "with open(defs, 'r') as f:\n",
    "    print(f.read())"
   ]
  }
 ],
 "metadata": {
  "celltoolbar": "Tags",
  "kernelspec": {
   "display_name": "Python 3",
   "language": "python",
   "name": "python3"
  },
  "language_info": {
   "codemirror_mode": {
    "name": "ipython",
    "version": 3
   },
   "file_extension": ".py",
   "mimetype": "text/x-python",
   "name": "python",
   "nbconvert_exporter": "python",
   "pygments_lexer": "ipython3",
   "version": "3.7.3"
  }
 },
 "nbformat": 4,
 "nbformat_minor": 5
}
