{
 "cells": [
  {
   "cell_type": "code",
   "execution_count": null,
   "metadata": {
    "tags": [
     "remove-input",
     "active-ipynb",
     "remove-output"
    ]
   },
   "outputs": [],
   "source": [
    "%pylab inline\n",
    "from ipyparallel import Client, error\n",
    "cluster=Client(profile=\"mpi\")\n",
    "view=cluster[:]\n",
    "view.block=True\n",
    "\n",
    "try:\n",
    "    from openmdao.utils.notebook_utils import notebook_mode\n",
    "except ImportError:\n",
    "    !python -m pip install openmdao[notebooks]"
   ]
  },
  {
   "cell_type": "markdown",
   "metadata": {},
   "source": [
    "```{note}\n",
    "This feature requires MPI, and may not be able to be run on Colab.\n",
    "```"
   ]
  },
  {
   "cell_type": "markdown",
   "metadata": {},
   "source": [
    "# Distributed Components\n",
    "\n",
    "At times when you need to perform a computation using large input arrays, you may want to perform that computation in multiple processes, where each process operates on some subset of the input values. This may be done purely for performance reasons, or it may be necessary because the entire input will not fit in the memory of a single machine. In any case, this can be accomplished in OpenMDAO using a distributed component. A distributed component is a component that operates on distributed variables. A variable is distributed if each process contains only a part of the whole variable.\n",
    "\n",
    "We’ve already seen that by using [src_indices](connect-with-src-indices) we can connect an input to only a subset of an output variable. By giving different values for src_indices in each MPI process, we can distribute computations on a distributed output across the processes.\n",
    "\n",
    "You tell the framework that a variable is distributed by setting its `distributed` option to True:\n",
    "\n",
    "\n",
    "## Component Options"
   ]
  },
  {
   "cell_type": "code",
   "execution_count": null,
   "metadata": {
    "tags": [
     "remove-input"
    ]
   },
   "outputs": [],
   "source": [
    "om.show_options_table(\"openmdao.core.component.Component\")"
   ]
  },
  {
   "cell_type": "markdown",
   "metadata": {},
   "source": [
    "```{note}\n",
    "If a Component is distributed then all of its outputs are distributed.\n",
    "```\n",
    "\n",
    "## Distributed Component Example\n",
    "\n",
    "The following example shows how to create a distributed component, *DistribComp*, that distributes its computation evenly across the available processes. A second component, *Summer*, sums the values from the distributed component into a scalar output value.\n",
    "\n",
    "These components can found in the OpenMDAO test suite:"
   ]
  },
  {
   "cell_type": "code",
   "execution_count": null,
   "metadata": {},
   "outputs": [],
   "source": [
    "%%px \n",
    "\n",
    "from openmdao.utils.array_utils import evenly_distrib_idxs\n",
    "import openmdao.api as om\n",
    "\n",
    "class DistribComp(om.ExplicitComponent):\n",
    "    \"\"\"Simple Distributed Component.\"\"\"\n",
    "\n",
    "    def initialize(self):\n",
    "        self.options.declare('size', types=int, default=1,\n",
    "                             desc=\"Size of input and output vectors.\")\n",
    "\n",
    "    def setup(self):\n",
    "        comm = self.comm\n",
    "        rank = comm.rank\n",
    "\n",
    "        size = self.options['size']\n",
    "\n",
    "        # if comm.size is 2 and size is 15, this results in\n",
    "        # 8 entries for proc 0 and 7 entries for proc 1\n",
    "        sizes, offsets = evenly_distrib_idxs(comm.size, size)\n",
    "        mysize = sizes[rank]\n",
    "        start = offsets[rank]\n",
    "        end = start + mysize\n",
    "\n",
    "        self.add_input('invec', np.ones(mysize, float), distributed=True)\n",
    "        self.add_output('outvec', np.ones(mysize, float), distributed=True)\n",
    "\n",
    "    def compute(self, inputs, outputs):\n",
    "        if self.comm.rank == 0:\n",
    "            outputs['outvec'] = inputs['invec'] * 2.0\n",
    "        else:\n",
    "            outputs['outvec'] = inputs['invec'] * -3.0"
   ]
  },
  {
   "cell_type": "markdown",
   "metadata": {},
   "source": [
    "```{note}\n",
    "In this example component, we have explicitly specified *src_indices* when adding the input. This is not really necessary in this case, because it replicates the default behavior. If no *src_indices* are specified, OpenMDAO will assume an offset that is the sum of the sizes in all ranks up to the current rank and a range equal to the specified size (the size is given per the usual arguments to `add_input`).\n",
    "```"
   ]
  },
  {
   "cell_type": "code",
   "execution_count": null,
   "metadata": {},
   "outputs": [],
   "source": [
    "%%px\n",
    "\n",
    "class Summer(om.ExplicitComponent):\n",
    "    \"\"\"Sums an input array.\"\"\"\n",
    "\n",
    "    def initialize(self):\n",
    "        self.options.declare('size', types=int, default=1, desc=\"Size of input vector.\")\n",
    "\n",
    "    def setup(self):\n",
    "        self.add_input('invec', np.ones(self.options['size'], float))\n",
    "\n",
    "        self.add_output('sum', 0.0, shape=1)\n",
    "\n",
    "    def compute(self, inputs, outputs):\n",
    "        outputs['sum'] = np.sum(inputs['invec'])"
   ]
  },
  {
   "cell_type": "markdown",
   "metadata": {},
   "source": [
    "This example is run with four processes and a size of 15:"
   ]
  },
  {
   "cell_type": "code",
   "execution_count": null,
   "metadata": {},
   "outputs": [],
   "source": [
    "%%px \n",
    "\n",
    "import numpy as np\n",
    "import openmdao.api as om\n",
    "\n",
    "size = 15\n",
    "\n",
    "model = om.Group()\n",
    "prob = om.Problem(model)\n",
    "\n",
    "# Distributed component \"C2\" requires an IndepVarComp to supply inputs.\n",
    "indep = model.add_subsystem(\"indep\", om.IndepVarComp())\n",
    "indep.add_output('x', np.zeros(size), distributed=True)\n",
    "model.add_subsystem(\"C2\", DistribComp(size=size))\n",
    "\n",
    "model.add_subsystem(\"C3\", Summer(size=size))\n",
    "\n",
    "comm = prob.comm\n",
    "rank = comm.rank\n",
    "sizes, offsets = evenly_distrib_idxs(comm.size, size)\n",
    "mysize = sizes[rank]\n",
    "start = offsets[rank]\n",
    "end = start + mysize\n",
    "\n",
    "model.connect('indep.x', 'C2.invec', src_indices=np.arange(start, end, dtype=int))\n",
    "model.connect('C2.outvec', 'C3.invec', src_indices=om.slicer[:])\n",
    "\n",
    "prob.setup()"
   ]
  },
  {
   "cell_type": "code",
   "execution_count": null,
   "metadata": {},
   "outputs": [],
   "source": [
    "%%px\n",
    "\n",
    "prob.set_val('indep.x', np.ones(size))\n",
    "prob.run_model()\n",
    "\n",
    "print(prob.get_val('C2.invec', get_remote=True))"
   ]
  },
  {
   "cell_type": "code",
   "execution_count": null,
   "metadata": {},
   "outputs": [],
   "source": [
    "%%px\n",
    "\n",
    "print(prob.get_val('C2.outvec'))"
   ]
  },
  {
   "cell_type": "code",
   "execution_count": null,
   "metadata": {},
   "outputs": [],
   "source": [
    "%%px\n",
    "\n",
    "print(prob.get_val('C3.sum'))"
   ]
  },
  {
   "cell_type": "code",
   "execution_count": null,
   "metadata": {
    "tags": [
     "remove-output",
     "remove-input"
    ]
   },
   "outputs": [],
   "source": [
    "%%px\n",
    "\n",
    "from openmdao.utils.assert_utils import assert_near_equal\n",
    "\n",
    "assert_near_equal(prob.get_val('C3.sum'), -25.)"
   ]
  },
  {
   "cell_type": "markdown",
   "metadata": {},
   "source": [
    "```{note}\n",
    "In this example, we introduce a new component called an [IndepVarComp](indepvarcomp.ipynb). If you used OpenMDAO prior to version 3.2, then you are familiar with this component. It is used to define an independent variable.\n",
    "\n",
    "You usually do not have to define these because OpenMDAO defines and uses them automatically for all unconnected inputs in your model. However, when we define a distributed input, we often use the “src_indices” attribute to determine the allocation of that input to the processors that the component sees. For some sets of these indices, it isn’t possible to easily determine the full size of the corresponding independent variable, and the *IndepVarComp* cannot be created automatically. So, for unconnected inputs on a distributed component, you must manually create one, as we did in this example.\n",
    "```\n",
    "\n",
    "## Distributed Component with Derivatives\n",
    "\n",
    "Derivatives can be computed for distributed components as shown in the following variation on the example. Also, in this version, we have taken advantage of the automatic determination of *src_indices*."
   ]
  },
  {
   "cell_type": "code",
   "execution_count": null,
   "metadata": {},
   "outputs": [],
   "source": [
    "%%px \n",
    "\n",
    "class DistribCompDerivs(om.ExplicitComponent):\n",
    "    \"\"\"Simple Distributed Component with Derivatives.\"\"\"\n",
    "\n",
    "    def initialize(self):\n",
    "        self.options.declare('size', types=int, default=1,\n",
    "                             desc=\"Size of input and output vectors.\")\n",
    "\n",
    "    def setup(self):\n",
    "        comm = self.comm\n",
    "        rank = comm.rank\n",
    "\n",
    "        size = self.options['size']\n",
    "\n",
    "        # if comm.size is 2 and size is 15, this results in\n",
    "        # 8 entries for proc 0 and 7 entries for proc 1\n",
    "        sizes, _ = evenly_distrib_idxs(comm.size, size)\n",
    "        self.mysize = mysize = sizes[rank]\n",
    "\n",
    "        # don't set src_indices on the input, just use default behavior\n",
    "        self.add_input('invec', np.ones(mysize, float),distributed=True)\n",
    "        self.add_output('outvec', np.ones(mysize, float),distributed=True)\n",
    "\n",
    "    def setup_partials(self):\n",
    "        # declare partial derivatives (diagonal of mysize)\n",
    "        self.declare_partials('outvec', 'invec',\n",
    "                              rows=np.arange(0, self.mysize),\n",
    "                              cols=np.arange(0, self.mysize))\n",
    "\n",
    "    def compute(self, inputs, outputs):\n",
    "        if self.comm.rank == 0:\n",
    "            outputs['outvec'] = inputs['invec'] * 2.0\n",
    "        else:\n",
    "            outputs['outvec'] = inputs['invec'] * -3.0\n",
    "\n",
    "    def compute_partials(self, inputs, J):\n",
    "        # get mysize from the input vector for this process\n",
    "        mysize = inputs['invec'].size\n",
    "\n",
    "        if self.comm.rank == 0:\n",
    "            J['outvec', 'invec'] = np.ones((mysize,)) * 2.0\n",
    "        else:\n",
    "            J['outvec', 'invec'] = np.ones((mysize,)) * -3.0"
   ]
  },
  {
   "cell_type": "code",
   "execution_count": null,
   "metadata": {},
   "outputs": [],
   "source": [
    "%%px\n",
    "\n",
    "class SummerDerivs(om.ExplicitComponent):\n",
    "    \"\"\"Sums an input array.\"\"\"\n",
    "\n",
    "    def initialize(self):\n",
    "        self.options.declare('size', types=int, default=1,\n",
    "                             desc=\"Size of input and output vectors.\")\n",
    "\n",
    "    def setup(self):\n",
    "        self.add_input('invec', np.ones(self.options['size'], float))\n",
    "\n",
    "        self.add_output('sum', 0.0, shape=1)\n",
    "\n",
    "    def setup_partials(self):\n",
    "        # the derivative is constant\n",
    "        self.declare_partials('sum', 'invec', val=1.)\n",
    "\n",
    "    def compute(self, inputs, outputs):\n",
    "        outputs['sum'] = np.sum(inputs['invec'])"
   ]
  },
  {
   "cell_type": "markdown",
   "metadata": {},
   "source": [
    "This example is again run with four processes and a `size` of 15. We can use [assert_check_partials](../working_with_derivatives/unit_testing_partials) to verify that the partial derivatives are calculated correctly."
   ]
  },
  {
   "cell_type": "code",
   "execution_count": null,
   "metadata": {
    "tags": [
     "allow-assert"
    ]
   },
   "outputs": [],
   "source": [
    "%%px\n",
    "\n",
    "import numpy as np\n",
    "import openmdao.api as om\n",
    "from openmdao.utils.assert_utils import assert_check_partials, assert_near_equal\n",
    "\n",
    "size = 15\n",
    "\n",
    "model = om.Group()\n",
    "\n",
    "# Distributed component \"C2\" requires an IndepVarComp to supply inputs.\n",
    "indep = model.add_subsystem(\"indep\", om.IndepVarComp())\n",
    "indep.add_output('x', np.zeros(size), distributed=True)\n",
    "model.add_subsystem(\"C2\", DistribCompDerivs(size=size))\n",
    "model.add_subsystem(\"C3\", SummerDerivs(size=size))\n",
    "\n",
    "model.connect('indep.x', 'C2.invec')\n",
    "model.connect('C2.outvec', 'C3.invec', src_indices=om.slicer[:])\n",
    "\n",
    "prob = om.Problem(model)\n",
    "prob.setup()"
   ]
  },
  {
   "cell_type": "code",
   "execution_count": null,
   "metadata": {},
   "outputs": [],
   "source": [
    "%%px\n",
    "\n",
    "prob.set_val('indep.x', np.ones(size))\n",
    "prob.run_model()\n",
    "\n",
    "print(prob.get_val('C2.invec', get_remote=True))"
   ]
  },
  {
   "cell_type": "code",
   "execution_count": null,
   "metadata": {},
   "outputs": [],
   "source": [
    "%%px\n",
    "\n",
    "print(prob.get_val('C2.outvec'))"
   ]
  },
  {
   "cell_type": "code",
   "execution_count": null,
   "metadata": {},
   "outputs": [],
   "source": [
    "%%px\n",
    "\n",
    "print(prob.get_val('C3.sum'))"
   ]
  },
  {
   "cell_type": "code",
   "execution_count": null,
   "metadata": {
    "tags": [
     "allow-assert"
    ]
   },
   "outputs": [],
   "source": [
    "%%px\n",
    "\n",
    "assert_check_partials(prob.check_partials())"
   ]
  },
  {
   "cell_type": "code",
   "execution_count": null,
   "metadata": {},
   "outputs": [],
   "source": [
    "%%px\n",
    "\n",
    "J = prob.compute_totals(of=['C2.outvec'], wrt=['indep.x'])\n",
    "print(J[('C2.outvec', 'indep.x')])"
   ]
  },
  {
   "cell_type": "code",
   "execution_count": null,
   "metadata": {
    "tags": [
     "remove-output",
     "remove-input"
    ]
   },
   "outputs": [],
   "source": [
    "%%px\n",
    "\n",
    "actual = J[('C2.outvec', 'indep.x')]\n",
    "expected = np.eye(15)*np.append(2*np.ones(4), -3*np.ones(11))\n",
    "expected = np.append(expected, np.zeros((15,45)),axis=1)\n",
    "assert_near_equal(actual, expected)"
   ]
  }
 ],
 "metadata": {
  "celltoolbar": "Tags",
  "kernelspec": {
   "display_name": "Python 3",
   "language": "python",
   "name": "python3"
  },
  "language_info": {
   "codemirror_mode": {
    "name": "ipython",
    "version": 3
   },
   "file_extension": ".py",
   "mimetype": "text/x-python",
   "name": "python",
   "nbconvert_exporter": "python",
   "pygments_lexer": "ipython3",
   "version": "3.8.5"
  },
  "orphan": true
 },
 "nbformat": 4,
 "nbformat_minor": 4
}
