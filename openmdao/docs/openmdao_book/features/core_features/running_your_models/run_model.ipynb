{
 "cells": [
  {
   "cell_type": "code",
   "execution_count": null,
   "metadata": {
    "tags": [
     "remove-input",
     "active-ipynb",
     "remove-output"
    ]
   },
   "outputs": [],
   "source": [
    "try:\n",
    "    from openmdao.utils.notebook_utils import notebook_mode\n",
    "except ImportError:\n",
    "    !python -m pip install openmdao[notebooks]"
   ]
  },
  {
   "cell_type": "markdown",
   "metadata": {},
   "source": [
    "# Run Your Model\n",
    "\n",
    "Once `setup()` is done, you can then execute your model with `run_model()`\n",
    "\n",
    "`run_model()` will execute one pass through your model.\n",
    "\n",
    "\n",
    "Examples\n",
    "\n",
    "A basic `setup()` executing a single pass through the model."
   ]
  },
  {
   "cell_type": "code",
   "execution_count": null,
   "metadata": {},
   "outputs": [],
   "source": [
    "from openmdao.test_suite.components.paraboloid import Paraboloid\n",
    "\n",
    "prob = om.Problem()\n",
    "model = prob.model\n",
    "\n",
    "model.add_subsystem('comp', Paraboloid(), promotes=['x', 'y', 'f_xy'])\n",
    "\n",
    "prob.setup()\n",
    "\n",
    "prob.set_val('x', 2.)\n",
    "prob.set_val('y', 10.)\n",
    "prob.run_model()\n",
    "print(prob.get_val('f_xy'))"
   ]
  },
  {
   "cell_type": "code",
   "execution_count": null,
   "metadata": {
    "tags": [
     "remove-input",
     "remove-output"
    ]
   },
   "outputs": [],
   "source": [
    "from openmdao.utils.assert_utils import assert_near_equal\n",
    "assert_near_equal(prob.get_val('f_xy'), 214.0, 1e-6)"
   ]
  },
  {
   "cell_type": "code",
   "execution_count": null,
   "metadata": {},
   "outputs": [],
   "source": [
    "prob.set_val('x', 0.)\n",
    "prob.set_val('y', 0.)\n",
    "prob.run_model()\n",
    "print(prob.get_val('f_xy'))"
   ]
  },
  {
   "cell_type": "code",
   "execution_count": null,
   "metadata": {
    "tags": [
     "remove-input",
     "remove-output"
    ]
   },
   "outputs": [],
   "source": [
    "assert_near_equal(prob.get_val('f_xy'), 22.0, 1e-6)"
   ]
  },
  {
   "cell_type": "code",
   "execution_count": null,
   "metadata": {},
   "outputs": [],
   "source": [
    "prob.setup()\n",
    "\n",
    "prob.set_val('x', 4.)\n",
    "prob.set_val('y', 8.)\n",
    "prob.run_model()\n",
    "print(prob.get_val('f_xy'))"
   ]
  },
  {
   "cell_type": "code",
   "execution_count": null,
   "metadata": {
    "tags": [
     "remove-input",
     "remove-output"
    ]
   },
   "outputs": [],
   "source": [
    "assert_near_equal(prob.get_val('f_xy'), 174.0, 1e-6)"
   ]
  },
  {
   "cell_type": "code",
   "execution_count": null,
   "metadata": {
    "tags": [
     "remove-input",
     "remove-output"
    ]
   },
   "outputs": [],
   "source": [
    "from openmdao.utils.assert_utils import assert_near_equal\n",
    "\n",
    "from openmdao.test_suite.components.paraboloid import Paraboloid\n",
    "\n",
    "prob = om.Problem()\n",
    "model = prob.model\n",
    "\n",
    "model.add_subsystem('comp', Paraboloid(), promotes=['x', 'y', 'f_xy'])\n",
    "\n",
    "prob.setup()\n",
    "\n",
    "prob.set_val('x', 2.)\n",
    "prob.set_val('y', 10.)\n",
    "prob.run_model()\n",
    "assert_near_equal(prob.get_val('f_xy'), 214.0, 1e-6)\n",
    "\n",
    "prob.set_val('x', 0.)\n",
    "prob.set_val('y', 0.)\n",
    "prob.run_model()\n",
    "assert_near_equal(prob.get_val('f_xy'), 22.0, 1e-6)\n",
    "\n",
    "prob.setup()\n",
    "\n",
    "prob.set_val('x', 4.)\n",
    "prob.set_val('y', 8.)\n",
    "prob.run_model()\n",
    "assert_near_equal(prob.get_val('f_xy'), 174.0, 1e-6)"
   ]
  }
 ],
 "metadata": {
  "celltoolbar": "Tags",
  "kernelspec": {
   "display_name": "Python 3",
   "language": "python",
   "name": "python3"
  },
  "language_info": {
   "codemirror_mode": {
    "name": "ipython",
    "version": 3
   },
   "file_extension": ".py",
   "mimetype": "text/x-python",
   "name": "python",
   "nbconvert_exporter": "python",
   "pygments_lexer": "ipython3",
   "version": "3.8.5"
  },
  "orphan": true
 },
 "nbformat": 4,
 "nbformat_minor": 4
}
