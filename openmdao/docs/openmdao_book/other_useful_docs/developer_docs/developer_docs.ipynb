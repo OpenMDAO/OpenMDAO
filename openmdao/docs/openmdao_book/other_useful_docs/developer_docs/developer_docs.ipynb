{
 "cells": [
  {
   "cell_type": "markdown",
   "source": [
    "# Developer Docs (if you're going to contribute code)\n",
    "\n",
    "## Developer Install\n",
    "\n",
    "Use `git` to clone the repository:\n",
    "\n",
    "`git clone http://github.com/OpenMDAO/OpenMDAO`\n",
    "\n",
    "Use `pip` to install openmdao locally:\n",
    "\n",
    "`cd OpenMDAO`\n",
    "\n",
    "`pip install -e .`\n",
    "\n",
    "```{note}\n",
    "The `-e` option tells pip to install directly from your repository. This is very useful when you're developing because when you change the code or pull new commits down from GitHub, you don't necessarily need to re-run the `pip install`.\n",
    "```\n",
    "\n",
    "## Signing and Verifying GitHub Commits\n",
    "\n",
    "To ensure that they come from a trusted source, only pull requests that consist of verified commits can be merged to the OpenMDAO `master` branch.\n",
    "\n",
    "- [Signing GitHub Commits](signing_commits.ipynb)\n",
    "\n",
    "## Building the Docs\n",
    "\n",
    "You can read the docs online, so it is not necessary to build them locally on your machine.\n",
    "But if you're going to build new features or add new examples, you'll want to build the docs locally, so that you can check them while you are writing them.\n",
    "\n",
    "- [Local Building of OpenMDAO Documentation](doc_build.ipynb)\n",
    "\n",
    "## Creating Your Own OpenMDAO Plugins\n",
    "\n",
    "- [How To Write OpenMDAO Plugins](writing_plugins.ipynb)\n",
    "\n",
    "\n",
    "## Documentation Style Guide\n",
    "\n",
    "This document exists to help OpenMDAO documentation writers follow appropriate guidelines,\n",
    "in terms of formatting and embedding code.\n",
    "\n",
    "- [OpenMDAO Docs Style Guide](doc_style_guide.ipynb)\n",
    "- [Sphinx and Decorated Methods](sphinx_decorators.ipynb)"
   ],
   "metadata": {}
  }
 ],
 "metadata": {
  "celltoolbar": "Tags",
  "kernelspec": {
   "display_name": "Python 3",
   "language": "python",
   "name": "python3"
  },
  "language_info": {
   "codemirror_mode": {
    "name": "ipython",
    "version": 3
   },
   "file_extension": ".py",
   "mimetype": "text/x-python",
   "name": "python",
   "nbconvert_exporter": "python",
   "pygments_lexer": "ipython3",
   "version": "3.8.5"
  },
  "orphan": true
 },
 "nbformat": 4,
 "nbformat_minor": 4
}