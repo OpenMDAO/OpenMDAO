{
 "cells": [
  {
   "cell_type": "markdown",
   "metadata": {},
   "source": [
    "# Core Features\n",
    "\n",
    "- [Working with Components](working_with_components/main)\n",
    "- [Working with Groups](working_with_groups/main)\n",
    "- [Options](options/main)\n",
    "- [Working with Derivatives](working_with_derivatives/main)\n",
    "- [Adding design variables, constraints, and objectives](adding_desvars_cons_objs/main)\n",
    "- [Running Your Models](running_your_models/main)\n",
    "- [Controlling Solver Behavior](controlling_solver_behavior/main)"
   ]
  }
 ],
 "metadata": {
  "celltoolbar": "Tags",
  "kernelspec": {
   "display_name": "Python 3 (ipykernel)",
   "language": "python",
   "name": "python3"
  },
  "language_info": {
   "codemirror_mode": {
    "name": "ipython",
    "version": 3
   },
   "file_extension": ".py",
   "mimetype": "text/x-python",
   "name": "python",
   "nbconvert_exporter": "python",
   "pygments_lexer": "ipython3",
   "version": "3.9.19"
  },
  "orphan": true
 },
 "nbformat": 4,
 "nbformat_minor": 4
}