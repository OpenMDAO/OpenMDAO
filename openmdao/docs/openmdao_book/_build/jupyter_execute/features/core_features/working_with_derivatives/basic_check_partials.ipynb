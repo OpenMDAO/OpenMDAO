{
 "cells": [
  {
   "cell_type": "code",
   "execution_count": 1,
   "id": "fb7cb606",
   "metadata": {
    "tags": [
     "remove-input",
     "remove-output",
     "active-ipynb"
    ]
   },
   "outputs": [],
   "source": [
    "try:\n",
    "    from openmdao.utils.notebook_utils import notebook_mode\n",
    "except ImportError:\n",
    "    !python -m pip install openmdao[notebooks]"
   ]
  },
  {
   "attachments": {},
   "cell_type": "markdown",
   "id": "e25d82ec",
   "metadata": {},
   "source": [
    "# Checking Partial Derivatives with Finite Difference\n",
    "In addition to using approximations to estimate partial derivatives, you can also use approximations to check your implementations of the partial derivatives for a component.\n",
    "\n",
    "`Problem` has a method, `check_partials`, that checks partial derivatives\n",
    "comprehensively for all Components in your model. To do this check, the framework compares the analytic result against a finite difference result. This means that the check_partials function can be quite computationally expensive. So use it to check your work, but don’t leave the call in your production run scripts."
   ]
  },
  {
   "attachments": {},
   "cell_type": "markdown",
   "id": "f26e1953",
   "metadata": {},
   "source": [
    "```{eval-rst}\n",
    "    .. automethod:: openmdao.core.problem.Problem.check_partials\n",
    "        :noindex:\n",
    "```"
   ]
  },
  {
   "attachments": {},
   "cell_type": "markdown",
   "id": "9f22725a",
   "metadata": {},
   "source": [
    "```{Note}\n",
    "For components that provide their partials directly (from the `compute_partials` or `linearize` methods, only information about the forward derivatives are shown. For components that are matrix-free, both forward and reverse derivative information is shown.\n",
    "\n",
    "Implicit components are matrix-free if they define a `apply_linear` method. Explicit components are matrix-free if they define a `compute_jacvec_product` method.\n",
    "``` "
   ]
  },
  {
   "attachments": {},
   "cell_type": "markdown",
   "id": "1876c591",
   "metadata": {},
   "source": [
    "## Basic Usage\n",
    "When the difference between the FD derivative and the provided derivative is larger (in either a relative or absolute sense) than 1e-6, that partial derivative will be marked with a '*'."
   ]
  },
  {
   "cell_type": "code",
   "execution_count": 2,
   "id": "fb1d8499",
   "metadata": {},
   "outputs": [
    {
     "name": "stdout",
     "output_type": "stream",
     "text": [
      "------------------------\n",
      "Component: MyComp 'comp'\n",
      "------------------------\n",
      "\n",
      "  comp: 'y' wrt 'x1'\n",
      "     Forward Magnitude: 4.000000e+00\n",
      "          Fd Magnitude: 3.000000e+00 (fd:forward)\n",
      "\n",
      "    Absolute Error (Jfor - Jfd) : 1.000000e+00 *\n",
      "\n",
      "    Relative Error (Jfor - Jfd) / Jfd : 3.333333e-01 *\n",
      "\n",
      "    Raw Forward Derivative (Jfor)\n",
      "    [[4.]]\n",
      "\n",
      "    Raw FD Derivative (Jfd)\n",
      "    [[3.]]\n",
      "\n",
      " - - - - - - - - - - - - - - - - - - - - - - - - - - - - - -\n",
      "  comp: 'y' wrt 'x2'\n",
      "     Forward Magnitude: 4.000000e+01\n",
      "          Fd Magnitude: 4.000000e+00 (fd:forward)\n",
      "\n",
      "    Absolute Error (Jfor - Jfd) : 3.600000e+01 *\n",
      "\n",
      "    Relative Error (Jfor - Jfd) / Jfd : 9.000000e+00 *\n",
      "\n",
      "    Raw Forward Derivative (Jfor)\n",
      "    [[40.]]\n",
      "\n",
      "    Raw FD Derivative (Jfd)\n",
      "    [[4.]]\n",
      "\n",
      " - - - - - - - - - - - - - - - - - - - - - - - - - - - - - -\n"
     ]
    }
   ],
   "source": [
    "import numpy as np\n",
    "\n",
    "import openmdao.api as om\n",
    "\n",
    "class MyComp(om.ExplicitComponent):\n",
    "    def setup(self):\n",
    "        self.add_input('x1', 3.0)\n",
    "        self.add_input('x2', 5.0)\n",
    "\n",
    "        self.add_output('y', 5.5)\n",
    "\n",
    "        self.declare_partials(of='*', wrt='*')\n",
    "\n",
    "    def compute(self, inputs, outputs):\n",
    "        outputs['y'] = 3.0*inputs['x1'] + 4.0*inputs['x2']\n",
    "\n",
    "    def compute_partials(self, inputs, partials):\n",
    "        \"\"\"Intentionally incorrect derivative.\"\"\"\n",
    "        J = partials\n",
    "        J['y', 'x1'] = np.array([4.0])\n",
    "        J['y', 'x2'] = np.array([40])\n",
    "\n",
    "prob = om.Problem()\n",
    "\n",
    "prob.model.add_subsystem('comp', MyComp())\n",
    "\n",
    "prob.set_solver_print(level=0)\n",
    "\n",
    "prob.setup(mode='rev')\n",
    "prob.run_model()\n",
    "\n",
    "data = prob.check_partials()"
   ]
  },
  {
   "cell_type": "code",
   "execution_count": 3,
   "id": "2352a2cc",
   "metadata": {},
   "outputs": [
    {
     "name": "stdout",
     "output_type": "stream",
     "text": [
      "1.0000000004688445\n"
     ]
    }
   ],
   "source": [
    "x1_error = data['comp']['y', 'x1']['abs error']\n",
    "\n",
    "print(x1_error.forward)"
   ]
  },
  {
   "cell_type": "code",
   "execution_count": 4,
   "id": "c37d00da",
   "metadata": {
    "scrolled": true
   },
   "outputs": [
    {
     "name": "stdout",
     "output_type": "stream",
     "text": [
      "8.99999999860222\n"
     ]
    }
   ],
   "source": [
    "x2_error = data['comp']['y', 'x2']['rel error']\n",
    "\n",
    "print(x2_error.forward)"
   ]
  },
  {
   "cell_type": "code",
   "execution_count": 5,
   "id": "6e1d9c07",
   "metadata": {
    "tags": [
     "remove-input",
     "remove-output"
    ]
   },
   "outputs": [
    {
     "data": {
      "text/plain": [
       "0.0"
      ]
     },
     "execution_count": 5,
     "metadata": {},
     "output_type": "execute_result"
    }
   ],
   "source": [
    "from openmdao.utils.assert_utils import assert_near_equal\n",
    "\n",
    "assert_near_equal(x1_error.forward, 1.0000000004688445)\n",
    "assert_near_equal(x2_error.forward, 8.99999999860222)"
   ]
  },
  {
   "attachments": {},
   "cell_type": "markdown",
   "id": "7a1a41db",
   "metadata": {},
   "source": [
    "Turn off standard output and just view the derivatives in the return:"
   ]
  },
  {
   "cell_type": "code",
   "execution_count": 6,
   "id": "bc3becfb",
   "metadata": {},
   "outputs": [],
   "source": [
    "import numpy as np\n",
    "\n",
    "import openmdao.api as om\n",
    "\n",
    "class MyComp(om.ExplicitComponent):\n",
    "    def setup(self):\n",
    "        self.add_input('x1', 3.0)\n",
    "        self.add_input('x2', 5.0)\n",
    "\n",
    "        self.add_output('y', 5.5)\n",
    "\n",
    "        self.declare_partials(of='*', wrt='*')\n",
    "\n",
    "    def compute(self, inputs, outputs):\n",
    "        outputs['y'] = 3.0*inputs['x1'] + 4.0*inputs['x2']\n",
    "\n",
    "    def compute_partials(self, inputs, partials):\n",
    "        \"\"\"Intentionally incorrect derivative.\"\"\"\n",
    "        J = partials\n",
    "        J['y', 'x1'] = np.array([4.0])\n",
    "        J['y', 'x2'] = np.array([40])\n",
    "\n",
    "prob = om.Problem()\n",
    "\n",
    "prob.model.add_subsystem('comp', MyComp())\n",
    "\n",
    "prob.set_solver_print(level=0)\n",
    "\n",
    "prob.setup()\n",
    "prob.run_model()"
   ]
  },
  {
   "cell_type": "code",
   "execution_count": 7,
   "id": "97cd474d",
   "metadata": {
    "scrolled": true
   },
   "outputs": [
    {
     "name": "stdout",
     "output_type": "stream",
     "text": [
      "{'comp': {('y', 'x1'): {'J_fwd': array([[4.]]), 'J_fd': array([[3.]]), 'abs error': ErrorTuple(forward=1.0000000004688445, reverse=None, forward_reverse=None), 'rel error': ErrorTuple(forward=0.3333333335417087, reverse=None, forward_reverse=None), 'magnitude': MagnitudeTuple(forward=4.0, reverse=None, fd=2.9999999995311555)}, ('y', 'x2'): {'J_fwd': array([[40.]]), 'J_fd': array([[4.]]), 'abs error': ErrorTuple(forward=35.99999999944089, reverse=None, forward_reverse=None), 'rel error': ErrorTuple(forward=8.99999999860222, reverse=None, forward_reverse=None), 'magnitude': MagnitudeTuple(forward=40.0, reverse=None, fd=4.000000000559112)}}}\n"
     ]
    }
   ],
   "source": [
    "data = prob.check_partials(out_stream=None, compact_print=True)\n",
    "print(data)"
   ]
  },
  {
   "attachments": {},
   "cell_type": "markdown",
   "id": "0929a5f6",
   "metadata": {},
   "source": [
    "# Show Only Incorrect Printing Option\n",
    "If you are only concerned with seeing the partials calculations that are incorrect, set `show_only_incorrect` to `True`. This applies to both `compact_print` equal to `True` and `False`."
   ]
  },
  {
   "cell_type": "code",
   "execution_count": 8,
   "id": "909248ff",
   "metadata": {
    "tags": [
     "remove-ouput"
    ]
   },
   "outputs": [
    {
     "name": "stdout",
     "output_type": "stream",
     "text": [
      "\n",
      "** Only writing information about components with incorrect Jacobians **\n",
      "\n",
      "----------------------------------\n",
      "Component: MyCompBadPartials 'bad'\n",
      "----------------------------------\n",
      "\n",
      "+-----------------+------------------+-------------+-------------+-------------+-------------+--------------------+\n",
      "| of '<variable>' | wrt '<variable>' |   calc mag. |  check mag. |  a(cal-chk) |  r(cal-chk) | error desc         |\n",
      "+=================+==================+=============+=============+=============+=============+====================+\n",
      "| 'z'             | 'y1'             |  3.3000e+01 |  3.0000e+00 |  3.0000e+01 |  1.0000e+01 |  >ABS_TOL >REL_TOL |\n",
      "+-----------------+------------------+-------------+-------------+-------------+-------------+--------------------+\n",
      "| 'z'             | 'y2'             |  4.0000e+01 |  4.0000e+00 |  3.6000e+01 |  9.0000e+00 |  >ABS_TOL >REL_TOL |\n",
      "+-----------------+------------------+-------------+-------------+-------------+-------------+--------------------+\n",
      "\n",
      "#################################################################\n",
      "Sub Jacobian with Largest Relative Error: MyCompBadPartials 'bad'\n",
      "#################################################################\n",
      "+-----------------+------------------+-------------+-------------+-------------+-------------+\n",
      "| of '<variable>' | wrt '<variable>' |   calc mag. |  check mag. |  a(cal-chk) |  r(cal-chk) |\n",
      "+=================+==================+=============+=============+=============+=============+\n",
      "| 'z'             | 'y1'             |  3.3000e+01 |  3.0000e+00 |  3.0000e+01 |  1.0000e+01 |\n",
      "+-----------------+------------------+-------------+-------------+-------------+-------------+\n",
      "\n",
      "** Only writing information about components with incorrect Jacobians **\n",
      "\n",
      "----------------------------------\n",
      "Component: MyCompBadPartials 'bad'\n",
      "----------------------------------\n",
      "\n",
      "  bad: 'z' wrt 'y1'\n",
      "     Forward Magnitude: 3.300000e+01\n",
      "          Fd Magnitude: 3.000000e+00 (fd:forward)\n",
      "\n",
      "    Absolute Error (Jfor - Jfd) : 3.000000e+01 *\n",
      "\n",
      "    Relative Error (Jfor - Jfd) / Jfd : 1.000000e+01 *\n",
      "\n",
      "    Raw Forward Derivative (Jfor)\n",
      "    [[33.]]\n",
      "\n",
      "    Raw FD Derivative (Jfd)\n",
      "    [[3.00000001]]\n",
      "\n",
      " - - - - - - - - - - - - - - - - - - - - - - - - - - - - - -\n",
      "  bad: 'z' wrt 'y2'\n",
      "     Forward Magnitude: 4.000000e+01\n",
      "          Fd Magnitude: 4.000000e+00 (fd:forward)\n",
      "\n",
      "    Absolute Error (Jfor - Jfd) : 3.600000e+01 *\n",
      "\n",
      "    Relative Error (Jfor - Jfd) / Jfd : 9.000000e+00 *\n",
      "\n",
      "    Raw Forward Derivative (Jfor)\n",
      "    [[40.]]\n",
      "\n",
      "    Raw FD Derivative (Jfd)\n",
      "    [[4.]]\n",
      "\n",
      " - - - - - - - - - - - - - - - - - - - - - - - - - - - - - -\n"
     ]
    },
    {
     "data": {
      "text/plain": [
       "{'good': {('y', 'x1'): {'J_fwd': array([[3.]]),\n",
       "   'J_fd': array([[3.]]),\n",
       "   'abs error': ErrorTuple(forward=4.688445187639445e-10, reverse=None, forward_reverse=None),\n",
       "   'rel error': ErrorTuple(forward=1.5628150627907208e-10, reverse=None, forward_reverse=None),\n",
       "   'magnitude': MagnitudeTuple(forward=3.0, reverse=None, fd=2.9999999995311555)},\n",
       "  ('y', 'x2'): {'J_fwd': array([[4.]]),\n",
       "   'J_fd': array([[4.]]),\n",
       "   'abs error': ErrorTuple(forward=5.591118679149076e-10, reverse=None, forward_reverse=None),\n",
       "   'rel error': ErrorTuple(forward=1.3977796695918903e-10, reverse=None, forward_reverse=None),\n",
       "   'magnitude': MagnitudeTuple(forward=4.0, reverse=None, fd=4.000000000559112)}},\n",
       " 'bad': {('z', 'y1'): {'J_fwd': array([[33.]]),\n",
       "   'J_fd': array([[3.00000001]]),\n",
       "   'abs error': ErrorTuple(forward=29.999999993363417, reverse=None, forward_reverse=None),\n",
       "   'rel error': ErrorTuple(forward=9.999999975665864, reverse=None, forward_reverse=None),\n",
       "   'magnitude': MagnitudeTuple(forward=33.0, reverse=None, fd=3.000000006636583)},\n",
       "  ('z', 'y2'): {'J_fwd': array([[40.]]),\n",
       "   'J_fd': array([[4.]]),\n",
       "   'abs error': ErrorTuple(forward=35.999999995888174, reverse=None, forward_reverse=None),\n",
       "   'rel error': ErrorTuple(forward=8.999999989720436, reverse=None, forward_reverse=None),\n",
       "   'magnitude': MagnitudeTuple(forward=40.0, reverse=None, fd=4.0000000041118255)}}}"
      ]
     },
     "execution_count": 8,
     "metadata": {},
     "output_type": "execute_result"
    }
   ],
   "source": [
    "import numpy as np\n",
    "import openmdao.api as om\n",
    "\n",
    "class MyCompGoodPartials(om.ExplicitComponent):\n",
    "    def setup(self):\n",
    "        self.add_input('x1', 3.0)\n",
    "        self.add_input('x2', 5.0)\n",
    "        self.add_output('y', 5.5)\n",
    "        self.declare_partials(of='*', wrt='*')\n",
    "\n",
    "    def compute(self, inputs, outputs):\n",
    "        outputs['y'] = 3.0 * inputs['x1'] + 4.0 * inputs['x2']\n",
    "\n",
    "    def compute_partials(self, inputs, partials):\n",
    "        \"\"\"Correct derivative.\"\"\"\n",
    "        J = partials\n",
    "        J['y', 'x1'] = np.array([3.0])\n",
    "        J['y', 'x2'] = np.array([4.0])\n",
    "\n",
    "class MyCompBadPartials(om.ExplicitComponent):\n",
    "    def setup(self):\n",
    "        self.add_input('y1', 3.0)\n",
    "        self.add_input('y2', 5.0)\n",
    "        self.add_output('z', 5.5)\n",
    "        self.declare_partials(of='*', wrt='*')\n",
    "\n",
    "    def compute(self, inputs, outputs):\n",
    "        outputs['z'] = 3.0 * inputs['y1'] + 4.0 * inputs['y2']\n",
    "\n",
    "    def compute_partials(self, inputs, partials):\n",
    "        \"\"\"Intentionally incorrect derivative.\"\"\"\n",
    "        J = partials\n",
    "        J['z', 'y1'] = np.array([33.0])\n",
    "        J['z', 'y2'] = np.array([40.0])\n",
    "\n",
    "prob = om.Problem()\n",
    "prob.model.add_subsystem('good', MyCompGoodPartials())\n",
    "prob.model.add_subsystem('bad', MyCompBadPartials())\n",
    "prob.model.connect('good.y', 'bad.y1')\n",
    "\n",
    "prob.set_solver_print(level=0)\n",
    "prob.setup()\n",
    "prob.run_model()\n",
    "\n",
    "prob.check_partials(compact_print=True, show_only_incorrect=True)\n",
    "prob.check_partials(compact_print=False, show_only_incorrect=True)"
   ]
  },
  {
   "attachments": {},
   "cell_type": "markdown",
   "id": "0b342f49",
   "metadata": {},
   "source": [
    "# Running With Multiple FD Step Sizes\n",
    "If the `step` argument is provided as a list of values instead of a single value, the FD partial derivatives will be evaluated and displayed for each given step size.  This can be useful in certain cases where complex step checks are not possible and the component(s) being checked are expensive to execute.  Supplying multiple FD step sizes in that case will only compute the analytic derivatives once and compare those to each computed FD derivative, which is less expensive than making a separate call to `check_partials` for each FD step size."
   ]
  }
 ],
 "metadata": {
  "celltoolbar": "Tags",
  "kernelspec": {
   "display_name": "Python 3",
   "language": "python",
   "name": "python3"
  },
  "language_info": {
   "codemirror_mode": {
    "name": "ipython",
    "version": 3
   },
   "file_extension": ".py",
   "mimetype": "text/x-python",
   "name": "python",
   "nbconvert_exporter": "python",
   "pygments_lexer": "ipython3",
   "version": "3.9.19"
  },
  "orphan": true
 },
 "nbformat": 4,
 "nbformat_minor": 5
}