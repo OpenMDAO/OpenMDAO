{
 "cells": [
  {
   "cell_type": "code",
   "execution_count": 1,
   "id": "815707ff",
   "metadata": {
    "tags": [
     "remove-input",
     "remove-output",
     "active-ipynb"
    ]
   },
   "outputs": [],
   "source": [
    "try:\n",
    "    from openmdao.utils.notebook_utils import notebook_mode\n",
    "except ImportError:\n",
    "    !python -m pip install openmdao[notebooks]"
   ]
  },
  {
   "cell_type": "markdown",
   "id": "c2fe3e7d",
   "metadata": {},
   "source": [
    "# Checking Partial Derivatives on a Subset of a Model\n",
    "## Includes and Excludes\n",
    "\n",
    "When you have a model with a large number of components, you may want to reduce the number of components you check so that the output is small and readable. The `check_partials` method has two arguments: “includes” and “excludes” that help you specify a reduced set. Both of these arguments are lists of strings that default to None. If you specify “includes”, and give it a list containing strings, then only the components whose full pathnames match one of the patterns in those strings are included in the check. Wildcards are acceptable in the string patterns. Likewise, if you specify excludes, then components whose pathname matches the given patterns will be excluded from the check.\n",
    "\n",
    "You can use both arguments together to hone in on the precise set of components you wish to check."
   ]
  },
  {
   "cell_type": "code",
   "execution_count": 2,
   "id": "b17c8523",
   "metadata": {
    "tags": [
     "remove-input",
     "remove-output"
    ]
   },
   "outputs": [],
   "source": [
    "from openmdao.utils.notebook_utils import get_code\n",
    "from myst_nb import glue\n",
    "glue(\"code_src62\", get_code(\"openmdao.test_suite.components.paraboloid.Paraboloid\"), display=False)"
   ]
  },
  {
   "cell_type": "markdown",
   "id": "2cc1bac6",
   "metadata": {},
   "source": [
    ":::{Admonition} `Paraboloid` class definition \n",
    ":class: dropdown\n",
    "\n",
    "{glue:}`code_src62`\n",
    ":::"
   ]
  },
  {
   "cell_type": "code",
   "execution_count": 3,
   "id": "cfed5500",
   "metadata": {},
   "outputs": [
    {
     "name": "stdout",
     "output_type": "stream",
     "text": [
      "------------------------------\n",
      "Component: Paraboloid 'c1c.d1'\n",
      "------------------------------\n",
      "\n",
      "+-----------------+------------------+-------------+-------------+-------------+-------------+------------+\n",
      "| of '<variable>' | wrt '<variable>' |   calc mag. |  check mag. |  a(cal-chk) |  r(cal-chk) | error desc |\n",
      "+=================+==================+=============+=============+=============+=============+============+\n",
      "| 'f_xy'          | 'x'              |  6.0000e+00 |  6.0000e+00 |  9.9925e-07 |  1.6654e-07 |            |\n",
      "+-----------------+------------------+-------------+-------------+-------------+-------------+------------+\n",
      "| 'f_xy'          | 'y'              |  8.0000e+00 |  8.0000e+00 |  9.9943e-07 |  1.2493e-07 |            |\n",
      "+-----------------+------------------+-------------+-------------+-------------+-------------+------------+\n",
      "------------------------------\n",
      "Component: Paraboloid 'c1c.e1'\n",
      "------------------------------\n",
      "\n",
      "+-----------------+------------------+-------------+-------------+-------------+-------------+------------+\n",
      "| of '<variable>' | wrt '<variable>' |   calc mag. |  check mag. |  a(cal-chk) |  r(cal-chk) | error desc |\n",
      "+=================+==================+=============+=============+=============+=============+============+\n",
      "| 'f_xy'          | 'x'              |  6.0000e+00 |  6.0000e+00 |  9.9925e-07 |  1.6654e-07 |            |\n",
      "+-----------------+------------------+-------------+-------------+-------------+-------------+------------+\n",
      "| 'f_xy'          | 'y'              |  8.0000e+00 |  8.0000e+00 |  9.9943e-07 |  1.2493e-07 |            |\n",
      "+-----------------+------------------+-------------+-------------+-------------+-------------+------------+\n",
      "-------------------------------\n",
      "Component: Paraboloid 'abc1cab'\n",
      "-------------------------------\n",
      "\n",
      "+-----------------+------------------+-------------+-------------+-------------+-------------+------------+\n",
      "| of '<variable>' | wrt '<variable>' |   calc mag. |  check mag. |  a(cal-chk) |  r(cal-chk) | error desc |\n",
      "+=================+==================+=============+=============+=============+=============+============+\n",
      "| 'f_xy'          | 'x'              |  6.0000e+00 |  6.0000e+00 |  9.9925e-07 |  1.6654e-07 |            |\n",
      "+-----------------+------------------+-------------+-------------+-------------+-------------+------------+\n",
      "| 'f_xy'          | 'y'              |  8.0000e+00 |  8.0000e+00 |  9.9943e-07 |  1.2493e-07 |            |\n",
      "+-----------------+------------------+-------------+-------------+-------------+-------------+------------+\n",
      "\n",
      "#############################################################\n",
      "Sub Jacobian with Largest Relative Error: Paraboloid 'c1c.d1'\n",
      "#############################################################\n",
      "+-----------------+------------------+-------------+-------------+-------------+-------------+\n",
      "| of '<variable>' | wrt '<variable>' |   calc mag. |  check mag. |  a(cal-chk) |  r(cal-chk) |\n",
      "+=================+==================+=============+=============+=============+=============+\n",
      "| 'f_xy'          | 'x'              |  6.0000e+00 |  6.0000e+00 |  9.9925e-07 |  1.6654e-07 |\n",
      "+-----------------+------------------+-------------+-------------+-------------+-------------+\n"
     ]
    },
    {
     "data": {
      "text/plain": [
       "{'c1c.d1': {('f_xy', 'x'): {'J_fwd': array([[-6.]]),\n",
       "   'J_fd': array([[-5.999999]]),\n",
       "   'abs error': ErrorTuple(forward=9.992502327804687e-07, reverse=None, forward_reverse=None),\n",
       "   'rel error': ErrorTuple(forward=1.6654173319955572e-07, reverse=None, forward_reverse=None),\n",
       "   'magnitude': MagnitudeTuple(forward=6.0, reverse=None, fd=5.999999000749767)},\n",
       "  ('f_xy', 'y'): {'J_fwd': array([[8.]]),\n",
       "   'J_fd': array([[8.000001]]),\n",
       "   'abs error': ErrorTuple(forward=9.994307674787706e-07, reverse=None, forward_reverse=None),\n",
       "   'rel error': ErrorTuple(forward=1.2492883032763172e-07, reverse=None, forward_reverse=None),\n",
       "   'magnitude': MagnitudeTuple(forward=8.0, reverse=None, fd=8.000000999430767)}},\n",
       " 'c1c.e1': {('f_xy', 'x'): {'J_fwd': array([[-6.]]),\n",
       "   'J_fd': array([[-5.999999]]),\n",
       "   'abs error': ErrorTuple(forward=9.992502327804687e-07, reverse=None, forward_reverse=None),\n",
       "   'rel error': ErrorTuple(forward=1.6654173319955572e-07, reverse=None, forward_reverse=None),\n",
       "   'magnitude': MagnitudeTuple(forward=6.0, reverse=None, fd=5.999999000749767)},\n",
       "  ('f_xy', 'y'): {'J_fwd': array([[8.]]),\n",
       "   'J_fd': array([[8.000001]]),\n",
       "   'abs error': ErrorTuple(forward=9.994307674787706e-07, reverse=None, forward_reverse=None),\n",
       "   'rel error': ErrorTuple(forward=1.2492883032763172e-07, reverse=None, forward_reverse=None),\n",
       "   'magnitude': MagnitudeTuple(forward=8.0, reverse=None, fd=8.000000999430767)}},\n",
       " 'abc1cab': {('f_xy', 'x'): {'J_fwd': array([[-6.]]),\n",
       "   'J_fd': array([[-5.999999]]),\n",
       "   'abs error': ErrorTuple(forward=9.992502327804687e-07, reverse=None, forward_reverse=None),\n",
       "   'rel error': ErrorTuple(forward=1.6654173319955572e-07, reverse=None, forward_reverse=None),\n",
       "   'magnitude': MagnitudeTuple(forward=6.0, reverse=None, fd=5.999999000749767)},\n",
       "  ('f_xy', 'y'): {'J_fwd': array([[8.]]),\n",
       "   'J_fd': array([[8.000001]]),\n",
       "   'abs error': ErrorTuple(forward=9.994307674787706e-07, reverse=None, forward_reverse=None),\n",
       "   'rel error': ErrorTuple(forward=1.2492883032763172e-07, reverse=None, forward_reverse=None),\n",
       "   'magnitude': MagnitudeTuple(forward=8.0, reverse=None, fd=8.000000999430767)}}}"
      ]
     },
     "execution_count": 3,
     "metadata": {},
     "output_type": "execute_result"
    }
   ],
   "source": [
    "import openmdao.api as om\n",
    "from openmdao.test_suite.components.paraboloid import Paraboloid\n",
    "\n",
    "prob = om.Problem()\n",
    "model = prob.model\n",
    "\n",
    "sub = model.add_subsystem('c1c', om.Group())\n",
    "sub.add_subsystem('d1', Paraboloid())\n",
    "sub.add_subsystem('e1', Paraboloid())\n",
    "\n",
    "sub2 = model.add_subsystem('sss', om.Group())\n",
    "sub3 = sub2.add_subsystem('sss2', om.Group())\n",
    "sub2.add_subsystem('d1', Paraboloid())\n",
    "sub3.add_subsystem('e1', Paraboloid())\n",
    "\n",
    "model.add_subsystem('abc1cab', Paraboloid())\n",
    "\n",
    "prob.setup()\n",
    "prob.run_model()\n",
    "\n",
    "prob.check_partials(compact_print=True, includes='*c*c*')"
   ]
  },
  {
   "cell_type": "code",
   "execution_count": 4,
   "id": "5d0ff687",
   "metadata": {},
   "outputs": [
    {
     "name": "stdout",
     "output_type": "stream",
     "text": [
      "------------------------------\n",
      "Component: Paraboloid 'c1c.d1'\n",
      "------------------------------\n",
      "\n",
      "+-----------------+------------------+-------------+-------------+-------------+-------------+------------+\n",
      "| of '<variable>' | wrt '<variable>' |   calc mag. |  check mag. |  a(cal-chk) |  r(cal-chk) | error desc |\n",
      "+=================+==================+=============+=============+=============+=============+============+\n",
      "| 'f_xy'          | 'x'              |  6.0000e+00 |  6.0000e+00 |  9.9925e-07 |  1.6654e-07 |            |\n",
      "+-----------------+------------------+-------------+-------------+-------------+-------------+------------+\n",
      "| 'f_xy'          | 'y'              |  8.0000e+00 |  8.0000e+00 |  9.9943e-07 |  1.2493e-07 |            |\n",
      "+-----------------+------------------+-------------+-------------+-------------+-------------+------------+\n",
      "------------------------------\n",
      "Component: Paraboloid 'c1c.e1'\n",
      "------------------------------\n",
      "\n",
      "+-----------------+------------------+-------------+-------------+-------------+-------------+------------+\n",
      "| of '<variable>' | wrt '<variable>' |   calc mag. |  check mag. |  a(cal-chk) |  r(cal-chk) | error desc |\n",
      "+=================+==================+=============+=============+=============+=============+============+\n",
      "| 'f_xy'          | 'x'              |  6.0000e+00 |  6.0000e+00 |  9.9925e-07 |  1.6654e-07 |            |\n",
      "+-----------------+------------------+-------------+-------------+-------------+-------------+------------+\n",
      "| 'f_xy'          | 'y'              |  8.0000e+00 |  8.0000e+00 |  9.9943e-07 |  1.2493e-07 |            |\n",
      "+-----------------+------------------+-------------+-------------+-------------+-------------+------------+\n",
      "-----------------------------------\n",
      "Component: Paraboloid 'sss.sss2.e1'\n",
      "-----------------------------------\n",
      "\n",
      "+-----------------+------------------+-------------+-------------+-------------+-------------+------------+\n",
      "| of '<variable>' | wrt '<variable>' |   calc mag. |  check mag. |  a(cal-chk) |  r(cal-chk) | error desc |\n",
      "+=================+==================+=============+=============+=============+=============+============+\n",
      "| 'f_xy'          | 'x'              |  6.0000e+00 |  6.0000e+00 |  9.9925e-07 |  1.6654e-07 |            |\n",
      "+-----------------+------------------+-------------+-------------+-------------+-------------+------------+\n",
      "| 'f_xy'          | 'y'              |  8.0000e+00 |  8.0000e+00 |  9.9943e-07 |  1.2493e-07 |            |\n",
      "+-----------------+------------------+-------------+-------------+-------------+-------------+------------+\n",
      "------------------------------\n",
      "Component: Paraboloid 'sss.d1'\n",
      "------------------------------\n",
      "\n",
      "+-----------------+------------------+-------------+-------------+-------------+-------------+------------+\n",
      "| of '<variable>' | wrt '<variable>' |   calc mag. |  check mag. |  a(cal-chk) |  r(cal-chk) | error desc |\n",
      "+=================+==================+=============+=============+=============+=============+============+\n",
      "| 'f_xy'          | 'x'              |  6.0000e+00 |  6.0000e+00 |  9.9925e-07 |  1.6654e-07 |            |\n",
      "+-----------------+------------------+-------------+-------------+-------------+-------------+------------+\n",
      "| 'f_xy'          | 'y'              |  8.0000e+00 |  8.0000e+00 |  9.9943e-07 |  1.2493e-07 |            |\n",
      "+-----------------+------------------+-------------+-------------+-------------+-------------+------------+\n",
      "\n",
      "#############################################################\n",
      "Sub Jacobian with Largest Relative Error: Paraboloid 'c1c.d1'\n",
      "#############################################################\n",
      "+-----------------+------------------+-------------+-------------+-------------+-------------+\n",
      "| of '<variable>' | wrt '<variable>' |   calc mag. |  check mag. |  a(cal-chk) |  r(cal-chk) |\n",
      "+=================+==================+=============+=============+=============+=============+\n",
      "| 'f_xy'          | 'x'              |  6.0000e+00 |  6.0000e+00 |  9.9925e-07 |  1.6654e-07 |\n",
      "+-----------------+------------------+-------------+-------------+-------------+-------------+\n"
     ]
    },
    {
     "data": {
      "text/plain": [
       "{'c1c.d1': {('f_xy', 'x'): {'J_fwd': array([[-6.]]),\n",
       "   'J_fd': array([[-5.999999]]),\n",
       "   'abs error': ErrorTuple(forward=9.992502327804687e-07, reverse=None, forward_reverse=None),\n",
       "   'rel error': ErrorTuple(forward=1.6654173319955572e-07, reverse=None, forward_reverse=None),\n",
       "   'magnitude': MagnitudeTuple(forward=6.0, reverse=None, fd=5.999999000749767)},\n",
       "  ('f_xy', 'y'): {'J_fwd': array([[8.]]),\n",
       "   'J_fd': array([[8.000001]]),\n",
       "   'abs error': ErrorTuple(forward=9.994307674787706e-07, reverse=None, forward_reverse=None),\n",
       "   'rel error': ErrorTuple(forward=1.2492883032763172e-07, reverse=None, forward_reverse=None),\n",
       "   'magnitude': MagnitudeTuple(forward=8.0, reverse=None, fd=8.000000999430767)}},\n",
       " 'c1c.e1': {('f_xy', 'x'): {'J_fwd': array([[-6.]]),\n",
       "   'J_fd': array([[-5.999999]]),\n",
       "   'abs error': ErrorTuple(forward=9.992502327804687e-07, reverse=None, forward_reverse=None),\n",
       "   'rel error': ErrorTuple(forward=1.6654173319955572e-07, reverse=None, forward_reverse=None),\n",
       "   'magnitude': MagnitudeTuple(forward=6.0, reverse=None, fd=5.999999000749767)},\n",
       "  ('f_xy', 'y'): {'J_fwd': array([[8.]]),\n",
       "   'J_fd': array([[8.000001]]),\n",
       "   'abs error': ErrorTuple(forward=9.994307674787706e-07, reverse=None, forward_reverse=None),\n",
       "   'rel error': ErrorTuple(forward=1.2492883032763172e-07, reverse=None, forward_reverse=None),\n",
       "   'magnitude': MagnitudeTuple(forward=8.0, reverse=None, fd=8.000000999430767)}},\n",
       " 'sss.sss2.e1': {('f_xy', 'x'): {'J_fwd': array([[-6.]]),\n",
       "   'J_fd': array([[-5.999999]]),\n",
       "   'abs error': ErrorTuple(forward=9.992502327804687e-07, reverse=None, forward_reverse=None),\n",
       "   'rel error': ErrorTuple(forward=1.6654173319955572e-07, reverse=None, forward_reverse=None),\n",
       "   'magnitude': MagnitudeTuple(forward=6.0, reverse=None, fd=5.999999000749767)},\n",
       "  ('f_xy', 'y'): {'J_fwd': array([[8.]]),\n",
       "   'J_fd': array([[8.000001]]),\n",
       "   'abs error': ErrorTuple(forward=9.994307674787706e-07, reverse=None, forward_reverse=None),\n",
       "   'rel error': ErrorTuple(forward=1.2492883032763172e-07, reverse=None, forward_reverse=None),\n",
       "   'magnitude': MagnitudeTuple(forward=8.0, reverse=None, fd=8.000000999430767)}},\n",
       " 'sss.d1': {('f_xy', 'x'): {'J_fwd': array([[-6.]]),\n",
       "   'J_fd': array([[-5.999999]]),\n",
       "   'abs error': ErrorTuple(forward=9.992502327804687e-07, reverse=None, forward_reverse=None),\n",
       "   'rel error': ErrorTuple(forward=1.6654173319955572e-07, reverse=None, forward_reverse=None),\n",
       "   'magnitude': MagnitudeTuple(forward=6.0, reverse=None, fd=5.999999000749767)},\n",
       "  ('f_xy', 'y'): {'J_fwd': array([[8.]]),\n",
       "   'J_fd': array([[8.000001]]),\n",
       "   'abs error': ErrorTuple(forward=9.994307674787706e-07, reverse=None, forward_reverse=None),\n",
       "   'rel error': ErrorTuple(forward=1.2492883032763172e-07, reverse=None, forward_reverse=None),\n",
       "   'magnitude': MagnitudeTuple(forward=8.0, reverse=None, fd=8.000000999430767)}}}"
      ]
     },
     "execution_count": 4,
     "metadata": {},
     "output_type": "execute_result"
    }
   ],
   "source": [
    "prob.check_partials(compact_print=True, includes=['*d1', '*e1'])"
   ]
  },
  {
   "cell_type": "code",
   "execution_count": 5,
   "id": "c3fba2c2",
   "metadata": {},
   "outputs": [
    {
     "name": "stdout",
     "output_type": "stream",
     "text": [
      "-------------------------------\n",
      "Component: Paraboloid 'abc1cab'\n",
      "-------------------------------\n",
      "\n",
      "+-----------------+------------------+-------------+-------------+-------------+-------------+------------+\n",
      "| of '<variable>' | wrt '<variable>' |   calc mag. |  check mag. |  a(cal-chk) |  r(cal-chk) | error desc |\n",
      "+=================+==================+=============+=============+=============+=============+============+\n",
      "| 'f_xy'          | 'x'              |  6.0000e+00 |  6.0000e+00 |  9.9925e-07 |  1.6654e-07 |            |\n",
      "+-----------------+------------------+-------------+-------------+-------------+-------------+------------+\n",
      "| 'f_xy'          | 'y'              |  8.0000e+00 |  8.0000e+00 |  9.9943e-07 |  1.2493e-07 |            |\n",
      "+-----------------+------------------+-------------+-------------+-------------+-------------+------------+\n",
      "\n",
      "##############################################################\n",
      "Sub Jacobian with Largest Relative Error: Paraboloid 'abc1cab'\n",
      "##############################################################\n",
      "+-----------------+------------------+-------------+-------------+-------------+-------------+\n",
      "| of '<variable>' | wrt '<variable>' |   calc mag. |  check mag. |  a(cal-chk) |  r(cal-chk) |\n",
      "+=================+==================+=============+=============+=============+=============+\n",
      "| 'f_xy'          | 'x'              |  6.0000e+00 |  6.0000e+00 |  9.9925e-07 |  1.6654e-07 |\n",
      "+-----------------+------------------+-------------+-------------+-------------+-------------+\n"
     ]
    },
    {
     "data": {
      "text/plain": [
       "{'abc1cab': {('f_xy', 'x'): {'J_fwd': array([[-6.]]),\n",
       "   'J_fd': array([[-5.999999]]),\n",
       "   'abs error': ErrorTuple(forward=9.992502327804687e-07, reverse=None, forward_reverse=None),\n",
       "   'rel error': ErrorTuple(forward=1.6654173319955572e-07, reverse=None, forward_reverse=None),\n",
       "   'magnitude': MagnitudeTuple(forward=6.0, reverse=None, fd=5.999999000749767)},\n",
       "  ('f_xy', 'y'): {'J_fwd': array([[8.]]),\n",
       "   'J_fd': array([[8.000001]]),\n",
       "   'abs error': ErrorTuple(forward=9.994307674787706e-07, reverse=None, forward_reverse=None),\n",
       "   'rel error': ErrorTuple(forward=1.2492883032763172e-07, reverse=None, forward_reverse=None),\n",
       "   'magnitude': MagnitudeTuple(forward=8.0, reverse=None, fd=8.000000999430767)}}}"
      ]
     },
     "execution_count": 5,
     "metadata": {},
     "output_type": "execute_result"
    }
   ],
   "source": [
    "prob.check_partials(compact_print=True, includes=['abc1cab'])"
   ]
  },
  {
   "cell_type": "code",
   "execution_count": 6,
   "id": "483cb335",
   "metadata": {
    "pycharm": {
     "name": "#%%\n"
    }
   },
   "outputs": [
    {
     "name": "stdout",
     "output_type": "stream",
     "text": [
      "------------------------------\n",
      "Component: Paraboloid 'c1c.d1'\n",
      "------------------------------\n",
      "\n",
      "+-----------------+------------------+-------------+-------------+-------------+-------------+------------+\n",
      "| of '<variable>' | wrt '<variable>' |   calc mag. |  check mag. |  a(cal-chk) |  r(cal-chk) | error desc |\n",
      "+=================+==================+=============+=============+=============+=============+============+\n",
      "| 'f_xy'          | 'x'              |  6.0000e+00 |  6.0000e+00 |  9.9925e-07 |  1.6654e-07 |            |\n",
      "+-----------------+------------------+-------------+-------------+-------------+-------------+------------+\n",
      "| 'f_xy'          | 'y'              |  8.0000e+00 |  8.0000e+00 |  9.9943e-07 |  1.2493e-07 |            |\n",
      "+-----------------+------------------+-------------+-------------+-------------+-------------+------------+\n",
      "-------------------------------\n",
      "Component: Paraboloid 'abc1cab'\n",
      "-------------------------------\n",
      "\n",
      "+-----------------+------------------+-------------+-------------+-------------+-------------+------------+\n",
      "| of '<variable>' | wrt '<variable>' |   calc mag. |  check mag. |  a(cal-chk) |  r(cal-chk) | error desc |\n",
      "+=================+==================+=============+=============+=============+=============+============+\n",
      "| 'f_xy'          | 'x'              |  6.0000e+00 |  6.0000e+00 |  9.9925e-07 |  1.6654e-07 |            |\n",
      "+-----------------+------------------+-------------+-------------+-------------+-------------+------------+\n",
      "| 'f_xy'          | 'y'              |  8.0000e+00 |  8.0000e+00 |  9.9943e-07 |  1.2493e-07 |            |\n",
      "+-----------------+------------------+-------------+-------------+-------------+-------------+------------+\n",
      "\n",
      "#############################################################\n",
      "Sub Jacobian with Largest Relative Error: Paraboloid 'c1c.d1'\n",
      "#############################################################\n",
      "+-----------------+------------------+-------------+-------------+-------------+-------------+\n",
      "| of '<variable>' | wrt '<variable>' |   calc mag. |  check mag. |  a(cal-chk) |  r(cal-chk) |\n",
      "+=================+==================+=============+=============+=============+=============+\n",
      "| 'f_xy'          | 'x'              |  6.0000e+00 |  6.0000e+00 |  9.9925e-07 |  1.6654e-07 |\n",
      "+-----------------+------------------+-------------+-------------+-------------+-------------+\n"
     ]
    },
    {
     "data": {
      "text/plain": [
       "{'c1c.d1': {('f_xy', 'x'): {'J_fwd': array([[-6.]]),\n",
       "   'J_fd': array([[-5.999999]]),\n",
       "   'abs error': ErrorTuple(forward=9.992502327804687e-07, reverse=None, forward_reverse=None),\n",
       "   'rel error': ErrorTuple(forward=1.6654173319955572e-07, reverse=None, forward_reverse=None),\n",
       "   'magnitude': MagnitudeTuple(forward=6.0, reverse=None, fd=5.999999000749767)},\n",
       "  ('f_xy', 'y'): {'J_fwd': array([[8.]]),\n",
       "   'J_fd': array([[8.000001]]),\n",
       "   'abs error': ErrorTuple(forward=9.994307674787706e-07, reverse=None, forward_reverse=None),\n",
       "   'rel error': ErrorTuple(forward=1.2492883032763172e-07, reverse=None, forward_reverse=None),\n",
       "   'magnitude': MagnitudeTuple(forward=8.0, reverse=None, fd=8.000000999430767)}},\n",
       " 'abc1cab': {('f_xy', 'x'): {'J_fwd': array([[-6.]]),\n",
       "   'J_fd': array([[-5.999999]]),\n",
       "   'abs error': ErrorTuple(forward=9.992502327804687e-07, reverse=None, forward_reverse=None),\n",
       "   'rel error': ErrorTuple(forward=1.6654173319955572e-07, reverse=None, forward_reverse=None),\n",
       "   'magnitude': MagnitudeTuple(forward=6.0, reverse=None, fd=5.999999000749767)},\n",
       "  ('f_xy', 'y'): {'J_fwd': array([[8.]]),\n",
       "   'J_fd': array([[8.000001]]),\n",
       "   'abs error': ErrorTuple(forward=9.994307674787706e-07, reverse=None, forward_reverse=None),\n",
       "   'rel error': ErrorTuple(forward=1.2492883032763172e-07, reverse=None, forward_reverse=None),\n",
       "   'magnitude': MagnitudeTuple(forward=8.0, reverse=None, fd=8.000000999430767)}}}"
      ]
     },
     "execution_count": 6,
     "metadata": {},
     "output_type": "execute_result"
    }
   ],
   "source": [
    "prob.check_partials(compact_print=True, includes='*c*c*', excludes=['*e*'])"
   ]
  }
 ],
 "metadata": {
  "celltoolbar": "Tags",
  "kernelspec": {
   "display_name": "Python 3",
   "language": "python",
   "name": "python3"
  },
  "language_info": {
   "codemirror_mode": {
    "name": "ipython",
    "version": 3
   },
   "file_extension": ".py",
   "mimetype": "text/x-python",
   "name": "python",
   "nbconvert_exporter": "python",
   "pygments_lexer": "ipython3",
   "version": "3.9.19"
  },
  "orphan": true
 },
 "nbformat": 4,
 "nbformat_minor": 5
}