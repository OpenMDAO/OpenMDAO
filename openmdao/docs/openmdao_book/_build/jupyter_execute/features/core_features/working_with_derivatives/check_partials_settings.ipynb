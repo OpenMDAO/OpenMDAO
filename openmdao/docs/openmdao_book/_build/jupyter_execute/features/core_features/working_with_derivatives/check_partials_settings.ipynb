{
 "cells": [
  {
   "cell_type": "code",
   "execution_count": 1,
   "id": "associate-silicon",
   "metadata": {
    "tags": [
     "remove-input",
     "remove-output",
     "active-ipynb"
    ]
   },
   "outputs": [],
   "source": [
    "try:\n",
    "    from openmdao.utils.notebook_utils import notebook_mode\n",
    "except ImportError:\n",
    "    !python -m pip install openmdao[notebooks]"
   ]
  },
  {
   "cell_type": "markdown",
   "id": "herbal-skating",
   "metadata": {},
   "source": [
    "# Changing Check Settings for FD or CS\n",
    "\n",
    "## Changing Settings for Inputs on a Specific Component\n",
    "\n",
    "You can change the settings for the approximation schemes that will be used to compare with your component’s derivatives by calling the `set_check_partial_options` method."
   ]
  },
  {
   "cell_type": "markdown",
   "id": "beautiful-ethernet",
   "metadata": {},
   "source": [
    "```{eval-rst}\n",
    "    .. automethod:: openmdao.core.component.Component.set_check_partial_options\n",
    "        :noindex:\n",
    "```"
   ]
  },
  {
   "cell_type": "markdown",
   "id": "received-nightmare",
   "metadata": {},
   "source": [
    "```{Note}\n",
    "If you want to use method=”cs”, then you must also pass `force_alloc_complex`=True to setup. See the example below.\n",
    "``` "
   ]
  },
  {
   "cell_type": "markdown",
   "id": "piano-disease",
   "metadata": {},
   "source": [
    "This allows custom tailoring of the approximation settings on a variable basis."
   ]
  },
  {
   "cell_type": "markdown",
   "id": "unavailable-anaheim",
   "metadata": {},
   "source": [
    "## Usage Examples"
   ]
  },
  {
   "cell_type": "code",
   "execution_count": 2,
   "id": "embedded-traveler",
   "metadata": {
    "tags": [
     "remove-input",
     "remove-output"
    ]
   },
   "outputs": [],
   "source": [
    "from openmdao.utils.notebook_utils import get_code\n",
    "from myst_nb import glue\n",
    "glue(\"code_src59\", get_code(\"openmdao.test_suite.components.paraboloid_mat_vec.ParaboloidMatVec\"), display=False)"
   ]
  },
  {
   "cell_type": "markdown",
   "id": "vocational-capitol",
   "metadata": {},
   "source": [
    ":::{Admonition} `ParaboloidMatVec` class definition \n",
    ":class: dropdown\n",
    "\n",
    "{glue:}`code_src59`\n",
    ":::"
   ]
  },
  {
   "cell_type": "code",
   "execution_count": 3,
   "id": "related-premium",
   "metadata": {
    "tags": [
     "remove-input",
     "remove-output"
    ]
   },
   "outputs": [],
   "source": [
    "from openmdao.utils.notebook_utils import get_code\n",
    "from myst_nb import glue\n",
    "glue(\"code_src60\", get_code(\"openmdao.core.tests.test_check_partials.ParaboloidTricky\"), display=False)"
   ]
  },
  {
   "cell_type": "markdown",
   "id": "mighty-companion",
   "metadata": {},
   "source": [
    ":::{Admonition} `ParaboloidTricky` class definition \n",
    ":class: dropdown\n",
    "\n",
    "{glue:}`code_src60`\n",
    ":::"
   ]
  },
  {
   "cell_type": "code",
   "execution_count": 4,
   "id": "angry-drive",
   "metadata": {
    "scrolled": true
   },
   "outputs": [
    {
     "name": "stdout",
     "output_type": "stream",
     "text": [
      "----------------------------------\n",
      "Component: ParaboloidTricky 'comp'\n",
      "----------------------------------\n",
      "\n",
      "+-----------------+------------------+-------------+----------+-------------+-------------+------------+------------+-------------+------------+------------+------------+\n",
      "| of '<variable>' | wrt '<variable>' |    fwd mag. | rev mag. |  check mag. |  a(fwd-chk) | a(rev-chk) | a(fwd-rev) |  r(fwd-chk) | r(rev-chk) | r(fwd-rev) | error desc |\n",
      "+=================+==================+=============+==========+=============+=============+============+============+=============+============+============+============+\n",
      "| 'f_xy'          | 'x'              |  6.0000e-07 | n/a      |  6.0000e-07 |  4.9644e-14 | n/a        | n/a        |  8.2740e-08 | n/a        | n/a        |            |\n",
      "+-----------------+------------------+-------------+----------+-------------+-------------+------------+------------+-------------+------------+------------+------------+\n",
      "| 'f_xy'          | 'y'              |  8.0000e-07 | n/a      |  8.0000e-07 |  6.6192e-14 | n/a        | n/a        |  8.2740e-08 | n/a        | n/a        |            |\n",
      "+-----------------+------------------+-------------+----------+-------------+-------------+------------+------------+-------------+------------+------------+------------+\n",
      "-----------------------------------\n",
      "Component: ParaboloidMatVec 'comp2'\n",
      "-----------------------------------\n",
      "\n",
      "+-----------------+------------------+-------------+-------------+-------------+-------------+-------------+-------------+-------------+-------------+-------------+------------+\n",
      "| of '<variable>' | wrt '<variable>' |    fwd mag. |    rev mag. |  check mag. |  a(fwd-chk) |  a(rev-chk) |  a(fwd-rev) |  r(fwd-chk) |  r(rev-chk) |  r(fwd-rev) | error desc |\n",
      "+=================+==================+=============+=============+=============+=============+=============+=============+=============+=============+=============+============+\n",
      "| 'f_xy'          | 'x'              |  3.8000e+01 |  3.8000e+01 |  3.8000e+01 |  1.0409e-06 |  1.0409e-06 |  0.0000e+00 |  2.7393e-08 |  2.7393e-08 |  0.0000e+00 |  >ABS_TOL  |\n",
      "+-----------------+------------------+-------------+-------------+-------------+-------------+-------------+-------------+-------------+-------------+-------------+------------+\n",
      "| 'f_xy'          | 'y'              |  3.0000e+01 |  3.0000e+01 |  3.0000e+01 |  1.0043e-06 |  1.0043e-06 |  0.0000e+00 |  3.3476e-08 |  3.3476e-08 |  0.0000e+00 |  >ABS_TOL  |\n",
      "+-----------------+------------------+-------------+-------------+-------------+-------------+-------------+-------------+-------------+-------------+-------------+------------+\n",
      "\n",
      "#################################################################\n",
      "Sub Jacobian with Largest Relative Error: ParaboloidTricky 'comp'\n",
      "#################################################################\n",
      "+-----------------+------------------+-------------+----------+-------------+-------------+------------+------------+-------------+------------+------------+\n",
      "| of '<variable>' | wrt '<variable>' |    fwd mag. | rev mag. |  check mag. |  a(fwd-chk) | a(rev-chk) | a(fwd-rev) |  r(fwd-chk) | r(rev-chk) | r(fwd-rev) |\n",
      "+=================+==================+=============+==========+=============+=============+============+============+=============+============+============+\n",
      "| 'f_xy'          | 'x'              |  6.0000e-07 | n/a      |  6.0000e-07 |  4.9644e-14 | n/a        | n/a        |  8.2740e-08 | n/a        | n/a        |\n",
      "+-----------------+------------------+-------------+----------+-------------+-------------+------------+------------+-------------+------------+------------+\n"
     ]
    },
    {
     "data": {
      "text/plain": [
       "{'comp': {('f_xy', 'x'): {'J_fwd': array([[-6.e-07]]),\n",
       "   'J_fd': array([[-6.0000005e-07]]),\n",
       "   'abs error': ErrorTuple(forward=4.964422262660536e-14, reverse=None, forward_reverse=None),\n",
       "   'rel error': ErrorTuple(forward=8.274036419837383e-08, reverse=None, forward_reverse=None),\n",
       "   'magnitude': MagnitudeTuple(forward=6e-07, reverse=None, fd=6.000000496442226e-07)},\n",
       "  ('f_xy', 'y'): {'J_fwd': array([[8.e-07]]),\n",
       "   'J_fd': array([[8.00000066e-07]]),\n",
       "   'abs error': ErrorTuple(forward=6.619229683547381e-14, reverse=None, forward_reverse=None),\n",
       "   'rel error': ErrorTuple(forward=8.274036419837383e-08, reverse=None, forward_reverse=None),\n",
       "   'magnitude': MagnitudeTuple(forward=8e-07, reverse=None, fd=8.000000661922968e-07)}},\n",
       " 'comp2': {('f_xy', 'x'): {'J_fwd': array([[38.]]),\n",
       "   'J_rev': array([[38.]]),\n",
       "   'J_fd': array([[38.00000104]]),\n",
       "   'abs error': ErrorTuple(forward=1.0409276001155376e-06, reverse=1.0409276001155376e-06, forward_reverse=0.0),\n",
       "   'rel error': ErrorTuple(forward=2.739283083162063e-08, reverse=2.739283083162063e-08, forward_reverse=0.0),\n",
       "   'magnitude': MagnitudeTuple(forward=38.0, reverse=38.0, fd=38.0000010409276)},\n",
       "  ('f_xy', 'y'): {'J_fwd': array([[30.]]),\n",
       "   'J_rev': array([[30.]]),\n",
       "   'J_fd': array([[30.000001]]),\n",
       "   'abs error': ErrorTuple(forward=1.0042822395917028e-06, reverse=1.0042822395917028e-06, forward_reverse=0.0),\n",
       "   'rel error': ErrorTuple(forward=3.3476073532409224e-08, reverse=3.3476073532409224e-08, forward_reverse=0.0),\n",
       "   'magnitude': MagnitudeTuple(forward=30.0, reverse=30.0, fd=30.00000100428224)}}}"
      ]
     },
     "execution_count": 4,
     "metadata": {},
     "output_type": "execute_result"
    }
   ],
   "source": [
    "import openmdao.api as om\n",
    "from openmdao.core.tests.test_check_partials import ParaboloidTricky\n",
    "from openmdao.test_suite.components.paraboloid_mat_vec import ParaboloidMatVec\n",
    "\n",
    "prob = om.Problem()\n",
    "\n",
    "comp = prob.model.add_subsystem('comp', ParaboloidTricky())\n",
    "prob.model.add_subsystem('comp2', ParaboloidMatVec())\n",
    "\n",
    "prob.model.connect('comp.f_xy', 'comp2.x')\n",
    "\n",
    "prob.set_solver_print(level=0)\n",
    "\n",
    "comp.set_check_partial_options(wrt='*', step=1e-2)\n",
    "\n",
    "prob.setup()\n",
    "prob.run_model()\n",
    "\n",
    "prob.check_partials(compact_print=True)"
   ]
  },
  {
   "cell_type": "markdown",
   "id": "owned-diana",
   "metadata": {},
   "source": [
    "Here, we show how to set the method. In this case, we use complex step on TrickyParaboloid because the finite difference is less accurate."
   ]
  },
  {
   "cell_type": "markdown",
   "id": "bright-despite",
   "metadata": {},
   "source": [
    "---"
   ]
  },
  {
   "cell_type": "markdown",
   "id": "square-disclaimer",
   "metadata": {},
   "source": [
    "```{Note}\n",
    "You need to `set force_alloc_complex` to True during setup to utilize complex step during a check.\n",
    "```"
   ]
  },
  {
   "cell_type": "code",
   "execution_count": 5,
   "id": "legal-drinking",
   "metadata": {},
   "outputs": [
    {
     "name": "stdout",
     "output_type": "stream",
     "text": [
      "----------------------------------\n",
      "Component: ParaboloidTricky 'comp'\n",
      "----------------------------------\n",
      "\n",
      "+-----------------+------------------+-------------+----------+-------------+-------------+------------+------------+-------------+------------+------------+------------+\n",
      "| of '<variable>' | wrt '<variable>' |    fwd mag. | rev mag. |  check mag. |  a(fwd-chk) | a(rev-chk) | a(fwd-rev) |  r(fwd-chk) | r(rev-chk) | r(fwd-rev) | error desc |\n",
      "+=================+==================+=============+==========+=============+=============+============+============+=============+============+============+============+\n",
      "| 'f_xy'          | 'x'              |  6.0000e-07 | n/a      |  6.0000e-07 |  0.0000e+00 | n/a        | n/a        |  0.0000e+00 | n/a        | n/a        |            |\n",
      "+-----------------+------------------+-------------+----------+-------------+-------------+------------+------------+-------------+------------+------------+------------+\n",
      "| 'f_xy'          | 'y'              |  8.0000e-07 | n/a      |  8.0000e-07 |  1.0588e-22 | n/a        | n/a        |  1.3235e-16 | n/a        | n/a        |            |\n",
      "+-----------------+------------------+-------------+----------+-------------+-------------+------------+------------+-------------+------------+------------+------------+\n",
      "-----------------------------------\n",
      "Component: ParaboloidMatVec 'comp2'\n",
      "-----------------------------------\n",
      "\n",
      "+-----------------+------------------+-------------+-------------+-------------+-------------+-------------+-------------+-------------+-------------+-------------+------------+\n",
      "| of '<variable>' | wrt '<variable>' |    fwd mag. |    rev mag. |  check mag. |  a(fwd-chk) |  a(rev-chk) |  a(fwd-rev) |  r(fwd-chk) |  r(rev-chk) |  r(fwd-rev) | error desc |\n",
      "+=================+==================+=============+=============+=============+=============+=============+=============+=============+=============+=============+============+\n",
      "| 'f_xy'          | 'x'              |  3.8000e+01 |  3.8000e+01 |  3.8000e+01 |  1.0409e-06 |  1.0409e-06 |  0.0000e+00 |  2.7393e-08 |  2.7393e-08 |  0.0000e+00 |  >ABS_TOL  |\n",
      "+-----------------+------------------+-------------+-------------+-------------+-------------+-------------+-------------+-------------+-------------+-------------+------------+\n",
      "| 'f_xy'          | 'y'              |  3.0000e+01 |  3.0000e+01 |  3.0000e+01 |  1.0043e-06 |  1.0043e-06 |  0.0000e+00 |  3.3476e-08 |  3.3476e-08 |  0.0000e+00 |  >ABS_TOL  |\n",
      "+-----------------+------------------+-------------+-------------+-------------+-------------+-------------+-------------+-------------+-------------+-------------+------------+\n",
      "\n",
      "##################################################################\n",
      "Sub Jacobian with Largest Relative Error: ParaboloidMatVec 'comp2'\n",
      "##################################################################\n",
      "+-----------------+------------------+-------------+-------------+-------------+-------------+-------------+-------------+-------------+-------------+-------------+\n",
      "| of '<variable>' | wrt '<variable>' |    fwd mag. |    rev mag. |  check mag. |  a(fwd-chk) |  a(rev-chk) |  a(fwd-rev) |  r(fwd-chk) |  r(rev-chk) |  r(fwd-rev) |\n",
      "+=================+==================+=============+=============+=============+=============+=============+=============+=============+=============+=============+\n",
      "| 'f_xy'          | 'y'              |  3.0000e+01 |  3.0000e+01 |  3.0000e+01 |  1.0043e-06 |  1.0043e-06 |  0.0000e+00 |  3.3476e-08 |  3.3476e-08 |  0.0000e+00 |\n",
      "+-----------------+------------------+-------------+-------------+-------------+-------------+-------------+-------------+-------------+-------------+-------------+\n"
     ]
    },
    {
     "data": {
      "text/plain": [
       "{'comp': {('f_xy', 'x'): {'J_fwd': array([[-6.e-07]]),\n",
       "   'J_fd': array([[-6.e-07]]),\n",
       "   'abs error': ErrorTuple(forward=0.0, reverse=None, forward_reverse=None),\n",
       "   'rel error': ErrorTuple(forward=0.0, reverse=None, forward_reverse=None),\n",
       "   'magnitude': MagnitudeTuple(forward=6e-07, reverse=None, fd=6e-07)},\n",
       "  ('f_xy', 'y'): {'J_fwd': array([[8.e-07]]),\n",
       "   'J_fd': array([[8.e-07]]),\n",
       "   'abs error': ErrorTuple(forward=1.0587911840678754e-22, reverse=None, forward_reverse=None),\n",
       "   'rel error': ErrorTuple(forward=1.3234889800848445e-16, reverse=None, forward_reverse=None),\n",
       "   'magnitude': MagnitudeTuple(forward=8e-07, reverse=None, fd=7.999999999999999e-07)}},\n",
       " 'comp2': {('f_xy', 'x'): {'J_fwd': array([[38.]]),\n",
       "   'J_rev': array([[38.]]),\n",
       "   'J_fd': array([[38.00000104]]),\n",
       "   'abs error': ErrorTuple(forward=1.0409276001155376e-06, reverse=1.0409276001155376e-06, forward_reverse=0.0),\n",
       "   'rel error': ErrorTuple(forward=2.739283083162063e-08, reverse=2.739283083162063e-08, forward_reverse=0.0),\n",
       "   'magnitude': MagnitudeTuple(forward=38.0, reverse=38.0, fd=38.0000010409276)},\n",
       "  ('f_xy', 'y'): {'J_fwd': array([[30.]]),\n",
       "   'J_rev': array([[30.]]),\n",
       "   'J_fd': array([[30.000001]]),\n",
       "   'abs error': ErrorTuple(forward=1.0042822395917028e-06, reverse=1.0042822395917028e-06, forward_reverse=0.0),\n",
       "   'rel error': ErrorTuple(forward=3.3476073532409224e-08, reverse=3.3476073532409224e-08, forward_reverse=0.0),\n",
       "   'magnitude': MagnitudeTuple(forward=30.0, reverse=30.0, fd=30.00000100428224)}}}"
      ]
     },
     "execution_count": 5,
     "metadata": {},
     "output_type": "execute_result"
    }
   ],
   "source": [
    "import openmdao.api as om\n",
    "from openmdao.core.tests.test_check_partials import ParaboloidTricky\n",
    "from openmdao.test_suite.components.paraboloid_mat_vec import ParaboloidMatVec\n",
    "\n",
    "prob = om.Problem()\n",
    "\n",
    "comp = prob.model.add_subsystem('comp', ParaboloidTricky())\n",
    "prob.model.add_subsystem('comp2', ParaboloidMatVec())\n",
    "\n",
    "prob.model.connect('comp.f_xy', 'comp2.x')\n",
    "\n",
    "prob.set_solver_print(level=0)\n",
    "\n",
    "comp.set_check_partial_options(wrt='*', method='cs')\n",
    "\n",
    "prob.setup(force_alloc_complex=True)\n",
    "prob.run_model()\n",
    "\n",
    "prob.check_partials(compact_print=True)"
   ]
  },
  {
   "cell_type": "markdown",
   "id": "civilian-silicon",
   "metadata": {},
   "source": [
    "## Directional Derivatives\n",
    "You can also specify that an input or set of inputs be checked using a directional derivative. For vector inputs, this means that, instead of calculating the derivative with respect to each element of the array, we calculate the derivative with respect to a linear combination of all array indices. For finite difference and complex step, the step value is applied simultaneously to all elements of the vector. This is a much quicker check because it only requires a single execution of the component for the variable rather than one for each element of the array."
   ]
  },
  {
   "cell_type": "code",
   "execution_count": 6,
   "id": "superior-document",
   "metadata": {
    "tags": [
     "remove-input",
     "remove-output"
    ]
   },
   "outputs": [],
   "source": [
    "from openmdao.utils.notebook_utils import get_code\n",
    "from myst_nb import glue\n",
    "glue(\"code_src61\", get_code(\"openmdao.test_suite.components.array_comp.ArrayComp\"), display=False)"
   ]
  },
  {
   "cell_type": "markdown",
   "id": "educated-stevens",
   "metadata": {},
   "source": [
    ":::{Admonition} `ArrayComp` class definition \n",
    ":class: dropdown\n",
    "\n",
    "{glue:}`code_src61`\n",
    ":::"
   ]
  },
  {
   "cell_type": "code",
   "execution_count": 7,
   "id": "formed-campbell",
   "metadata": {
    "scrolled": true
   },
   "outputs": [
    {
     "name": "stdout",
     "output_type": "stream",
     "text": [
      "-----------------------------\n",
      "Component: ArrayComp 'mycomp'\n",
      "-----------------------------\n",
      "\n",
      "  mycomp: 'y1' wrt 'bb'\n",
      "     Forward Magnitude: 1.640884e+01\n",
      "          Fd Magnitude: 1.640884e+01 (fd:forward)\n",
      "\n",
      "    Absolute Error (Jfor - Jfd) : 0.000000e+00\n",
      "\n",
      "    Relative Error (Jfor - Jfd) / Jfd : 0.000000e+00\n",
      "\n",
      "    Raw Forward Derivative (Jfor)\n",
      "    [[ 1.   6.  -1.   1. ]\n",
      "     [ 3.   2.5  0.   4. ]\n",
      "     [-2.   2.   8.  -5. ]\n",
      "     [ 7.   4.   1.   6. ]]\n",
      "\n",
      "    Raw FD Derivative (Jfd)\n",
      "    [[ 1.   6.  -1.   1. ]\n",
      "     [ 3.   2.5  0.   4. ]\n",
      "     [-2.   2.   8.  -5. ]\n",
      "     [ 7.   4.   1.   6. ]]\n",
      "\n",
      " - - - - - - - - - - - - - - - - - - - - - - - - - - - - - -\n",
      "  mycomp: 'y1' wrt (d)'x1'\n",
      "     Forward Magnitude: 1.978004e+01\n",
      "          Fd Magnitude: 1.978004e+01 (fd:forward)\n",
      "\n",
      "\n",
      "\n",
      "    Directional Derivative (Jfor)\n",
      "    [[ 9. ]\n",
      "     [14.5]\n",
      "     [ 8. ]\n",
      "     [ 6. ]]\n",
      "\n",
      "    Directional FD Derivative (Jfd)\n",
      "    [[ 9. ]\n",
      " [14.5]\n",
      " [ 8. ]\n",
      " [ 6. ]]\n",
      "\n",
      " - - - - - - - - - - - - - - - - - - - - - - - - - - - - - -\n",
      "  mycomp: 'y1' wrt (d)'x2'\n",
      "     Forward Magnitude: 6.527413e+01\n",
      "          Fd Magnitude: 6.527413e+01 (fd:forward)\n",
      "\n",
      "\n",
      "\n",
      "    Directional Derivative (Jfor)\n",
      "    [[29.7 ]\n",
      "     [47.85]\n",
      "     [26.4 ]\n",
      "     [19.8 ]]\n",
      "\n",
      "    Directional FD Derivative (Jfd)\n",
      "    [[29.7 ]\n",
      " [47.85]\n",
      " [26.4 ]\n",
      " [19.8 ]]\n",
      "\n",
      " - - - - - - - - - - - - - - - - - - - - - - - - - - - - - -\n"
     ]
    }
   ],
   "source": [
    "import openmdao.api as om\n",
    "from openmdao.test_suite.components.array_comp import ArrayComp\n",
    "\n",
    "prob = om.Problem()\n",
    "model = prob.model\n",
    "mycomp = model.add_subsystem('mycomp', ArrayComp(), promotes=['*'])\n",
    "\n",
    "prob.setup()\n",
    "prob.run_model()\n",
    "\n",
    "data = prob.check_partials()"
   ]
  },
  {
   "cell_type": "markdown",
   "id": "facial-container",
   "metadata": {},
   "source": [
    "If your component is matrix-free and you request directional derivatives, then your reverse mode derivatives will be verified using the dot product test described [here](http://www.reproducibility.org/RSF/book/gee/ajt/paper_html/node20.html)."
   ]
  },
  {
   "cell_type": "code",
   "execution_count": 8,
   "id": "rational-stock",
   "metadata": {
    "scrolled": true
   },
   "outputs": [
    {
     "name": "stdout",
     "output_type": "stream",
     "text": [
      "---------------------------------------\n",
      "Component: ArrayCompMatrixFree 'mycomp'\n",
      "---------------------------------------\n",
      "\n",
      "  mycomp: 'y1' wrt (d)'bb'\n",
      "     Forward Magnitude: 1.226664e+01\n",
      "          Fd Magnitude: 1.226664e+01 (fd:forward)\n",
      "\n",
      "    Absolute Error ([rev, fd] Dot Product Test) : 8.881784e-16\n",
      "    Absolute Error ([rev, for] Dot Product Test) : 0.000000e+00\n",
      "\n",
      "    Relative Error ([rev, fd] Dot Product Test) / Jfd : 7.240598e-17\n",
      "    Relative Error ([rev, for] Dot Product Test) / Jfd : 0.000000e+00\n",
      "\n",
      "    Directional Derivative (Jfor)\n",
      "    [[  2.16595527]\n",
      "     [ -5.08839636]\n",
      "     [ -0.67806251]\n",
      "     [-10.92829629]]\n",
      "\n",
      "    Directional FD Derivative (Jfd)\n",
      "    [[  2.16595527]\n",
      " [ -5.08839636]\n",
      " [ -0.67806251]\n",
      " [-10.92829629]]\n",
      "\n",
      " - - - - - - - - - - - - - - - - - - - - - - - - - - - - - -\n",
      "  mycomp: 'y1' wrt (d)'x1'\n",
      "     Forward Magnitude: 1.153363e+01\n",
      "          Fd Magnitude: 1.153363e+01 (fd:forward)\n",
      "\n",
      "    Absolute Error ([rev, fd] Dot Product Test) : 0.000000e+00\n",
      "    Absolute Error ([rev, for] Dot Product Test) : 0.000000e+00\n",
      "\n",
      "    Relative Error ([rev, fd] Dot Product Test) / Jfd : 0.000000e+00\n",
      "    Relative Error ([rev, for] Dot Product Test) / Jfd : 0.000000e+00\n",
      "\n",
      "    Directional Derivative (Jfor)\n",
      "    [[-5.09211587]\n",
      "     [ 1.03555382]\n",
      "     [ 7.12004186]\n",
      "     [-7.43826013]]\n",
      "\n",
      "    Directional FD Derivative (Jfd)\n",
      "    [[-5.09211587]\n",
      " [ 1.03555382]\n",
      " [ 7.12004186]\n",
      " [-7.43826013]]\n",
      "\n",
      " - - - - - - - - - - - - - - - - - - - - - - - - - - - - - -\n",
      "  mycomp: 'y1' wrt (d)'x2'\n",
      "     Forward Magnitude: 2.302051e+01\n",
      "          Fd Magnitude: 2.302051e+01 (fd:forward)\n",
      "\n",
      "    Absolute Error ([rev, fd] Dot Product Test) : 1.776357e-15\n",
      "    Absolute Error ([rev, for] Dot Product Test) : 1.776357e-15\n",
      "\n",
      "    Relative Error ([rev, fd] Dot Product Test) / Jfd : 7.716411e-17\n",
      "    Relative Error ([rev, for] Dot Product Test) / Jfd : 7.716411e-17\n",
      "\n",
      "    Directional Derivative (Jfor)\n",
      "    [[13.9695051 ]\n",
      "     [ 7.47025025]\n",
      "     [11.46157416]\n",
      "     [12.15007425]]\n",
      "\n",
      "    Directional FD Derivative (Jfd)\n",
      "    [[13.9695051 ]\n",
      " [ 7.47025025]\n",
      " [11.46157416]\n",
      " [12.15007425]]\n",
      "\n",
      " - - - - - - - - - - - - - - - - - - - - - - - - - - - - - -\n"
     ]
    }
   ],
   "source": [
    "import numpy as np\n",
    "\n",
    "import openmdao.api as om\n",
    "\n",
    "class ArrayCompMatrixFree(om.ExplicitComponent):\n",
    "\n",
    "    def setup(self):\n",
    "\n",
    "        J1 = np.array([[1.0, 3.0, -2.0, 7.0],\n",
    "                        [6.0, 2.5, 2.0, 4.0],\n",
    "                        [-1.0, 0.0, 8.0, 1.0],\n",
    "                        [1.0, 4.0, -5.0, 6.0]])\n",
    "\n",
    "        self.J1 = J1\n",
    "        self.J2 = J1 * 3.3\n",
    "        self.Jb = J1.T\n",
    "\n",
    "        # Inputs\n",
    "        self.add_input('x1', np.zeros([4]))\n",
    "        self.add_input('x2', np.zeros([4]))\n",
    "        self.add_input('bb', np.zeros([4]))\n",
    "\n",
    "        # Outputs\n",
    "        self.add_output('y1', np.zeros([4]))\n",
    "\n",
    "        self.set_check_partial_options('*', directional=True)\n",
    "\n",
    "    def compute(self, inputs, outputs):\n",
    "        \"\"\"\n",
    "        Execution.\n",
    "        \"\"\"\n",
    "        outputs['y1'] = self.J1.dot(inputs['x1']) + self.J2.dot(inputs['x2']) + self.Jb.dot(inputs['bb'])\n",
    "\n",
    "    def compute_jacvec_product(self, inputs, dinputs, doutputs, mode):\n",
    "        \"\"\"Returns the product of the incoming vector with the Jacobian.\"\"\"\n",
    "\n",
    "        if mode == 'fwd':\n",
    "            if 'x1' in dinputs:\n",
    "                doutputs['y1'] += self.J1.dot(dinputs['x1'])\n",
    "            if 'x2' in dinputs:\n",
    "                doutputs['y1'] += self.J2.dot(dinputs['x2'])\n",
    "            if 'bb' in dinputs:\n",
    "                doutputs['y1'] += self.Jb.dot(dinputs['bb'])\n",
    "\n",
    "        elif mode == 'rev':\n",
    "            if 'x1' in dinputs:\n",
    "                dinputs['x1'] += self.J1.T.dot(doutputs['y1'])\n",
    "            if 'x2' in dinputs:\n",
    "                dinputs['x2'] += self.J2.T.dot(doutputs['y1'])\n",
    "            if 'bb' in dinputs:\n",
    "                dinputs['bb'] += self.Jb.T.dot(doutputs['y1'])\n",
    "\n",
    "prob = om.Problem()\n",
    "model = prob.model\n",
    "model.add_subsystem('mycomp', ArrayCompMatrixFree(), promotes=['*'])\n",
    "\n",
    "prob.setup()\n",
    "prob.run_model()\n",
    "\n",
    "data = prob.check_partials()"
   ]
  },
  {
   "cell_type": "markdown",
   "id": "reasonable-honey",
   "metadata": {},
   "source": [
    "## Changing Global Settings For Whole Model"
   ]
  },
  {
   "cell_type": "markdown",
   "id": "academic-charge",
   "metadata": {},
   "source": [
    "You can change the settings globally for all approximations used for all components. This is done by passing in a value for any of the following arguments:"
   ]
  },
  {
   "attachments": {},
   "cell_type": "markdown",
   "id": "noble-triumph",
   "metadata": {},
   "source": [
    "| Name      | Description                                                                                    |\n",
    "|-----------|------------------------------------------------------------------------------------------------|\n",
    "| method    | Method for check: “fd” for finite difference, “cs” for complex step.                           |\n",
    "| form      | Finite difference form for check, can be “forward”, “central”, or backward.                    |\n",
    "| step      | Step size for finite difference check.                                                         |\n",
    "| step_calc | When \"abs\", the step is absolute. A relative step can also be chosen with one of the values in table below.                                |\n",
    "| minimum_step | Minimum allowable step when using one of the relative step_calc options. |\n",
    "\n",
    "If you need to scale the finite difference step by the variable's magnitude, the following additional choices for \"step_calc\" are available:\n",
    "\n",
    "| step_calc       | Step size is scaled by |\n",
    "| :---            |    :----:                                       |\n",
    "| \"rel_avg\"       | Average absolute value of the vector.           |\n",
    "| \"rel_element\"   | Absolute value of each vector element.          |\n",
    "| \"rel_legacy\"    | Norm of the vector.                             |\n",
    "| \"rel\"           | Same as \"rel__avg\".                             |\n"
   ]
  },
  {
   "cell_type": "markdown",
   "id": "interior-guest",
   "metadata": {},
   "source": [
    "```{Note}\n",
    "The global check options take precedence over the ones defined on a component.\n",
    "``` "
   ]
  },
  {
   "cell_type": "markdown",
   "id": "fancy-voltage",
   "metadata": {},
   "source": [
    "## Usage Examples"
   ]
  },
  {
   "cell_type": "code",
   "execution_count": 9,
   "id": "municipal-recruitment",
   "metadata": {
    "scrolled": true
   },
   "outputs": [
    {
     "name": "stdout",
     "output_type": "stream",
     "text": [
      "----------------------------------\n",
      "Component: ParaboloidTricky 'comp'\n",
      "----------------------------------\n",
      "\n",
      "+-----------------+------------------+-------------+----------+-------------+-------------+------------+------------+-------------+------------+------------+------------+\n",
      "| of '<variable>' | wrt '<variable>' |    fwd mag. | rev mag. |  check mag. |  a(fwd-chk) | a(rev-chk) | a(fwd-rev) |  r(fwd-chk) | r(rev-chk) | r(fwd-rev) | error desc |\n",
      "+=================+==================+=============+==========+=============+=============+============+============+=============+============+============+============+\n",
      "| 'f_xy'          | 'x'              |  6.0000e-07 | n/a      |  6.0000e-07 |  4.9644e-14 | n/a        | n/a        |  8.2740e-08 | n/a        | n/a        |            |\n",
      "+-----------------+------------------+-------------+----------+-------------+-------------+------------+------------+-------------+------------+------------+------------+\n",
      "| 'f_xy'          | 'y'              |  8.0000e-07 | n/a      |  8.0000e-07 |  6.6192e-14 | n/a        | n/a        |  8.2740e-08 | n/a        | n/a        |            |\n",
      "+-----------------+------------------+-------------+----------+-------------+-------------+------------+------------+-------------+------------+------------+------------+\n",
      "-----------------------------------\n",
      "Component: ParaboloidMatVec 'comp2'\n",
      "-----------------------------------\n",
      "\n",
      "+-----------------+------------------+-------------+-------------+-------------+-------------+-------------+-------------+-------------+-------------+-------------+--------------------+\n",
      "| of '<variable>' | wrt '<variable>' |    fwd mag. |    rev mag. |  check mag. |  a(fwd-chk) |  a(rev-chk) |  a(fwd-rev) |  r(fwd-chk) |  r(rev-chk) |  r(fwd-rev) | error desc         |\n",
      "+=================+==================+=============+=============+=============+=============+=============+=============+=============+=============+=============+====================+\n",
      "| 'f_xy'          | 'x'              |  3.8000e+01 |  3.8000e+01 |  3.8010e+01 |  1.0000e-02 |  1.0000e-02 |  0.0000e+00 |  2.6309e-04 |  2.6309e-04 |  0.0000e+00 |  >ABS_TOL >REL_TOL |\n",
      "+-----------------+------------------+-------------+-------------+-------------+-------------+-------------+-------------+-------------+-------------+-------------+--------------------+\n",
      "| 'f_xy'          | 'y'              |  3.0000e+01 |  3.0000e+01 |  3.0010e+01 |  1.0000e-02 |  1.0000e-02 |  0.0000e+00 |  3.3322e-04 |  3.3322e-04 |  0.0000e+00 |  >ABS_TOL >REL_TOL |\n",
      "+-----------------+------------------+-------------+-------------+-------------+-------------+-------------+-------------+-------------+-------------+-------------+--------------------+\n",
      "\n",
      "##################################################################\n",
      "Sub Jacobian with Largest Relative Error: ParaboloidMatVec 'comp2'\n",
      "##################################################################\n",
      "+-----------------+------------------+-------------+-------------+-------------+-------------+-------------+-------------+-------------+-------------+-------------+\n",
      "| of '<variable>' | wrt '<variable>' |    fwd mag. |    rev mag. |  check mag. |  a(fwd-chk) |  a(rev-chk) |  a(fwd-rev) |  r(fwd-chk) |  r(rev-chk) |  r(fwd-rev) |\n",
      "+=================+==================+=============+=============+=============+=============+=============+=============+=============+=============+=============+\n",
      "| 'f_xy'          | 'y'              |  3.0000e+01 |  3.0000e+01 |  3.0010e+01 |  1.0000e-02 |  1.0000e-02 |  0.0000e+00 |  3.3322e-04 |  3.3322e-04 |  0.0000e+00 |\n",
      "+-----------------+------------------+-------------+-------------+-------------+-------------+-------------+-------------+-------------+-------------+-------------+\n"
     ]
    },
    {
     "data": {
      "text/plain": [
       "{'comp': {('f_xy', 'x'): {'J_fwd': array([[-6.e-07]]),\n",
       "   'J_fd': array([[-6.0000005e-07]]),\n",
       "   'abs error': ErrorTuple(forward=4.964422262660536e-14, reverse=None, forward_reverse=None),\n",
       "   'rel error': ErrorTuple(forward=8.274036419837383e-08, reverse=None, forward_reverse=None),\n",
       "   'magnitude': MagnitudeTuple(forward=6e-07, reverse=None, fd=6.000000496442226e-07)},\n",
       "  ('f_xy', 'y'): {'J_fwd': array([[8.e-07]]),\n",
       "   'J_fd': array([[8.00000066e-07]]),\n",
       "   'abs error': ErrorTuple(forward=6.619229683547381e-14, reverse=None, forward_reverse=None),\n",
       "   'rel error': ErrorTuple(forward=8.274036419837383e-08, reverse=None, forward_reverse=None),\n",
       "   'magnitude': MagnitudeTuple(forward=8e-07, reverse=None, fd=8.000000661922968e-07)}},\n",
       " 'comp2': {('f_xy', 'x'): {'J_fwd': array([[38.]]),\n",
       "   'J_rev': array([[38.]]),\n",
       "   'J_fd': array([[38.01]]),\n",
       "   'abs error': ErrorTuple(forward=0.010000000008403731, reverse=0.010000000008403731, forward_reverse=0.0),\n",
       "   'rel error': ErrorTuple(forward=0.0002630886610997506, reverse=0.0002630886610997506, forward_reverse=0.0),\n",
       "   'magnitude': MagnitudeTuple(forward=38.0, reverse=38.0, fd=38.010000000008404)},\n",
       "  ('f_xy', 'y'): {'J_fwd': array([[30.]]),\n",
       "   'J_rev': array([[30.]]),\n",
       "   'J_fd': array([[30.01]]),\n",
       "   'abs error': ErrorTuple(forward=0.010000000004311005, reverse=0.010000000004311005, forward_reverse=0.0),\n",
       "   'rel error': ErrorTuple(forward=0.0003332222593905221, reverse=0.0003332222593905221, forward_reverse=0.0),\n",
       "   'magnitude': MagnitudeTuple(forward=30.0, reverse=30.0, fd=30.01000000000431)}}}"
      ]
     },
     "execution_count": 9,
     "metadata": {},
     "output_type": "execute_result"
    }
   ],
   "source": [
    "import openmdao.api as om\n",
    "from openmdao.core.tests.test_check_partials import ParaboloidTricky\n",
    "from openmdao.test_suite.components.paraboloid_mat_vec import ParaboloidMatVec\n",
    "\n",
    "prob = om.Problem()\n",
    "\n",
    "prob.model.add_subsystem('comp', ParaboloidTricky())\n",
    "prob.model.add_subsystem('comp2', ParaboloidMatVec())\n",
    "\n",
    "prob.model.connect('comp.f_xy', 'comp2.x')\n",
    "\n",
    "prob.set_solver_print(level=0)\n",
    "\n",
    "prob.setup()\n",
    "prob.run_model()\n",
    "\n",
    "prob.check_partials(step=1e-2, compact_print=True)"
   ]
  },
  {
   "cell_type": "markdown",
   "id": "velvet-element",
   "metadata": {},
   "source": [
    "Here is an example where we check our partials using complex step.\n",
    "\n",
    "```{Note}\n",
    "You need to set `force_alloc_complex` to True during setup to utilize complex step during a check.\n",
    "```"
   ]
  },
  {
   "cell_type": "code",
   "execution_count": 10,
   "id": "affected-seattle",
   "metadata": {},
   "outputs": [
    {
     "name": "stdout",
     "output_type": "stream",
     "text": [
      "----------------------------------\n",
      "Component: ParaboloidTricky 'comp'\n",
      "----------------------------------\n",
      "\n",
      "+-----------------+------------------+-------------+----------+-------------+-------------+------------+------------+-------------+------------+------------+------------+\n",
      "| of '<variable>' | wrt '<variable>' |    fwd mag. | rev mag. |  check mag. |  a(fwd-chk) | a(rev-chk) | a(fwd-rev) |  r(fwd-chk) | r(rev-chk) | r(fwd-rev) | error desc |\n",
      "+=================+==================+=============+==========+=============+=============+============+============+=============+============+============+============+\n",
      "| 'f_xy'          | 'x'              |  6.0000e-07 | n/a      |  6.0000e-07 |  0.0000e+00 | n/a        | n/a        |  0.0000e+00 | n/a        | n/a        |            |\n",
      "+-----------------+------------------+-------------+----------+-------------+-------------+------------+------------+-------------+------------+------------+------------+\n",
      "| 'f_xy'          | 'y'              |  8.0000e-07 | n/a      |  8.0000e-07 |  1.0588e-22 | n/a        | n/a        |  1.3235e-16 | n/a        | n/a        |            |\n",
      "+-----------------+------------------+-------------+----------+-------------+-------------+------------+------------+-------------+------------+------------+------------+\n",
      "-----------------------------------\n",
      "Component: ParaboloidMatVec 'comp2'\n",
      "-----------------------------------\n",
      "\n",
      "+-----------------+------------------+-------------+-------------+-------------+-------------+-------------+-------------+-------------+-------------+-------------+------------+\n",
      "| of '<variable>' | wrt '<variable>' |    fwd mag. |    rev mag. |  check mag. |  a(fwd-chk) |  a(rev-chk) |  a(fwd-rev) |  r(fwd-chk) |  r(rev-chk) |  r(fwd-rev) | error desc |\n",
      "+=================+==================+=============+=============+=============+=============+=============+=============+=============+=============+=============+============+\n",
      "| 'f_xy'          | 'x'              |  3.8000e+01 |  3.8000e+01 |  3.8000e+01 |  0.0000e+00 |  0.0000e+00 |  0.0000e+00 |  0.0000e+00 |  0.0000e+00 |  0.0000e+00 |            |\n",
      "+-----------------+------------------+-------------+-------------+-------------+-------------+-------------+-------------+-------------+-------------+-------------+------------+\n",
      "| 'f_xy'          | 'y'              |  3.0000e+01 |  3.0000e+01 |  3.0000e+01 |  3.5527e-15 |  3.5527e-15 |  0.0000e+00 |  1.1842e-16 |  1.1842e-16 |  0.0000e+00 |            |\n",
      "+-----------------+------------------+-------------+-------------+-------------+-------------+-------------+-------------+-------------+-------------+-------------+------------+\n",
      "\n",
      "#################################################################\n",
      "Sub Jacobian with Largest Relative Error: ParaboloidTricky 'comp'\n",
      "#################################################################\n",
      "+-----------------+------------------+-------------+----------+-------------+-------------+------------+------------+-------------+------------+------------+\n",
      "| of '<variable>' | wrt '<variable>' |    fwd mag. | rev mag. |  check mag. |  a(fwd-chk) | a(rev-chk) | a(fwd-rev) |  r(fwd-chk) | r(rev-chk) | r(fwd-rev) |\n",
      "+=================+==================+=============+==========+=============+=============+============+============+=============+============+============+\n",
      "| 'f_xy'          | 'y'              |  8.0000e-07 | n/a      |  8.0000e-07 |  1.0588e-22 | n/a        | n/a        |  1.3235e-16 | n/a        | n/a        |\n",
      "+-----------------+------------------+-------------+----------+-------------+-------------+------------+------------+-------------+------------+------------+\n"
     ]
    },
    {
     "data": {
      "text/plain": [
       "{'comp': {('f_xy', 'x'): {'J_fwd': array([[-6.e-07]]),\n",
       "   'J_fd': array([[-6.e-07]]),\n",
       "   'abs error': ErrorTuple(forward=0.0, reverse=None, forward_reverse=None),\n",
       "   'rel error': ErrorTuple(forward=0.0, reverse=None, forward_reverse=None),\n",
       "   'magnitude': MagnitudeTuple(forward=6e-07, reverse=None, fd=6e-07)},\n",
       "  ('f_xy', 'y'): {'J_fwd': array([[8.e-07]]),\n",
       "   'J_fd': array([[8.e-07]]),\n",
       "   'abs error': ErrorTuple(forward=1.0587911840678754e-22, reverse=None, forward_reverse=None),\n",
       "   'rel error': ErrorTuple(forward=1.3234889800848445e-16, reverse=None, forward_reverse=None),\n",
       "   'magnitude': MagnitudeTuple(forward=8e-07, reverse=None, fd=7.999999999999999e-07)}},\n",
       " 'comp2': {('f_xy', 'x'): {'J_fwd': array([[38.]]),\n",
       "   'J_rev': array([[38.]]),\n",
       "   'J_fd': array([[38.]]),\n",
       "   'abs error': ErrorTuple(forward=0.0, reverse=0.0, forward_reverse=0.0),\n",
       "   'rel error': ErrorTuple(forward=0.0, reverse=0.0, forward_reverse=0.0),\n",
       "   'magnitude': MagnitudeTuple(forward=38.0, reverse=38.0, fd=38.0)},\n",
       "  ('f_xy', 'y'): {'J_fwd': array([[30.]]),\n",
       "   'J_rev': array([[30.]]),\n",
       "   'J_fd': array([[30.]]),\n",
       "   'abs error': ErrorTuple(forward=3.552713678800501e-15, reverse=3.552713678800501e-15, forward_reverse=0.0),\n",
       "   'rel error': ErrorTuple(forward=1.1842378929335005e-16, reverse=1.1842378929335005e-16, forward_reverse=0.0),\n",
       "   'magnitude': MagnitudeTuple(forward=30.0, reverse=30.0, fd=29.999999999999996)}}}"
      ]
     },
     "execution_count": 10,
     "metadata": {},
     "output_type": "execute_result"
    }
   ],
   "source": [
    "import openmdao.api as om\n",
    "from openmdao.core.tests.test_check_partials import ParaboloidTricky\n",
    "from openmdao.test_suite.components.paraboloid_mat_vec import ParaboloidMatVec\n",
    "\n",
    "prob = om.Problem()\n",
    "\n",
    "prob.model.add_subsystem('comp', ParaboloidTricky())\n",
    "prob.model.add_subsystem('comp2', ParaboloidMatVec())\n",
    "\n",
    "prob.model.connect('comp.f_xy', 'comp2.x')\n",
    "\n",
    "prob.set_solver_print(level=0)\n",
    "\n",
    "prob.setup(force_alloc_complex=True)\n",
    "prob.run_model()\n",
    "\n",
    "prob.check_partials(method='cs', compact_print=True)"
   ]
  },
  {
   "cell_type": "markdown",
   "id": "otherwise-sheet",
   "metadata": {},
   "source": [
    "In this example, we check our partials with finite difference, but we use central differencing for more accuracy."
   ]
  },
  {
   "cell_type": "code",
   "execution_count": 11,
   "id": "closed-blood",
   "metadata": {
    "scrolled": true
   },
   "outputs": [
    {
     "name": "stdout",
     "output_type": "stream",
     "text": [
      "----------------------------------\n",
      "Component: ParaboloidTricky 'comp'\n",
      "----------------------------------\n",
      "\n",
      "+-----------------+------------------+-------------+----------+-------------+-------------+------------+------------+-------------+------------+------------+------------+\n",
      "| of '<variable>' | wrt '<variable>' |    fwd mag. | rev mag. |  check mag. |  a(fwd-chk) | a(rev-chk) | a(fwd-rev) |  r(fwd-chk) | r(rev-chk) | r(fwd-rev) | error desc |\n",
      "+=================+==================+=============+==========+=============+=============+============+============+=============+============+============+============+\n",
      "| 'f_xy'          | 'x'              |  6.0000e-07 | n/a      |  5.9863e-07 |  1.3677e-09 | n/a        | n/a        |  2.2848e-03 | n/a        | n/a        |  >REL_TOL  |\n",
      "+-----------------+------------------+-------------+----------+-------------+-------------+------------+------------+-------------+------------+------------+------------+\n",
      "| 'f_xy'          | 'y'              |  8.0000e-07 | n/a      |  8.0114e-07 |  1.1369e-09 | n/a        | n/a        |  1.4192e-03 | n/a        | n/a        |  >REL_TOL  |\n",
      "+-----------------+------------------+-------------+----------+-------------+-------------+------------+------------+-------------+------------+------------+------------+\n",
      "-----------------------------------\n",
      "Component: ParaboloidMatVec 'comp2'\n",
      "-----------------------------------\n",
      "\n",
      "+-----------------+------------------+-------------+-------------+-------------+-------------+-------------+-------------+-------------+-------------+-------------+------------+\n",
      "| of '<variable>' | wrt '<variable>' |    fwd mag. |    rev mag. |  check mag. |  a(fwd-chk) |  a(rev-chk) |  a(fwd-rev) |  r(fwd-chk) |  r(rev-chk) |  r(fwd-rev) | error desc |\n",
      "+=================+==================+=============+=============+=============+=============+=============+=============+=============+=============+=============+============+\n",
      "| 'f_xy'          | 'x'              |  3.8000e+01 |  3.8000e+01 |  3.8000e+01 |  4.6168e-08 |  4.6168e-08 |  0.0000e+00 |  1.2149e-09 |  1.2149e-09 |  0.0000e+00 |            |\n",
      "+-----------------+------------------+-------------+-------------+-------------+-------------+-------------+-------------+-------------+-------------+-------------+------------+\n",
      "| 'f_xy'          | 'y'              |  3.0000e+01 |  3.0000e+01 |  3.0000e+01 |  9.5224e-09 |  9.5224e-09 |  0.0000e+00 |  3.1741e-10 |  3.1741e-10 |  0.0000e+00 |            |\n",
      "+-----------------+------------------+-------------+-------------+-------------+-------------+-------------+-------------+-------------+-------------+-------------+------------+\n",
      "\n",
      "#################################################################\n",
      "Sub Jacobian with Largest Relative Error: ParaboloidTricky 'comp'\n",
      "#################################################################\n",
      "+-----------------+------------------+-------------+----------+-------------+-------------+------------+------------+-------------+------------+------------+\n",
      "| of '<variable>' | wrt '<variable>' |    fwd mag. | rev mag. |  check mag. |  a(fwd-chk) | a(rev-chk) | a(fwd-rev) |  r(fwd-chk) | r(rev-chk) | r(fwd-rev) |\n",
      "+=================+==================+=============+==========+=============+=============+============+============+=============+============+============+\n",
      "| 'f_xy'          | 'x'              |  6.0000e-07 | n/a      |  5.9863e-07 |  1.3677e-09 | n/a        | n/a        |  2.2848e-03 | n/a        | n/a        |\n",
      "+-----------------+------------------+-------------+----------+-------------+-------------+------------+------------+-------------+------------+------------+\n"
     ]
    },
    {
     "data": {
      "text/plain": [
       "{'comp': {('f_xy', 'x'): {'J_fwd': array([[-6.e-07]]),\n",
       "   'J_fd': array([[-5.98632255e-07]]),\n",
       "   'abs error': ErrorTuple(forward=1.3677451221155663e-09, reverse=None, forward_reverse=None),\n",
       "   'rel error': ErrorTuple(forward=0.0022847835394278477, reverse=None, forward_reverse=None),\n",
       "   'magnitude': MagnitudeTuple(forward=6e-07, reverse=None, fd=5.986322548778844e-07)},\n",
       "  ('f_xy', 'y'): {'J_fwd': array([[8.e-07]]),\n",
       "   'J_fd': array([[8.01136935e-07]]),\n",
       "   'abs error': ErrorTuple(forward=1.1369345695129958e-09, reverse=None, forward_reverse=None),\n",
       "   'rel error': ErrorTuple(forward=0.0014191513590918411, reverse=None, forward_reverse=None),\n",
       "   'magnitude': MagnitudeTuple(forward=8e-07, reverse=None, fd=8.01136934569513e-07)}},\n",
       " 'comp2': {('f_xy', 'x'): {'J_fwd': array([[38.]]),\n",
       "   'J_rev': array([[38.]]),\n",
       "   'J_fd': array([[38.00000005]]),\n",
       "   'abs error': ErrorTuple(forward=4.616777005139738e-08, reverse=4.616777005139738e-08, forward_reverse=0.0),\n",
       "   'rel error': ErrorTuple(forward=1.214941315665954e-09, reverse=1.214941315665954e-09, forward_reverse=0.0),\n",
       "   'magnitude': MagnitudeTuple(forward=38.0, reverse=38.0, fd=38.00000004616777)},\n",
       "  ('f_xy', 'y'): {'J_fwd': array([[30.]]),\n",
       "   'J_rev': array([[30.]]),\n",
       "   'J_fd': array([[30.00000001]]),\n",
       "   'abs error': ErrorTuple(forward=9.522409527562559e-09, reverse=9.522409527562559e-09, forward_reverse=0.0),\n",
       "   'rel error': ErrorTuple(forward=3.1741365081800053e-10, reverse=3.1741365081800053e-10, forward_reverse=0.0),\n",
       "   'magnitude': MagnitudeTuple(forward=30.0, reverse=30.0, fd=30.00000000952241)}}}"
      ]
     },
     "execution_count": 11,
     "metadata": {},
     "output_type": "execute_result"
    }
   ],
   "source": [
    "import openmdao.api as om\n",
    "from openmdao.core.tests.test_check_partials import ParaboloidTricky\n",
    "from openmdao.test_suite.components.paraboloid_mat_vec import ParaboloidMatVec\n",
    "\n",
    "prob = om.Problem()\n",
    "\n",
    "prob.model.add_subsystem('comp', ParaboloidTricky())\n",
    "prob.model.add_subsystem('comp2', ParaboloidMatVec())\n",
    "\n",
    "prob.model.connect('comp.f_xy', 'comp2.x')\n",
    "\n",
    "prob.set_solver_print(level=0)\n",
    "\n",
    "prob.setup()\n",
    "prob.run_model()\n",
    "\n",
    "prob.check_partials(form='central', compact_print=True)"
   ]
  },
  {
   "cell_type": "markdown",
   "id": "reduced-richmond",
   "metadata": {},
   "source": [
    "In this example, we use a relative step-size. This is sometimes needed for casese where an input variable's value can be in a wide range of orders of magnitude, and we don't want the step size to become to small or large for it."
   ]
  },
  {
   "cell_type": "code",
   "execution_count": 12,
   "id": "multiple-tiffany",
   "metadata": {},
   "outputs": [
    {
     "name": "stdout",
     "output_type": "stream",
     "text": [
      "----------------------------------\n",
      "Component: ParaboloidTricky 'comp'\n",
      "----------------------------------\n",
      "\n",
      "+-----------------+------------------+-------------+-------------+-------------+-------------+------------+\n",
      "| of '<variable>' | wrt '<variable>' |   calc mag. |  check mag. |  a(cal-chk) |  r(cal-chk) | error desc |\n",
      "+=================+==================+=============+=============+=============+=============+============+\n",
      "| 'f_xy'          | 'x'              |  6.0000e-07 |  0.0000e+00 |  6.0000e-07 |  1.0000e+00 |  >REL_TOL  |\n",
      "+-----------------+------------------+-------------+-------------+-------------+-------------+------------+\n",
      "| 'f_xy'          | 'y'              |  8.0000e-07 |  0.0000e+00 |  8.0000e-07 |  1.0000e+00 |  >REL_TOL  |\n",
      "+-----------------+------------------+-------------+-------------+-------------+-------------+------------+\n",
      "\n",
      "#################################################################\n",
      "Sub Jacobian with Largest Relative Error: ParaboloidTricky 'comp'\n",
      "#################################################################\n",
      "+-----------------+------------------+-------------+-------------+-------------+-------------+\n",
      "| of '<variable>' | wrt '<variable>' |   calc mag. |  check mag. |  a(cal-chk) |  r(cal-chk) |\n",
      "+=================+==================+=============+=============+=============+=============+\n",
      "| 'f_xy'          | 'x'              |  6.0000e-07 |  0.0000e+00 |  6.0000e-07 |  1.0000e+00 |\n",
      "+-----------------+------------------+-------------+-------------+-------------+-------------+\n"
     ]
    },
    {
     "data": {
      "text/plain": [
       "{'comp': {('f_xy', 'x'): {'J_fwd': array([[-6.e-07]]),\n",
       "   'J_fd': array([[0.]]),\n",
       "   'abs error': ErrorTuple(forward=6e-07, reverse=None, forward_reverse=None),\n",
       "   'rel error': ErrorTuple(forward=1.0, reverse=None, forward_reverse=None),\n",
       "   'magnitude': MagnitudeTuple(forward=6e-07, reverse=None, fd=0.0)},\n",
       "  ('f_xy', 'y'): {'J_fwd': array([[8.e-07]]),\n",
       "   'J_fd': array([[0.]]),\n",
       "   'abs error': ErrorTuple(forward=8e-07, reverse=None, forward_reverse=None),\n",
       "   'rel error': ErrorTuple(forward=1.0, reverse=None, forward_reverse=None),\n",
       "   'magnitude': MagnitudeTuple(forward=8e-07, reverse=None, fd=0.0)}}}"
      ]
     },
     "execution_count": 12,
     "metadata": {},
     "output_type": "execute_result"
    }
   ],
   "source": [
    "import openmdao.api as om\n",
    "from openmdao.core.tests.test_check_partials import ParaboloidTricky\n",
    "\n",
    "prob = om.Problem()\n",
    "\n",
    "prob.model.add_subsystem('comp', ParaboloidTricky())\n",
    "\n",
    "prob.set_solver_print(level=0)\n",
    "\n",
    "prob.setup()\n",
    "prob.run_model()\n",
    "\n",
    "prob.check_partials(step_calc='rel', compact_print=True)"
   ]
  },
  {
   "cell_type": "markdown",
   "id": "referenced-diabetes",
   "metadata": {},
   "source": [
    "Finally, in this example, we have a vector input whose elements differ by several orders of magnitude, and whose middle element is sometimes zero.  If you try to scale the step size by a variable that is zero, you end up with a step size equal to zero, which causes division by zero during computation.  To prevent this, OpenMDAO defines a minimum step size of 1e-12. You can change this value by setting the `minimum_step` argument to a new value whenever you set the `step_calc` argument. Here, we also use the 'rel_element' step_calc so that each element computes its own step size relative to the magnitude of that single element."
   ]
  },
  {
   "cell_type": "code",
   "execution_count": 13,
   "id": "nonprofit-dance",
   "metadata": {},
   "outputs": [
    {
     "name": "stdout",
     "output_type": "stream",
     "text": [
      "------------------------\n",
      "Component: FDComp 'comp'\n",
      "------------------------\n",
      "\n",
      "  comp: 'y' wrt 'x_element'\n",
      "     Forward Magnitude: 1.000000e+10\n",
      "          Fd Magnitude: 1.000001e+10 (fd:forward)\n",
      "\n",
      "    Absolute Error (Jfor - Jfd) : 5.000397e+03 *\n",
      "\n",
      "    Relative Error (Jfor - Jfd) / Jfd : 5.000394e-07\n",
      "\n",
      "    Raw Forward Derivative (Jfor)\n",
      "    [[1.e+10 0.e+00 0.e+00]\n",
      "     [0.e+00 0.e+00 0.e+00]\n",
      "     [0.e+00 0.e+00 1.e-10]]\n",
      "\n",
      "    Raw FD Derivative (Jfd)\n",
      "    [[1.0000005e+10 0.0000000e+00 0.0000000e+00]\n",
      "     [0.0000000e+00 5.0000000e-16 0.0000000e+00]\n",
      "     [0.0000000e+00 0.0000000e+00 1.0000050e-10]]\n",
      "\n",
      " - - - - - - - - - - - - - - - - - - - - - - - - - - - - - -\n"
     ]
    }
   ],
   "source": [
    "import numpy as np\n",
    "\n",
    "import openmdao.api as om\n",
    "\n",
    "\n",
    "class FDComp(om.ExplicitComponent):\n",
    "\n",
    "    def initialize(self):\n",
    "        self.options.declare('vec_size', types=int, default=1)\n",
    "\n",
    "    def setup(self):\n",
    "        nn = self.options['vec_size']\n",
    "\n",
    "        self.add_input('x_element', np.ones((nn, )))\n",
    "        self.add_output('y', np.ones((nn, )))\n",
    "\n",
    "    def setup_partials(self):\n",
    "        self.declare_partials('*', 'x_element')\n",
    "\n",
    "        self.set_check_partial_options('x_element', method='fd', step_calc='rel_element', minimum_step=1e-15)\n",
    "\n",
    "    def compute(self, inputs, outputs):\n",
    "        x = inputs['x_element']\n",
    "        outputs['y'] = 0.5 * x ** 2\n",
    "\n",
    "    def compute_partials(self, inputs, partials):\n",
    "        x = inputs['x_element']\n",
    "        partials['y', 'x_element'] = np.diag(x)\n",
    "\n",
    "\n",
    "prob = om.Problem()\n",
    "model = prob.model\n",
    "\n",
    "model.add_subsystem('comp', FDComp(vec_size=3))\n",
    "\n",
    "prob.setup(force_alloc_complex=True)\n",
    "\n",
    "x = np.array([1e10, 0.0, 1e-10])\n",
    "prob.set_val('comp.x_element', x)\n",
    "\n",
    "prob.run_model()\n",
    "\n",
    "totals = prob.check_partials()"
   ]
  },
  {
   "cell_type": "code",
   "execution_count": 14,
   "id": "still-outside",
   "metadata": {
    "tags": [
     "remove-input",
     "remove-output"
    ]
   },
   "outputs": [
    {
     "data": {
      "text/plain": [
       "4.9999963174089565e-06"
      ]
     },
     "execution_count": 14,
     "metadata": {},
     "output_type": "execute_result"
    }
   ],
   "source": [
    "from openmdao.utils.assert_utils import assert_near_equal\n",
    "assert_near_equal(totals['comp']['y', 'x_element']['J_fd'][0][0], x[0], 1e-5)\n",
    "assert_near_equal(totals['comp']['y', 'x_element']['J_fd'][1][1], x[1], 1e-5)\n",
    "assert_near_equal(totals['comp']['y', 'x_element']['J_fd'][2][2], x[2], 1e-5)"
   ]
  }
 ],
 "metadata": {
  "celltoolbar": "Tags",
  "kernelspec": {
   "display_name": "Python 3",
   "language": "python",
   "name": "python3"
  },
  "language_info": {
   "codemirror_mode": {
    "name": "ipython",
    "version": 3
   },
   "file_extension": ".py",
   "mimetype": "text/x-python",
   "name": "python",
   "nbconvert_exporter": "python",
   "pygments_lexer": "ipython3",
   "version": "3.9.19"
  },
  "orphan": true
 },
 "nbformat": 4,
 "nbformat_minor": 5
}