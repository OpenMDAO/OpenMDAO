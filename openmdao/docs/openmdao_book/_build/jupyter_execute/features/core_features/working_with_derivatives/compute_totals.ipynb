{
 "cells": [
  {
   "cell_type": "code",
   "execution_count": 1,
   "id": "d43c82b7",
   "metadata": {
    "tags": [
     "remove-input",
     "remove-output",
     "active-ipynb"
    ]
   },
   "outputs": [],
   "source": [
    "try:\n",
    "    from openmdao.utils.notebook_utils import notebook_mode\n",
    "except ImportError:\n",
    "    !python -m pip install openmdao[notebooks]"
   ]
  },
  {
   "cell_type": "markdown",
   "id": "79b1b576",
   "metadata": {},
   "source": [
    "# Computing Total Derivatives\n",
    "\n",
    "Problem has a method, `compute_totals`, that allows you to compute the unscaled total derivative values for a model.\n",
    "\n",
    "If the model approximated its Jacobian, the method uses an approximation method."
   ]
  },
  {
   "cell_type": "markdown",
   "id": "ff953ee4",
   "metadata": {},
   "source": [
    "```{eval-rst}\n",
    "    .. automethod:: openmdao.core.problem.Problem.compute_totals\n",
    "        :noindex:\n",
    "```"
   ]
  },
  {
   "cell_type": "markdown",
   "id": "5d26d0ea",
   "metadata": {},
   "source": [
    "## Usage\n",
    "\n",
    "Here is a simple example of using `compute_totals`:"
   ]
  },
  {
   "cell_type": "code",
   "execution_count": 2,
   "id": "7bece461",
   "metadata": {
    "tags": [
     "remove-input",
     "remove-output"
    ]
   },
   "outputs": [],
   "source": [
    "from openmdao.utils.notebook_utils import get_code\n",
    "from myst_nb import glue\n",
    "glue(\"code_src64\", get_code(\"openmdao.test_suite.components.paraboloid.Paraboloid\"), display=False)"
   ]
  },
  {
   "cell_type": "markdown",
   "id": "9f881d33",
   "metadata": {},
   "source": [
    ":::{Admonition} `Paraboloid` class definition \n",
    ":class: dropdown\n",
    "\n",
    "{glue:}`code_src64`\n",
    ":::"
   ]
  },
  {
   "cell_type": "code",
   "execution_count": 3,
   "id": "0e00df55",
   "metadata": {},
   "outputs": [
    {
     "name": "stdout",
     "output_type": "stream",
     "text": [
      "-4.0\n"
     ]
    }
   ],
   "source": [
    "import openmdao.api as om\n",
    "from openmdao.test_suite.components.paraboloid import Paraboloid\n",
    "\n",
    "prob = om.Problem()\n",
    "model = prob.model\n",
    "\n",
    "model.add_subsystem('comp', Paraboloid())\n",
    "\n",
    "model.set_input_defaults('comp.x', 3.0)\n",
    "model.set_input_defaults('comp.y', -4.0)\n",
    "\n",
    "prob.setup()\n",
    "\n",
    "prob.run_model()\n",
    "\n",
    "totals = prob.compute_totals(of=['comp.f_xy'], wrt=['comp.x', 'comp.y'])\n",
    "print(totals[('comp.f_xy', 'comp.x')][0][0])"
   ]
  },
  {
   "cell_type": "code",
   "execution_count": 4,
   "id": "5fa1aea0",
   "metadata": {},
   "outputs": [
    {
     "name": "stdout",
     "output_type": "stream",
     "text": [
      "3.0\n"
     ]
    }
   ],
   "source": [
    "print(totals[('comp.f_xy', 'comp.y')][0][0])"
   ]
  },
  {
   "cell_type": "code",
   "execution_count": 5,
   "id": "6865b9d0",
   "metadata": {
    "tags": [
     "remove-input",
     "remove-output"
    ]
   },
   "outputs": [
    {
     "data": {
      "text/plain": [
       "0.0"
      ]
     },
     "execution_count": 5,
     "metadata": {},
     "output_type": "execute_result"
    }
   ],
   "source": [
    "from openmdao.utils.assert_utils import assert_near_equal\n",
    "import numpy as np\n",
    "\n",
    "assert_near_equal(totals[('comp.f_xy', 'comp.x')][0][0], -4.0, tolerance=1e-8)\n",
    "assert_near_equal(totals[('comp.f_xy', 'comp.y')][0][0], 3.0, tolerance=1e-8)"
   ]
  },
  {
   "cell_type": "code",
   "execution_count": 6,
   "id": "20d6a5de",
   "metadata": {},
   "outputs": [
    {
     "name": "stdout",
     "output_type": "stream",
     "text": [
      "-4.0\n"
     ]
    }
   ],
   "source": [
    "totals = prob.compute_totals(of=['comp.f_xy'], wrt=['comp.x', 'comp.y'], return_format='dict')\n",
    "print(totals['comp.f_xy']['comp.x'][0][0])"
   ]
  },
  {
   "cell_type": "code",
   "execution_count": 7,
   "id": "30453406",
   "metadata": {},
   "outputs": [
    {
     "name": "stdout",
     "output_type": "stream",
     "text": [
      "3.0\n"
     ]
    }
   ],
   "source": [
    "print(totals['comp.f_xy']['comp.y'][0][0])"
   ]
  },
  {
   "cell_type": "code",
   "execution_count": 8,
   "id": "fcd812b8",
   "metadata": {
    "tags": [
     "remove-input",
     "remove-output"
    ]
   },
   "outputs": [
    {
     "data": {
      "text/plain": [
       "0.0"
      ]
     },
     "execution_count": 8,
     "metadata": {},
     "output_type": "execute_result"
    }
   ],
   "source": [
    "from openmdao.utils.assert_utils import assert_near_equal\n",
    "import numpy as np\n",
    "\n",
    "assert_near_equal(totals['comp.f_xy']['comp.x'][0][0], -4.0, tolerance=1e-8)\n",
    "assert_near_equal(totals['comp.f_xy']['comp.y'][0][0], 3.0, tolerance=1e-8)"
   ]
  },
  {
   "cell_type": "markdown",
   "id": "f06e9a6a",
   "metadata": {},
   "source": [
    "By default, `compute_totals` returns the derivatives unscaled, but you can also request that they be scaled by the driver scale values declared when the des_vars, objectives, or constraints are added:"
   ]
  },
  {
   "cell_type": "code",
   "execution_count": 9,
   "id": "2cf8bb0f",
   "metadata": {},
   "outputs": [
    {
     "name": "stdout",
     "output_type": "stream",
     "text": [
      "196.00000000000003\n"
     ]
    }
   ],
   "source": [
    "import openmdao.api as om\n",
    "from openmdao.test_suite.components.paraboloid import Paraboloid\n",
    "\n",
    "prob = om.Problem()\n",
    "model = prob.model\n",
    "\n",
    "model.add_subsystem('comp', Paraboloid())\n",
    "\n",
    "model.set_input_defaults('comp.x', 3.0)\n",
    "model.set_input_defaults('comp.y', -4.0)\n",
    "\n",
    "model.add_design_var('comp.x', 3.0, ref0=50.0)\n",
    "model.add_design_var('comp.y', -4.0)\n",
    "model.add_objective('comp.f_xy')\n",
    "\n",
    "prob.setup()\n",
    "\n",
    "prob.run_model()\n",
    "\n",
    "totals = prob.compute_totals(of=['comp.f_xy'], wrt=['comp.x', 'comp.y'], driver_scaling=True)\n",
    "print(totals[('comp.f_xy', 'comp.x')][0][0])"
   ]
  },
  {
   "cell_type": "code",
   "execution_count": 10,
   "id": "57fa7993",
   "metadata": {},
   "outputs": [
    {
     "name": "stdout",
     "output_type": "stream",
     "text": [
      "3.0\n"
     ]
    }
   ],
   "source": [
    "print(totals[('comp.f_xy', 'comp.y')][0][0])"
   ]
  },
  {
   "cell_type": "code",
   "execution_count": 11,
   "id": "5a3028a2",
   "metadata": {
    "tags": [
     "remove-input",
     "remove-output"
    ]
   },
   "outputs": [
    {
     "data": {
      "text/plain": [
       "0.0"
      ]
     },
     "execution_count": 11,
     "metadata": {},
     "output_type": "execute_result"
    }
   ],
   "source": [
    "from openmdao.utils.assert_utils import assert_near_equal\n",
    "import numpy as np\n",
    "\n",
    "assert_near_equal(totals[('comp.f_xy', 'comp.y')][0][0], 3.0, tolerance=1e-8)"
   ]
  }
 ],
 "metadata": {
  "celltoolbar": "Tags",
  "kernelspec": {
   "display_name": "Python 3",
   "language": "python",
   "name": "python3"
  },
  "language_info": {
   "codemirror_mode": {
    "name": "ipython",
    "version": 3
   },
   "file_extension": ".py",
   "mimetype": "text/x-python",
   "name": "python",
   "nbconvert_exporter": "python",
   "pygments_lexer": "ipython3",
   "version": "3.9.19"
  },
  "orphan": true
 },
 "nbformat": 4,
 "nbformat_minor": 5
}