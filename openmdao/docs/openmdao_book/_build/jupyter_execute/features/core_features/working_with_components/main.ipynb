{
 "cells": [
  {
   "cell_type": "markdown",
   "metadata": {},
   "source": [
    "# Working with Components\n",
    "\n",
    "- [Declaring Continuous Variables](continuous_variables.ipynb)\n",
    "- [ExplicitComponent](explicit_component.ipynb)\n",
    "- [ImplicitComponent](implicit_component.ipynb)\n",
    "- [Distributed Variables](distributed_components.ipynb)\n",
    "- [IndepVarComp](indepvarcomp.ipynb)\n",
    "- [Specifying Units for Variables](units.ipynb)\n",
    "- [Scaling Variables](scaling.ipynb)\n",
    "- [Discrete Variables](discrete_variables.ipynb)"
   ]
  }
 ],
 "metadata": {
  "celltoolbar": "Tags",
  "kernelspec": {
   "display_name": "Python 3 (ipykernel)",
   "language": "python",
   "name": "python3"
  },
  "language_info": {
   "codemirror_mode": {
    "name": "ipython",
    "version": 3
   },
   "file_extension": ".py",
   "mimetype": "text/x-python",
   "name": "python",
   "nbconvert_exporter": "python",
   "pygments_lexer": "ipython3",
   "version": "3.9.19"
  },
  "orphan": true
 },
 "nbformat": 4,
 "nbformat_minor": 4
}