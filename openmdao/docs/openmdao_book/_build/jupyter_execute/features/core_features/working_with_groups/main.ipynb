{
 "cells": [
  {
   "cell_type": "markdown",
   "metadata": {},
   "source": [
    "# Working with Groups\n",
    "\n",
    "It’s often desirable to represent a complex model as a collection of components. Using Group objects, we can group components, as well as other Groups, together to form a tree structure. The following sections explain how to create that tree structure, how to access subsystems and variables within the tree, and how to connect those variables. They will also explain how to promote a variable from a subsystem up to its parent Group.\n",
    "\n",
    "- [Adding Subsystems to a Group and Promoting Variables](add_subsystem.ipynb)\n",
    "- [Connecting Variables](connect.ipynb)\n",
    "- [Using src_indices with Promoted Variables](src_indices.ipynb)\n",
    "- [Connections Involving Distributed Variables](dist_serial)\n",
    "- [Setting the Order of Subsystems in a Group](set_order.ipynb)\n",
    "- [Accessing Subsystems Within a Group](get_subsystem.ipynb)\n",
    "- [Parallel Groups](parallel_group.ipynb)\n",
    "- [Modifying Children of a Group with Configure Method](configure_method.ipynb)\n",
    "- [Changing Model Settings After Setup](post_setup_config.ipynb)\n",
    "- [Providing an Initial Guess for Implicit States in a Group](guess_method.ipynb)"
   ]
  }
 ],
 "metadata": {
  "celltoolbar": "Tags",
  "kernelspec": {
   "display_name": "Python 3",
   "language": "python",
   "name": "python3"
  },
  "language_info": {
   "codemirror_mode": {
    "name": "ipython",
    "version": 3
   },
   "file_extension": ".py",
   "mimetype": "text/x-python",
   "name": "python",
   "nbconvert_exporter": "python",
   "pygments_lexer": "ipython3",
   "version": "3.9.19"
  },
  "orphan": true
 },
 "nbformat": 4,
 "nbformat_minor": 4
}