{
 "cells": [
  {
   "cell_type": "code",
   "execution_count": 1,
   "metadata": {
    "tags": [
     "remove-input",
     "active-ipynb",
     "remove-output"
    ]
   },
   "outputs": [],
   "source": [
    "try:\n",
    "    from openmdao.utils.notebook_utils import notebook_mode\n",
    "except ImportError:\n",
    "    !python -m pip install openmdao[notebooks]"
   ]
  },
  {
   "cell_type": "markdown",
   "metadata": {},
   "source": [
    "# Connecting Variables\n",
    "\n",
    "To cause data to flow between two systems in a model, we must connect at\n",
    "least one output variable from one system to at least one input variable\n",
    "from the other.  If the variables have units defined, then the framework\n",
    "will automatically perform the conversion.  We can also connect only part\n",
    "of an array output to an input by specifying the indices of the entries\n",
    "that we want.\n",
    "\n",
    "To connect two variables within a model, use the `connect` function.\n",
    "\n",
    "```{eval-rst}\n",
    "    .. automethod:: openmdao.core.group.Group.connect\n",
    "        :noindex:\n",
    "```\n",
    "\n",
    "## Usage\n",
    "\n",
    "1: Connect an output variable to an input variable, with an automatic unit conversion.  "
   ]
  },
  {
   "cell_type": "code",
   "execution_count": 2,
   "metadata": {},
   "outputs": [
    {
     "name": "stdout",
     "output_type": "stream",
     "text": [
      "[1. 1. 1. 1. 1.]\n",
      "[12. 12. 12. 12. 12.]\n",
      "[60.]\n"
     ]
    }
   ],
   "source": [
    "import numpy as np\n",
    "import openmdao.api as om\n",
    "\n",
    "p = om.Problem()\n",
    "\n",
    "p.model.set_input_defaults('x', np.ones(5), units='ft')\n",
    "\n",
    "exec_comp = om.ExecComp('y=sum(x)',\n",
    "                        x={'val': np.zeros(5), 'units': 'inch'},\n",
    "                        y={'units': 'inch'})\n",
    "\n",
    "p.model.add_subsystem('comp1', exec_comp, promotes_inputs=['x'])\n",
    "\n",
    "p.setup()\n",
    "p.run_model()\n",
    "\n",
    "print(p.get_val('x', units='ft'))\n",
    "print(p.get_val('comp1.x'))\n",
    "print(p.get_val('comp1.y'))"
   ]
  },
  {
   "cell_type": "code",
   "execution_count": 3,
   "metadata": {
    "tags": [
     "remove-input",
     "remove-output"
    ]
   },
   "outputs": [
    {
     "data": {
      "text/plain": [
       "1.1842378929335003e-16"
      ]
     },
     "execution_count": 3,
     "metadata": {},
     "output_type": "execute_result"
    }
   ],
   "source": [
    "from openmdao.utils.assert_utils import assert_near_equal\n",
    "\n",
    "assert_near_equal(p.get_val('x', units='ft'), np.ones(5))\n",
    "assert_near_equal(p.get_val('comp1.x'), np.ones(5)*12.)\n",
    "assert_near_equal(p.get_val('comp1.y'), 60.)"
   ]
  },
  {
   "cell_type": "markdown",
   "metadata": {},
   "source": [
    "2: Connect one output to many inputs.  "
   ]
  },
  {
   "cell_type": "code",
   "execution_count": 4,
   "metadata": {},
   "outputs": [
    {
     "name": "stdout",
     "output_type": "stream",
     "text": [
      "[10.]\n",
      "[20.]\n",
      "[30.]\n"
     ]
    }
   ],
   "source": [
    "p = om.Problem()\n",
    "\n",
    "p.model.add_subsystem('C1', om.ExecComp('y=sum(x)*2.0', x=np.zeros(5)), promotes_inputs=['x'])\n",
    "p.model.add_subsystem('C2', om.ExecComp('y=sum(x)*4.0', x=np.zeros(5)), promotes_inputs=['x'])\n",
    "p.model.add_subsystem('C3', om.ExecComp('y=sum(x)*6.0', x=np.zeros(5)), promotes_inputs=['x'])\n",
    "\n",
    "p.setup()\n",
    "p.set_val('x', np.ones(5))\n",
    "p.run_model()\n",
    "\n",
    "print(p.get_val('C1.y'))\n",
    "print(p.get_val('C2.y'))\n",
    "print(p.get_val('C3.y'))"
   ]
  },
  {
   "cell_type": "code",
   "execution_count": 5,
   "metadata": {
    "tags": [
     "remove-input",
     "remove-output"
    ]
   },
   "outputs": [
    {
     "data": {
      "text/plain": [
       "0.0"
      ]
     },
     "execution_count": 5,
     "metadata": {},
     "output_type": "execute_result"
    }
   ],
   "source": [
    "assert_near_equal(p.get_val('C1.y'), 10.)\n",
    "assert_near_equal(p.get_val('C2.y'), 20.)\n",
    "assert_near_equal(p.get_val('C3.y'), 30.)"
   ]
  },
  {
   "cell_type": "markdown",
   "metadata": {},
   "source": [
    "(connect-with-src-indices)=\n",
    "3: Connect only part of an array output to an input of a smaller size."
   ]
  },
  {
   "cell_type": "code",
   "execution_count": 6,
   "metadata": {},
   "outputs": [
    {
     "name": "stdout",
     "output_type": "stream",
     "text": [
      "[1. 1. 1.]\n",
      "[6.]\n",
      "[1. 1.]\n",
      "[8.]\n"
     ]
    }
   ],
   "source": [
    "p = om.Problem()\n",
    "\n",
    "p.model.add_subsystem('indep', om.IndepVarComp('x', np.ones(5)))\n",
    "p.model.add_subsystem('C1', om.ExecComp('y=sum(x)*2.0', x=np.zeros(3)))\n",
    "p.model.add_subsystem('C2', om.ExecComp('y=sum(x)*4.0', x=np.zeros(2)))\n",
    "\n",
    "# connect C1.x to the first 3 entries of indep.x\n",
    "p.model.connect('indep.x', 'C1.x', src_indices=[0, 1, 2])\n",
    "\n",
    "# connect C2.x to the last 2 entries of indep.x\n",
    "# use -2 (same as 3 in this case) to show that negative indices work.\n",
    "p.model.connect('indep.x', 'C2.x', src_indices=[-2, 4])\n",
    "\n",
    "p.setup()\n",
    "p.run_model()\n",
    "\n",
    "print(p['C1.x'])\n",
    "print(p['C1.y'])\n",
    "print(p['C2.x'])\n",
    "print(p['C2.y'])"
   ]
  },
  {
   "cell_type": "code",
   "execution_count": 7,
   "metadata": {
    "tags": [
     "remove-input",
     "remove-output"
    ]
   },
   "outputs": [
    {
     "data": {
      "text/plain": [
       "0.0"
      ]
     },
     "execution_count": 7,
     "metadata": {},
     "output_type": "execute_result"
    }
   ],
   "source": [
    "assert_near_equal(p['C1.x'], np.ones(3))\n",
    "assert_near_equal(p['C1.y'], 6.)\n",
    "assert_near_equal(p['C2.x'], np.ones(2))\n",
    "assert_near_equal(p['C2.y'], 8.)"
   ]
  },
  {
   "cell_type": "markdown",
   "metadata": {},
   "source": [
    "4: Connect only part of a non-flat array output to a non-flat array input."
   ]
  },
  {
   "cell_type": "code",
   "execution_count": 8,
   "metadata": {},
   "outputs": [
    {
     "name": "stdout",
     "output_type": "stream",
     "text": [
      "[[ 0.  1.  2.]\n",
      " [ 3.  4.  5.]\n",
      " [ 6.  7.  8.]\n",
      " [ 9. 10. 11.]]\n",
      "[[ 0. 10.]\n",
      " [ 7.  4.]]\n",
      "[42.]\n"
     ]
    }
   ],
   "source": [
    "p = om.Problem()\n",
    "\n",
    "p.model.add_subsystem('indep', om.IndepVarComp('x', np.arange(12).reshape((4, 3))))\n",
    "p.model.add_subsystem('C1', om.ExecComp('y=sum(x)*2.0', x=np.zeros((2, 2))))\n",
    "\n",
    "# Connect C1.x to entries (0,0), (-1,1), (2,1), (1,1) of indep.x and give then a 2x2 shape.\n",
    "# To do this, create 2x2 shaped arrays representing rows and columns. Note that the final\n",
    "# src_indices is a tuple (not a list or array) containing the rows and cols arrays.\n",
    "rows = [[0, -1],[2, 1]]\n",
    "cols = [[0, 1], [1, 1]]\n",
    "p.model.connect('indep.x', 'C1.x', src_indices=(rows, cols), flat_src_indices=False)\n",
    "\n",
    "p.setup()\n",
    "p.run_model()\n",
    "\n",
    "print(p.get_val('indep.x'))\n",
    "print(p.get_val('C1.x'))\n",
    "print(p.get_val('C1.y'))"
   ]
  },
  {
   "cell_type": "code",
   "execution_count": 9,
   "metadata": {
    "tags": [
     "remove-input",
     "remove-output"
    ]
   },
   "outputs": [
    {
     "data": {
      "text/plain": [
       "0.0"
      ]
     },
     "execution_count": 9,
     "metadata": {},
     "output_type": "execute_result"
    }
   ],
   "source": [
    "assert_near_equal(p.get_val('indep.x'), np.array([[0., 1., 2.],\n",
    "                                                  [3., 4., 5.],\n",
    "                                                  [6., 7., 8.],\n",
    "                                                  [9., 10., 11.]]))\n",
    "assert_near_equal(p.get_val('C1.x'), np.array([[0., 10.],\n",
    "                                               [7., 4.]]))\n",
    "assert_near_equal(p.get_val('C1.y'), 42.)"
   ]
  },
  {
   "cell_type": "markdown",
   "metadata": {},
   "source": [
    "## Using `om.slicer` to connect non-scalar variables\n",
    "\n",
    "The `om.slicer` object was introduced to OpenMDAO to make connecting non-scalar variables easier by allowing the `src_indices` to be specified as slices.\n",
    "This way of thinking about `src_indices` is probably more intuitive for users who are experienced with numpy.\n",
    "    \n",
    "The following example connects a 2x2 portion of a 5x5 matrix, starting from indices [2, 3]:"
   ]
  },
  {
   "cell_type": "code",
   "execution_count": 10,
   "metadata": {
    "scrolled": true
   },
   "outputs": [
    {
     "name": "stdout",
     "output_type": "stream",
     "text": [
      "M\n",
      "[[ 0.  1.  2.  3.  4.]\n",
      " [ 5.  6.  7.  8.  9.]\n",
      " [10. 11. 12. 13. 14.]\n",
      " [15. 16. 17. 18. 19.]\n",
      " [20. 21. 22. 23. 24.]]\n",
      "A\n",
      "[[13. 14.]\n",
      " [18. 19.]]\n"
     ]
    }
   ],
   "source": [
    "p = om.Problem()\n",
    "\n",
    "ivc = p.model.add_subsystem('ivc', om.IndepVarComp())\n",
    "ivc.add_output('M', val=np.arange(25).reshape((5, 5)))\n",
    "\n",
    "exec = p.model.add_subsystem('exec', om.ExecComp())\n",
    "\n",
    "exec.add_expr('A = B', A={'shape': (2, 2)}, B={'shape': (2, 2)})\n",
    "\n",
    "p.model.connect('ivc.M', 'exec.B', src_indices=om.slicer[2:4, 3:5])\n",
    "\n",
    "p.setup()\n",
    "\n",
    "p.run_model()\n",
    "\n",
    "print('M')\n",
    "print(p.get_val('ivc.M'))\n",
    "\n",
    "print('A')\n",
    "print(p.get_val('exec.A'))"
   ]
  },
  {
   "cell_type": "code",
   "execution_count": 11,
   "metadata": {
    "tags": [
     "remove-cell"
    ]
   },
   "outputs": [
    {
     "data": {
      "text/plain": [
       "0.0"
      ]
     },
     "execution_count": 11,
     "metadata": {},
     "output_type": "execute_result"
    }
   ],
   "source": [
    "from openmdao.utils.assert_utils import assert_near_equal\n",
    "\n",
    "expected = np.array([[13, 14], [18, 19]])\n",
    "\n",
    "assert_near_equal(p.get_val('exec.A'), expected)"
   ]
  },
  {
   "cell_type": "markdown",
   "metadata": {},
   "source": [
    "The following example connects the first 3 columns of rows 0, 2, and 3 of `M` to `B`:"
   ]
  },
  {
   "cell_type": "code",
   "execution_count": 12,
   "metadata": {},
   "outputs": [
    {
     "name": "stdout",
     "output_type": "stream",
     "text": [
      "M\n",
      "[[ 0.  1.  2.  3.  4.]\n",
      " [ 5.  6.  7.  8.  9.]\n",
      " [10. 11. 12. 13. 14.]\n",
      " [15. 16. 17. 18. 19.]\n",
      " [20. 21. 22. 23. 24.]]\n",
      "A\n",
      "[[ 0.  1.  2.]\n",
      " [10. 11. 12.]\n",
      " [15. 16. 17.]]\n"
     ]
    }
   ],
   "source": [
    "p = om.Problem()\n",
    "\n",
    "ivc = p.model.add_subsystem('ivc', om.IndepVarComp())\n",
    "ivc.add_output('M', val=np.arange(25).reshape((5, 5)))\n",
    "\n",
    "exec = p.model.add_subsystem('exec', om.ExecComp())\n",
    "\n",
    "exec.add_expr('A = B', A={'shape': (3, 3)}, B={'shape': (3, 3)})\n",
    "\n",
    "p.model.connect('ivc.M', 'exec.B', src_indices=om.slicer[[0, 2 ,3], :3])\n",
    "\n",
    "p.setup()\n",
    "\n",
    "p.run_model()\n",
    "\n",
    "print('M')\n",
    "print(p.get_val('ivc.M'))\n",
    "\n",
    "print('A')\n",
    "print(p.get_val('exec.A'))"
   ]
  },
  {
   "cell_type": "code",
   "execution_count": 13,
   "metadata": {
    "tags": [
     "remove-cell"
    ]
   },
   "outputs": [
    {
     "data": {
      "text/plain": [
       "0.0"
      ]
     },
     "execution_count": 13,
     "metadata": {},
     "output_type": "execute_result"
    }
   ],
   "source": [
    "from openmdao.utils.assert_utils import assert_near_equal\n",
    "\n",
    "expected = np.array([[0, 1, 2], [10, 11, 12], [15, 16, 17]])\n",
    "\n",
    "assert_near_equal(p.get_val('exec.A'), expected)"
   ]
  },
  {
   "cell_type": "markdown",
   "metadata": {},
   "source": [
    "## The meaning of `flat_src_indices` when using `om.slicer`\n",
    "\n",
    "When `src_indices` are provided as a slicer and `flat_src_indices = True`, OpenMDAO first flattens (in row-major order), the source variable and then applies the slicer.\n",
    "Consider connecting the 3x3 matrix `M` below to a target 3-vector.\n",
    "In this first case, we don't flatten the matrix before indexing it (`flat_src_indices=False`), so in this case `om.slicer[:1]` refers to the first element in the first dimension (the first row)."
   ]
  },
  {
   "cell_type": "code",
   "execution_count": 14,
   "metadata": {
    "scrolled": true
   },
   "outputs": [
    {
     "name": "stdout",
     "output_type": "stream",
     "text": [
      "M\n",
      "[[8. 7. 6.]\n",
      " [5. 4. 3.]\n",
      " [2. 1. 0.]]\n",
      "\n",
      "A\n",
      "[[8. 7. 6.]]\n"
     ]
    }
   ],
   "source": [
    "p = om.Problem()\n",
    "\n",
    "ivc = p.model.add_subsystem('ivc', om.IndepVarComp())\n",
    "M_np = np.arange(9)[::-1].reshape((3, 3))\n",
    "ivc.add_output('M', val=M_np)\n",
    "\n",
    "exec = p.model.add_subsystem('exec', om.ExecComp())\n",
    "\n",
    "exec.add_expr('A = B', A={'shape': (1, 3)}, B={'shape': (3,)})\n",
    "\n",
    "p.model.connect('ivc.M', 'exec.B', src_indices=om.slicer[:1])\n",
    "\n",
    "p.setup()\n",
    "\n",
    "p.run_model()\n",
    "\n",
    "print('M')\n",
    "print(p.get_val('ivc.M'))\n",
    "print()\n",
    "print('A')\n",
    "print(p.get_val('exec.A'))"
   ]
  },
  {
   "cell_type": "code",
   "execution_count": 15,
   "metadata": {
    "tags": [
     "remove-cell"
    ]
   },
   "outputs": [
    {
     "data": {
      "text/plain": [
       "0.0"
      ]
     },
     "execution_count": 15,
     "metadata": {},
     "output_type": "execute_result"
    }
   ],
   "source": [
    "assert_near_equal(p.get_val('exec.A'), p.get_val('ivc.M')[:1])"
   ]
  },
  {
   "cell_type": "markdown",
   "metadata": {},
   "source": [
    "If, on the other hand, we specify `flat_src_indices=True` in the connection, then we will first flatten M, and pass the first element of the flattened array to `exec.B`."
   ]
  },
  {
   "cell_type": "code",
   "execution_count": 16,
   "metadata": {},
   "outputs": [
    {
     "name": "stdout",
     "output_type": "stream",
     "text": [
      "M\n",
      "[[8. 7. 6.]\n",
      " [5. 4. 3.]\n",
      " [2. 1. 0.]]\n",
      "A\n",
      "[8.]\n"
     ]
    }
   ],
   "source": [
    "p = om.Problem()\n",
    "\n",
    "ivc = p.model.add_subsystem('ivc', om.IndepVarComp())\n",
    "ivc.add_output('M', val=np.arange(9)[::-1].reshape((3, 3)))\n",
    "\n",
    "exec = p.model.add_subsystem('exec', om.ExecComp())\n",
    "\n",
    "exec.add_expr('A = B', A={'shape': (1,)}, B={'shape': (1,)})\n",
    "\n",
    "p.model.connect('ivc.M', 'exec.B', src_indices=om.slicer[:1], flat_src_indices=True)\n",
    "\n",
    "p.setup()\n",
    "\n",
    "p.run_model()\n",
    "\n",
    "print('M')\n",
    "print(p.get_val('ivc.M'))\n",
    "\n",
    "print('A')\n",
    "print(p.get_val('exec.A'))"
   ]
  },
  {
   "cell_type": "code",
   "execution_count": 17,
   "metadata": {
    "tags": [
     "remove-cell"
    ]
   },
   "outputs": [
    {
     "data": {
      "text/plain": [
       "0.0"
      ]
     },
     "execution_count": 17,
     "metadata": {},
     "output_type": "execute_result"
    }
   ],
   "source": [
    "assert_near_equal(p.get_val('exec.A'), p.get_val('ivc.M')[0, 0])"
   ]
  }
 ],
 "metadata": {
  "celltoolbar": "Tags",
  "interpreter": {
   "hash": "49f71f8b029ccfc892068b15e7b6668703dcc2d714d079581384c7016c112935"
  },
  "kernelspec": {
   "display_name": "Python 3 (ipykernel)",
   "language": "python",
   "name": "python3"
  },
  "language_info": {
   "codemirror_mode": {
    "name": "ipython",
    "version": 3
   },
   "file_extension": ".py",
   "mimetype": "text/x-python",
   "name": "python",
   "nbconvert_exporter": "python",
   "pygments_lexer": "ipython3",
   "version": "3.9.19"
  },
  "orphan": true
 },
 "nbformat": 4,
 "nbformat_minor": 4
}