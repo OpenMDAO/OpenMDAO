{
 "cells": [
  {
   "cell_type": "markdown",
   "metadata": {},
   "source": [
    "# Debugging\n",
    "\n",
    "- [Listing Variables](listing_variables.ipynb)\n",
    "- [The Newton Solver Isn’t Converging](newton_solver_not_converging.ipynb)\n",
    "- [Debugging Your Optimizations](debugging_your_optimizations.ipynb)\n",
    "- [Driver Debug Printing](debugging_drivers.ipynb)\n",
    "- [Solver Debug Printing](debugging_solvers.ipynb)\n",
    "- [Profiling and Tracing](profiling/index.ipynb)\n",
    "- [MPI Detection, Troubleshooting, and Testing](controlling_mpi.ipynb)"
   ]
  }
 ],
 "metadata": {
  "celltoolbar": "Tags",
  "kernelspec": {
   "display_name": "Python 3.8.10 64-bit",
   "language": "python",
   "name": "python3"
  },
  "language_info": {
   "codemirror_mode": {
    "name": "ipython",
    "version": 3
   },
   "file_extension": ".py",
   "mimetype": "text/x-python",
   "name": "python",
   "nbconvert_exporter": "python",
   "pygments_lexer": "ipython3",
   "version": "3.9.19"
  },
  "orphan": true,
  "vscode": {
   "interpreter": {
    "hash": "916dbcbb3f70747c44a77c7bcd40155683ae19c65e1c03b4aa3499c5328201f1"
   }
  }
 },
 "nbformat": 4,
 "nbformat_minor": 4
}