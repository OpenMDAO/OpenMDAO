{
 "cells": [
  {
   "cell_type": "code",
   "execution_count": 1,
   "metadata": {
    "tags": [
     "remove-input",
     "active-ipynb",
     "remove-output"
    ]
   },
   "outputs": [],
   "source": [
    "try:\n",
    "    from openmdao.utils.notebook_utils import notebook_mode\n",
    "except ImportError:\n",
    "    !python -m pip install openmdao[notebooks]"
   ]
  },
  {
   "cell_type": "markdown",
   "metadata": {},
   "source": [
    "# CrossProductComp\n",
    "\n",
    "`CrossProductComp` performs a cross product between two 3-vector inputs.  It may be vectorized to provide the result at one or more points simultaneously.\n",
    "\n",
    "$$\n",
    "    c_i = \\bar{a}_i \\times \\bar{b}_i\n",
    "$$\n",
    "\n",
    "The first dimension of the inputs holds the vectorized dimension.\n",
    "The default `vec_size` is 1, providing the cross product of $a$ and $b$ at a single\n",
    "point.  The lengths of $a$ and $b$ at each point must be 3.\n",
    "\n",
    "The shape of $a$ and $b$ will always be `(vec_size, 3)`, but the connection rules\n",
    "of OpenMDAO allow the incoming connection to have shape `(3,)` when `vec_size` is 1, since\n",
    "the storage order of the underlying data is the same.  The output vector `c` of\n",
    "CrossProductComp will always have shape `(vec_size, 3)`.\n",
    "\n",
    "## CrossProductComp Options\n",
    "\n",
    "Options for CrossProductComp allow the user to rename the input variables $a$ and $b$ and the output $c$, as well as specifying their units."
   ]
  },
  {
   "cell_type": "code",
   "execution_count": 2,
   "metadata": {
    "tags": [
     "remove-input"
    ]
   },
   "outputs": [
    {
     "data": {
      "text/html": [
       "\n",
       "<!DOCTYPE html>\n",
       "<html lang=\"en\">\n",
       "<head>\n",
       "    <style>\n",
       "        h2 {\n",
       "            text-align: center;\n",
       "        }\n",
       "    </style>\n",
       "</head>\n",
       "<body>\n",
       "    <h2></h2>\n",
       "        <table style=\"border: 1px solid #999; border-collapse: collapse;\">\n",
       "        <tr><th style=\"border: 1px solid #999; border-collapse: collapse; padding: 5px; background-color: #E9E9E9; text-align: left;\">Option</th><th style=\"border: 1px solid #999; border-collapse: collapse; padding: 5px; background-color: #E9E9E9; text-align: left;\">Default</th><th style=\"border: 1px solid #999; border-collapse: collapse; padding: 5px; background-color: #E9E9E9; text-align: left;\">Acceptable Values</th><th style=\"border: 1px solid #999; border-collapse: collapse; padding: 5px; background-color: #E9E9E9; text-align: left;\">Acceptable Types</th><th style=\"border: 1px solid #999; border-collapse: collapse; padding: 5px; background-color: #E9E9E9; text-align: left;\">Description</th></tr>\n",
       "       <tr style=\"background-color: ghostwhite;\"><td style=\"border: 1px solid #999; border-collapse: collapse; padding: 5px; text-align: left;\">a_name</td><td style=\"border: 1px solid #999; border-collapse: collapse; padding: 5px; text-align: left;\">a</td><td style=\"border: 1px solid #999; border-collapse: collapse; padding: 5px; text-align: left;\">N/A</td><td style=\"border: 1px solid #999; border-collapse: collapse; padding: 5px; text-align: left;\">[&#x27;str&#x27;]</td><td style=\"border: 1px solid #999; border-collapse: collapse; padding: 5px; text-align: left;\">The variable name for vector a.</td></tr>\n",
       "       <tr style=\"background-color: #F3F3F3;\"><td style=\"border: 1px solid #999; border-collapse: collapse; padding: 5px; text-align: left;\">a_units</td><td style=\"border: 1px solid #999; border-collapse: collapse; padding: 5px; text-align: left;\">N/A</td><td style=\"border: 1px solid #999; border-collapse: collapse; padding: 5px; text-align: left;\">N/A</td><td style=\"border: 1px solid #999; border-collapse: collapse; padding: 5px; text-align: left;\">[&#x27;str&#x27;]</td><td style=\"border: 1px solid #999; border-collapse: collapse; padding: 5px; text-align: left;\">The units for vector a.</td></tr>\n",
       "       <tr style=\"background-color: ghostwhite;\"><td style=\"border: 1px solid #999; border-collapse: collapse; padding: 5px; text-align: left;\">always_opt</td><td style=\"border: 1px solid #999; border-collapse: collapse; padding: 5px; text-align: left;\">False</td><td style=\"border: 1px solid #999; border-collapse: collapse; padding: 5px; text-align: left;\">[True, False]</td><td style=\"border: 1px solid #999; border-collapse: collapse; padding: 5px; text-align: left;\">[&#x27;bool&#x27;]</td><td style=\"border: 1px solid #999; border-collapse: collapse; padding: 5px; text-align: left;\">If True, force nonlinear operations on this component to be included in the optimization loop even if this component is not relevant to the design variables and responses.</td></tr>\n",
       "       <tr style=\"background-color: #F3F3F3;\"><td style=\"border: 1px solid #999; border-collapse: collapse; padding: 5px; text-align: left;\">b_name</td><td style=\"border: 1px solid #999; border-collapse: collapse; padding: 5px; text-align: left;\">b</td><td style=\"border: 1px solid #999; border-collapse: collapse; padding: 5px; text-align: left;\">N/A</td><td style=\"border: 1px solid #999; border-collapse: collapse; padding: 5px; text-align: left;\">[&#x27;str&#x27;]</td><td style=\"border: 1px solid #999; border-collapse: collapse; padding: 5px; text-align: left;\">The variable name for vector b.</td></tr>\n",
       "       <tr style=\"background-color: ghostwhite;\"><td style=\"border: 1px solid #999; border-collapse: collapse; padding: 5px; text-align: left;\">b_units</td><td style=\"border: 1px solid #999; border-collapse: collapse; padding: 5px; text-align: left;\">N/A</td><td style=\"border: 1px solid #999; border-collapse: collapse; padding: 5px; text-align: left;\">N/A</td><td style=\"border: 1px solid #999; border-collapse: collapse; padding: 5px; text-align: left;\">[&#x27;str&#x27;]</td><td style=\"border: 1px solid #999; border-collapse: collapse; padding: 5px; text-align: left;\">The units for vector b.</td></tr>\n",
       "       <tr style=\"background-color: #F3F3F3;\"><td style=\"border: 1px solid #999; border-collapse: collapse; padding: 5px; text-align: left;\">c_name</td><td style=\"border: 1px solid #999; border-collapse: collapse; padding: 5px; text-align: left;\">c</td><td style=\"border: 1px solid #999; border-collapse: collapse; padding: 5px; text-align: left;\">N/A</td><td style=\"border: 1px solid #999; border-collapse: collapse; padding: 5px; text-align: left;\">[&#x27;str&#x27;]</td><td style=\"border: 1px solid #999; border-collapse: collapse; padding: 5px; text-align: left;\">The variable name for vector c.</td></tr>\n",
       "       <tr style=\"background-color: ghostwhite;\"><td style=\"border: 1px solid #999; border-collapse: collapse; padding: 5px; text-align: left;\">c_units</td><td style=\"border: 1px solid #999; border-collapse: collapse; padding: 5px; text-align: left;\">N/A</td><td style=\"border: 1px solid #999; border-collapse: collapse; padding: 5px; text-align: left;\">N/A</td><td style=\"border: 1px solid #999; border-collapse: collapse; padding: 5px; text-align: left;\">[&#x27;str&#x27;]</td><td style=\"border: 1px solid #999; border-collapse: collapse; padding: 5px; text-align: left;\">The units for vector c.</td></tr>\n",
       "       <tr style=\"background-color: #F3F3F3;\"><td style=\"border: 1px solid #999; border-collapse: collapse; padding: 5px; text-align: left;\">distributed</td><td style=\"border: 1px solid #999; border-collapse: collapse; padding: 5px; text-align: left;\">False</td><td style=\"border: 1px solid #999; border-collapse: collapse; padding: 5px; text-align: left;\">[True, False]</td><td style=\"border: 1px solid #999; border-collapse: collapse; padding: 5px; text-align: left;\">[&#x27;bool&#x27;]</td><td style=\"border: 1px solid #999; border-collapse: collapse; padding: 5px; text-align: left;\">If True, set all variables in this component as distributed across multiple processes</td></tr>\n",
       "       <tr style=\"background-color: ghostwhite;\"><td style=\"border: 1px solid #999; border-collapse: collapse; padding: 5px; text-align: left;\">run_root_only</td><td style=\"border: 1px solid #999; border-collapse: collapse; padding: 5px; text-align: left;\">False</td><td style=\"border: 1px solid #999; border-collapse: collapse; padding: 5px; text-align: left;\">[True, False]</td><td style=\"border: 1px solid #999; border-collapse: collapse; padding: 5px; text-align: left;\">[&#x27;bool&#x27;]</td><td style=\"border: 1px solid #999; border-collapse: collapse; padding: 5px; text-align: left;\">If True, call compute, compute_partials, linearize, apply_linear, apply_nonlinear, and compute_jacvec_product only on rank 0 and broadcast the results to the other ranks.</td></tr>\n",
       "       <tr style=\"background-color: #F3F3F3;\"><td style=\"border: 1px solid #999; border-collapse: collapse; padding: 5px; text-align: left;\">vec_size</td><td style=\"border: 1px solid #999; border-collapse: collapse; padding: 5px; text-align: left;\">1</td><td style=\"border: 1px solid #999; border-collapse: collapse; padding: 5px; text-align: left;\">N/A</td><td style=\"border: 1px solid #999; border-collapse: collapse; padding: 5px; text-align: left;\">[&#x27;int&#x27;]</td><td style=\"border: 1px solid #999; border-collapse: collapse; padding: 5px; text-align: left;\">The number of points at which the cross product is computed</td></tr>\n",
       "    </table>\n",
       "</body>\n",
       "</html>\n"
      ],
      "text/plain": [
       "<IPython.core.display.HTML object>"
      ]
     },
     "metadata": {},
     "output_type": "display_data"
    }
   ],
   "source": [
    "import openmdao.api as om\n",
    "om.show_options_table(\"openmdao.components.cross_product_comp.CrossProductComp\")"
   ]
  },
  {
   "cell_type": "markdown",
   "metadata": {},
   "source": [
    "## CrossProductComp Constructor\n",
    "\n",
    "The call signature for the `CrossProductComp` constructor is:\n",
    "\n",
    "```{eval-rst}\n",
    "    .. automethod:: openmdao.components.cross_product_comp.CrossProductComp.__init__\n",
    "        :noindex:\n",
    "```\n",
    "\n",
    "## CrossProductComp Usage\n",
    "\n",
    "There are often situations when numerous products need to be computed, essentially in parallel.\n",
    "You can reduce the number of components required by having one `CrossProductComp` perform multiple operations.\n",
    "This is also convenient when the different operations have common inputs.\n",
    "\n",
    "The `add_product` method is used to create additional products after instantiation.\n",
    "\n",
    "```{eval-rst}\n",
    "    .. automethod:: openmdao.components.cross_product_comp.CrossProductComp.add_product\n",
    "       :noindex:\n",
    "```\n",
    "\n",
    "## CrossProductComp Example\n",
    "\n",
    "In the following example CrossProductComp is used to compute torque as the\n",
    "cross product of force ($F$) and radius ($r$) at 100 points simultaneously.\n",
    "Note the use of `a_name`, `b_name`, and `c_name` to assign names to the inputs and outputs.\n",
    "Units are assigned using `a_units`, `b_units`, and `c_units`.\n",
    "Note that no internal checks are performed to ensure that `c_units` are consistent\n",
    "with `a_units` and `b_units`.\n"
   ]
  },
  {
   "cell_type": "code",
   "execution_count": 3,
   "metadata": {
    "tags": [
     "allow-assert"
    ]
   },
   "outputs": [
    {
     "name": "stdout",
     "output_type": "stream",
     "text": [
      "[[-1.18936444e-01  1.91054493e-01 -5.19382542e-02]\n",
      " [ 2.97876488e-01 -1.72063186e-01 -3.58983976e-01]\n",
      " [-9.41185579e-02 -5.26473693e-02  3.47970409e-01]\n",
      " [ 5.37691835e-02 -2.81972962e-01  2.00844812e-01]\n",
      " [-7.70879110e-02 -4.36756509e-02  6.94423571e-02]\n",
      " [ 6.18282640e-01 -8.65707363e-02 -4.15373710e-02]\n",
      " [-2.59604737e-01 -9.43734666e-02  2.43178453e-01]\n",
      " [-5.39404591e-01  4.15685330e-02  4.60579032e-01]\n",
      " [-2.07215393e-01  1.83469810e-01  5.03375167e-02]\n",
      " [-3.02773949e-01 -1.60637510e-01  3.50511373e-01]\n",
      " [-4.93704450e-02 -5.27817532e-02  9.47354579e-02]\n",
      " [-2.33430394e-01  1.88009396e-01 -6.21607638e-02]\n",
      " [-1.07803634e-01  1.95290768e-01 -5.00705408e-02]\n",
      " [-2.21730931e-01  5.44454796e-03  8.55911396e-02]\n",
      " [-4.12921956e-02  1.26554841e-03  4.48005306e-02]\n",
      " [-3.77086829e-02  5.27546802e-01 -1.36177414e-01]\n",
      " [ 4.91909797e-02 -4.85113914e-04 -1.05932599e-03]\n",
      " [ 1.90867819e-01 -1.90008903e-01 -1.84581380e-01]\n",
      " [-2.63876146e-02  4.91870310e-01 -3.84770085e-01]\n",
      " [ 2.57075883e-01 -5.79873351e-02 -6.63935986e-02]\n",
      " [-4.39792313e-02 -2.38595187e-01  5.72260924e-01]\n",
      " [ 7.91313554e-02  2.67534590e-01 -1.36751374e-01]\n",
      " [ 1.92630174e-01  4.37766501e-02 -2.95682744e-01]\n",
      " [-1.73685349e-03 -1.98560273e-01  3.30636314e-01]]\n"
     ]
    }
   ],
   "source": [
    "import numpy as np\n",
    "import openmdao.api as om\n",
    "\n",
    "n = 24\n",
    "\n",
    "p = om.Problem()\n",
    "\n",
    "p.model.add_subsystem(name='cross_prod_comp',\n",
    "                      subsys=om.CrossProductComp(vec_size=n,\n",
    "                                                 a_name='r', b_name='F', c_name='torque',\n",
    "                                                 a_units='m', b_units='N', c_units='N*m'),\n",
    "                      promotes_inputs=['r', 'F'])\n",
    "\n",
    "p.setup()\n",
    "\n",
    "p.set_val('r', np.random.rand(n, 3))\n",
    "p.set_val('F', np.random.rand(n, 3))\n",
    "\n",
    "p.run_model()\n",
    "\n",
    "# Check the output in units of ft*lbf to ensure that our units work as expected.\n",
    "expected = []\n",
    "for i in range(n):\n",
    "    a_i = p.get_val('r')[i, :]\n",
    "    b_i = p.get_val('F')[i, :]\n",
    "    expected.append(np.cross(a_i, b_i) * 0.73756215)\n",
    "\n",
    "    actual_i = p.get_val('cross_prod_comp.torque', units='ft*lbf')[i]\n",
    "    rel_error = np.abs(expected[i] - actual_i)/actual_i\n",
    "    assert np.all(rel_error < 1e-8), f\"Relative error: {rel_error}\"\n",
    "\n",
    "print(p.get_val('cross_prod_comp.torque', units='ft*lbf'))"
   ]
  },
  {
   "cell_type": "code",
   "execution_count": 4,
   "metadata": {
    "tags": [
     "remove-input",
     "remove-output"
    ]
   },
   "outputs": [
    {
     "data": {
      "text/plain": [
       "2.0453786941082107e-09"
      ]
     },
     "execution_count": 4,
     "metadata": {},
     "output_type": "execute_result"
    }
   ],
   "source": [
    "from openmdao.utils.assert_utils import assert_near_equal\n",
    "\n",
    "assert_near_equal(p.get_val('cross_prod_comp.torque', units='ft*lbf'), np.array(expected), tolerance=1e-8)"
   ]
  },
  {
   "cell_type": "markdown",
   "metadata": {},
   "source": [
    "## DotProductComp Example with Multiple Products\n",
    "\n",
    "When defining multiple products:\n",
    "\n",
    "- An input name in one call to `add_product` may not be an output name in another call, and vice-versa.\n",
    "- The units and shape of variables used across multiple products must be the same in each one."
   ]
  },
  {
   "cell_type": "code",
   "execution_count": 5,
   "metadata": {
    "tags": [
     "allow-assert"
    ]
   },
   "outputs": [
    {
     "name": "stdout",
     "output_type": "stream",
     "text": [
      "[[-0.06876089  0.08457726 -0.05763242]\n",
      " [-0.11373526  0.09530494  0.30703901]\n",
      " [ 0.36302229 -0.30412617  0.17736365]\n",
      " [ 0.15259094  0.11849427 -0.5383283 ]\n",
      " [ 0.093516   -0.07936575  0.06511162]\n",
      " [ 0.09787179 -0.18428999  0.11213479]\n",
      " [-0.12639718  0.09289152  0.02249633]\n",
      " [-0.65896564  0.72994393 -0.22402339]\n",
      " [ 0.22038835 -0.31337451  0.18760235]\n",
      " [-0.04723882 -0.05408839  0.48362206]\n",
      " [ 0.04572959  0.41048064 -0.15352234]\n",
      " [ 0.09090094  0.14962189 -0.24059373]\n",
      " [ 0.31218446 -0.02572959 -0.30455817]\n",
      " [-0.10607137  0.02769735  0.14588754]\n",
      " [-0.05806496  0.27051382 -0.23269651]\n",
      " [-0.16982266  0.22821032 -0.17088282]\n",
      " [-0.0577105   0.34137673  0.07458745]\n",
      " [-0.07839952  0.0467913   0.14572635]\n",
      " [-0.71647465  0.54117797  0.67021754]\n",
      " [-0.14212636 -0.15704736  0.22716696]\n",
      " [-0.00999064  0.24729715 -0.02494866]\n",
      " [ 0.57889361 -0.24243635 -0.34459383]\n",
      " [-0.02335254 -0.16654667  0.14787235]\n",
      " [-0.55425845 -0.06270983  0.57557943]]\n"
     ]
    }
   ],
   "source": [
    "n = 24\n",
    "\n",
    "p = om.Problem()\n",
    "\n",
    "cpc = om.CrossProductComp(vec_size=n,\n",
    "                          a_name='r', b_name='F', c_name='torque',\n",
    "                          a_units='m', b_units='N', c_units='N*m')\n",
    "\n",
    "cpc.add_product(vec_size=n,\n",
    "                a_name='r', b_name='p', c_name='L',\n",
    "                a_units='m', b_units='kg*m/s', c_units='kg*m**2/s')\n",
    "\n",
    "p.model.add_subsystem(name='cross_prod_comp', subsys=cpc,\n",
    "                      promotes_inputs=['r', 'F', 'p'])\n",
    "\n",
    "p.setup()\n",
    "\n",
    "p.set_val('r', np.random.rand(n, 3))\n",
    "p.set_val('F', np.random.rand(n, 3))\n",
    "p.set_val('p', np.random.rand(n, 3))\n",
    "\n",
    "p.run_model()\n",
    "\n",
    "# Check the output.\n",
    "expected_T = []\n",
    "expected_L = []\n",
    "for i in range(n):\n",
    "    a_i = p.get_val('r')[i, :]\n",
    "    b_i = p.get_val('F')[i, :]\n",
    "    expected_T.append(np.cross(a_i, b_i))\n",
    "\n",
    "    actual_i = p.get_val('cross_prod_comp.torque')[i]\n",
    "    rel_error = np.abs(expected_T[i] - actual_i)/actual_i\n",
    "    assert np.all(rel_error < 1e-8), f\"Relative error: {rel_error}\"\n",
    "\n",
    "    b_i = p.get_val('p')[i, :]\n",
    "    expected_L.append(np.cross(a_i, b_i))\n",
    "\n",
    "    actual_i = p.get_val('cross_prod_comp.L')[i]\n",
    "    rel_error = np.abs(expected_L[i] - actual_i)/actual_i\n",
    "    assert np.all(rel_error < 1e-8), f\"Relative error: {rel_error}\"\n",
    "\n",
    "print(p.get_val('cross_prod_comp.torque'))"
   ]
  },
  {
   "cell_type": "code",
   "execution_count": 6,
   "metadata": {},
   "outputs": [
    {
     "name": "stdout",
     "output_type": "stream",
     "text": [
      "[[ 0.41874955  0.1240558  -0.25692693]\n",
      " [-0.01703562  0.03473554  0.04029163]\n",
      " [ 0.24797308 -0.19603267 -0.06487556]\n",
      " [ 0.4955497  -0.13312312 -0.6342708 ]\n",
      " [ 0.49346548 -0.13459923 -0.18288507]\n",
      " [-0.33173599  0.28654646 -0.01907949]\n",
      " [ 0.05616701 -0.03804221 -0.01538686]\n",
      " [-0.18307265  0.25097347 -0.10202013]\n",
      " [ 0.360051   -0.47401903  0.10542538]\n",
      " [ 0.00763673 -0.01309217 -0.00070342]\n",
      " [-0.31279462  0.090302    0.03736081]\n",
      " [-0.29216397 -0.17286907  0.47436514]\n",
      " [ 0.60016647 -0.24529557 -0.26768179]\n",
      " [ 0.11925715 -0.07829817 -0.13189722]\n",
      " [-0.21064297  0.14394578 -0.12147001]\n",
      " [-0.19926883  0.36865518 -0.29633267]\n",
      " [-0.35225891  0.22157712  0.45866975]\n",
      " [ 0.03175326 -0.18752885  0.05666527]\n",
      " [-0.54392451  0.31299127  0.52150181]\n",
      " [-0.33238169  0.03008711  0.29936022]\n",
      " [-0.14421883 -0.47058757  0.24395825]\n",
      " [-0.08363452 -0.60870994  0.68248204]\n",
      " [-0.18336155  0.15818716  0.13175612]\n",
      " [ 0.05981319 -0.562999    0.45415137]]\n"
     ]
    }
   ],
   "source": [
    "print(p.get_val('cross_prod_comp.L'))"
   ]
  },
  {
   "cell_type": "code",
   "execution_count": 7,
   "metadata": {
    "tags": [
     "remove-input",
     "remove-output"
    ]
   },
   "outputs": [
    {
     "data": {
      "text/plain": [
       "0.0"
      ]
     },
     "execution_count": 7,
     "metadata": {},
     "output_type": "execute_result"
    }
   ],
   "source": [
    "assert_near_equal(p.get_val('cross_prod_comp.torque'), np.array(expected_T), tolerance=1e-8)\n",
    "assert_near_equal(p.get_val('cross_prod_comp.L'), np.array(expected_L), tolerance=1e-8)"
   ]
  }
 ],
 "metadata": {
  "celltoolbar": "Tags",
  "kernelspec": {
   "display_name": "Python 3 (ipykernel)",
   "language": "python",
   "name": "python3"
  },
  "language_info": {
   "codemirror_mode": {
    "name": "ipython",
    "version": 3
   },
   "file_extension": ".py",
   "mimetype": "text/x-python",
   "name": "python",
   "nbconvert_exporter": "python",
   "pygments_lexer": "ipython3",
   "version": "3.9.19"
  },
  "orphan": true
 },
 "nbformat": 4,
 "nbformat_minor": 4
}