{
 "cells": [
  {
   "cell_type": "code",
   "execution_count": 1,
   "metadata": {
    "tags": [
     "remove-input",
     "active-ipynb",
     "remove-output"
    ]
   },
   "outputs": [],
   "source": [
    "try:\n",
    "    from openmdao.utils.notebook_utils import notebook_mode\n",
    "except ImportError:\n",
    "    !python -m pip install openmdao[notebooks]"
   ]
  },
  {
   "cell_type": "markdown",
   "metadata": {},
   "source": [
    "# VectorMagnitudeComp\n",
    "\n",
    "`VectorMagnitudeComp` computes the magnitude (L2 norm) of a single input of some given length.\n",
    "It may be vectorized to provide the result at one or more points simultaneously.\n",
    "\n",
    "$$\n",
    "    \\lvert a_i \\rvert = \\sqrt{\\bar{a}_i \\cdot \\bar{a}_i}\n",
    "$$\n",
    "\n",
    "## VectorMagnitudeComp Options\n",
    "\n",
    "The default `vec_size` is 1, providing the magnitude of $a$ at a singlepoint.  The length of $a$ is provided by option `length`.\n",
    "\n",
    "Other options for VectorMagnitudeComp allow the user to rename the input variable $a$ and the output $a\\_mag$, as well as specifying their units."
   ]
  },
  {
   "cell_type": "code",
   "execution_count": 2,
   "metadata": {
    "tags": [
     "remove-input"
    ]
   },
   "outputs": [
    {
     "data": {
      "text/html": [
       "\n",
       "<!DOCTYPE html>\n",
       "<html lang=\"en\">\n",
       "<head>\n",
       "    <style>\n",
       "        h2 {\n",
       "            text-align: center;\n",
       "        }\n",
       "    </style>\n",
       "</head>\n",
       "<body>\n",
       "    <h2></h2>\n",
       "        <table style=\"border: 1px solid #999; border-collapse: collapse;\">\n",
       "        <tr><th style=\"border: 1px solid #999; border-collapse: collapse; padding: 5px; background-color: #E9E9E9; text-align: left;\">Option</th><th style=\"border: 1px solid #999; border-collapse: collapse; padding: 5px; background-color: #E9E9E9; text-align: left;\">Default</th><th style=\"border: 1px solid #999; border-collapse: collapse; padding: 5px; background-color: #E9E9E9; text-align: left;\">Acceptable Values</th><th style=\"border: 1px solid #999; border-collapse: collapse; padding: 5px; background-color: #E9E9E9; text-align: left;\">Acceptable Types</th><th style=\"border: 1px solid #999; border-collapse: collapse; padding: 5px; background-color: #E9E9E9; text-align: left;\">Description</th></tr>\n",
       "       <tr style=\"background-color: ghostwhite;\"><td style=\"border: 1px solid #999; border-collapse: collapse; padding: 5px; text-align: left;\">always_opt</td><td style=\"border: 1px solid #999; border-collapse: collapse; padding: 5px; text-align: left;\">False</td><td style=\"border: 1px solid #999; border-collapse: collapse; padding: 5px; text-align: left;\">[True, False]</td><td style=\"border: 1px solid #999; border-collapse: collapse; padding: 5px; text-align: left;\">[&#x27;bool&#x27;]</td><td style=\"border: 1px solid #999; border-collapse: collapse; padding: 5px; text-align: left;\">If True, force nonlinear operations on this component to be included in the optimization loop even if this component is not relevant to the design variables and responses.</td></tr>\n",
       "       <tr style=\"background-color: #F3F3F3;\"><td style=\"border: 1px solid #999; border-collapse: collapse; padding: 5px; text-align: left;\">distributed</td><td style=\"border: 1px solid #999; border-collapse: collapse; padding: 5px; text-align: left;\">False</td><td style=\"border: 1px solid #999; border-collapse: collapse; padding: 5px; text-align: left;\">[True, False]</td><td style=\"border: 1px solid #999; border-collapse: collapse; padding: 5px; text-align: left;\">[&#x27;bool&#x27;]</td><td style=\"border: 1px solid #999; border-collapse: collapse; padding: 5px; text-align: left;\">If True, set all variables in this component as distributed across multiple processes</td></tr>\n",
       "       <tr style=\"background-color: ghostwhite;\"><td style=\"border: 1px solid #999; border-collapse: collapse; padding: 5px; text-align: left;\">in_name</td><td style=\"border: 1px solid #999; border-collapse: collapse; padding: 5px; text-align: left;\">a</td><td style=\"border: 1px solid #999; border-collapse: collapse; padding: 5px; text-align: left;\">N/A</td><td style=\"border: 1px solid #999; border-collapse: collapse; padding: 5px; text-align: left;\">[&#x27;str&#x27;]</td><td style=\"border: 1px solid #999; border-collapse: collapse; padding: 5px; text-align: left;\">The variable name for input vector.</td></tr>\n",
       "       <tr style=\"background-color: #F3F3F3;\"><td style=\"border: 1px solid #999; border-collapse: collapse; padding: 5px; text-align: left;\">length</td><td style=\"border: 1px solid #999; border-collapse: collapse; padding: 5px; text-align: left;\">3</td><td style=\"border: 1px solid #999; border-collapse: collapse; padding: 5px; text-align: left;\">N/A</td><td style=\"border: 1px solid #999; border-collapse: collapse; padding: 5px; text-align: left;\">[&#x27;int&#x27;]</td><td style=\"border: 1px solid #999; border-collapse: collapse; padding: 5px; text-align: left;\">The length of the input vector at each point</td></tr>\n",
       "       <tr style=\"background-color: ghostwhite;\"><td style=\"border: 1px solid #999; border-collapse: collapse; padding: 5px; text-align: left;\">mag_name</td><td style=\"border: 1px solid #999; border-collapse: collapse; padding: 5px; text-align: left;\">a_mag</td><td style=\"border: 1px solid #999; border-collapse: collapse; padding: 5px; text-align: left;\">N/A</td><td style=\"border: 1px solid #999; border-collapse: collapse; padding: 5px; text-align: left;\">[&#x27;str&#x27;]</td><td style=\"border: 1px solid #999; border-collapse: collapse; padding: 5px; text-align: left;\">The variable name for output vector magnitude.</td></tr>\n",
       "       <tr style=\"background-color: #F3F3F3;\"><td style=\"border: 1px solid #999; border-collapse: collapse; padding: 5px; text-align: left;\">run_root_only</td><td style=\"border: 1px solid #999; border-collapse: collapse; padding: 5px; text-align: left;\">False</td><td style=\"border: 1px solid #999; border-collapse: collapse; padding: 5px; text-align: left;\">[True, False]</td><td style=\"border: 1px solid #999; border-collapse: collapse; padding: 5px; text-align: left;\">[&#x27;bool&#x27;]</td><td style=\"border: 1px solid #999; border-collapse: collapse; padding: 5px; text-align: left;\">If True, call compute, compute_partials, linearize, apply_linear, apply_nonlinear, and compute_jacvec_product only on rank 0 and broadcast the results to the other ranks.</td></tr>\n",
       "       <tr style=\"background-color: ghostwhite;\"><td style=\"border: 1px solid #999; border-collapse: collapse; padding: 5px; text-align: left;\">units</td><td style=\"border: 1px solid #999; border-collapse: collapse; padding: 5px; text-align: left;\">N/A</td><td style=\"border: 1px solid #999; border-collapse: collapse; padding: 5px; text-align: left;\">N/A</td><td style=\"border: 1px solid #999; border-collapse: collapse; padding: 5px; text-align: left;\">[&#x27;str&#x27;]</td><td style=\"border: 1px solid #999; border-collapse: collapse; padding: 5px; text-align: left;\">The units of the input vector.</td></tr>\n",
       "       <tr style=\"background-color: #F3F3F3;\"><td style=\"border: 1px solid #999; border-collapse: collapse; padding: 5px; text-align: left;\">vec_size</td><td style=\"border: 1px solid #999; border-collapse: collapse; padding: 5px; text-align: left;\">1</td><td style=\"border: 1px solid #999; border-collapse: collapse; padding: 5px; text-align: left;\">N/A</td><td style=\"border: 1px solid #999; border-collapse: collapse; padding: 5px; text-align: left;\">[&#x27;int&#x27;]</td><td style=\"border: 1px solid #999; border-collapse: collapse; padding: 5px; text-align: left;\">The number of points at which the vector magnitude is computed</td></tr>\n",
       "    </table>\n",
       "</body>\n",
       "</html>\n"
      ],
      "text/plain": [
       "<IPython.core.display.HTML object>"
      ]
     },
     "metadata": {},
     "output_type": "display_data"
    }
   ],
   "source": [
    "import openmdao.api as om\n",
    "om.show_options_table(\"openmdao.components.vector_magnitude_comp.VectorMagnitudeComp\")"
   ]
  },
  {
   "cell_type": "markdown",
   "metadata": {},
   "source": [
    "## VectorMagnitudeComp Constructor\n",
    "\n",
    "The call signature for the `VectorMagnitudeComp` constructor is:\n",
    "\n",
    "```{eval-rst}\n",
    "    .. automethod:: openmdao.components.vector_magnitude_comp.VectorMagnitudeComp.__init__\n",
    "        :noindex:\n",
    "```\n",
    "\n",
    "## VectorMagnitudeComp Usage\n",
    "\n",
    "There are often situations when numerous magnitudes need to be computed, essentially in parallel.\n",
    "You can reduce the number of components required by having one `VectorMagnitudeComp` perform multiple operations.\n",
    "This is also convenient when the different operations have common inputs.\n",
    "\n",
    "The `add_magnitude` method is used to create additional magnitude calculations after instantiation.\n",
    "\n",
    "```{eval-rst}\n",
    "    .. automethod:: openmdao.components.vector_magnitude_comp.VectorMagnitudeComp.add_magnitude\n",
    "       :noindex:\n",
    "```\n",
    "\n",
    "## VectorMagnitudeComp Example\n",
    "\n",
    "In the following example VectorMagnitudeComp is used to compute the radius vector magnitude\n",
    "given a radius 3-vector at 100 points simultaneously. Note the use of `in_name` and `mag_name` to assign names to the inputs and outputs. Units are assigned using `units`.  The units of the output magnitude are the same as those for the input."
   ]
  },
  {
   "cell_type": "code",
   "execution_count": 3,
   "metadata": {
    "tags": [
     "allow-assert"
    ]
   },
   "outputs": [
    {
     "name": "stdout",
     "output_type": "stream",
     "text": [
      "[2.47720613 3.22427911 2.79689459 2.76126771 2.66406024 2.93932592\n",
      " 2.31476852 2.89726892 2.7932659  2.54740269 2.66226257 2.46339129\n",
      " 2.45432278 2.91100245 2.72329421 2.51829663 2.86398109 2.95142393\n",
      " 2.57617835 2.2135368  2.88943274 2.98101329 3.2244157  2.09997384\n",
      " 2.81862124 2.30816528 2.65774379 2.72487515 2.46078437 2.45414194\n",
      " 2.5180635  3.15831824 2.5536861  2.65733062 2.39147064 2.49045354\n",
      " 3.04687889 2.75837572 2.10911018 2.32916248 2.49915555 2.70020097\n",
      " 2.37949724 3.01096739 2.84609002 2.69292036 3.19798898 1.95889032\n",
      " 3.17428981 2.94502472 2.63789937 2.9944546  2.09142853 2.09498564\n",
      " 2.72746127 2.46575456 2.74604231 2.37930903 2.76795827 2.47367081\n",
      " 2.75793952 2.90696274 2.48960749 2.90293261 2.74475228 2.425904\n",
      " 2.65404569 2.17779336 2.43371864 2.80590763 2.36198111 2.19294104\n",
      " 2.63185844 2.75045122 2.964557   3.1236848  2.82982798 2.60565878\n",
      " 2.98022372 2.67138663 2.70882965 2.78307888 2.68482528 2.81350395\n",
      " 2.59108427 2.09473765 2.17655328 3.23326821 2.8207744  2.86055553\n",
      " 2.50950388 3.03247537 2.7449029  2.24885258 2.89112906 2.87000806\n",
      " 2.72600067 2.03886852 3.04968668 2.61113381]\n"
     ]
    }
   ],
   "source": [
    "import numpy as np\n",
    "import openmdao.api as om\n",
    "\n",
    "n = 100\n",
    "\n",
    "p = om.Problem()\n",
    "\n",
    "comp = om.VectorMagnitudeComp(vec_size=n, length=3,\n",
    "                              in_name='r', mag_name='r_mag', units='km')\n",
    "\n",
    "p.model.add_subsystem(name='vec_mag_comp', subsys=comp,\n",
    "                      promotes_inputs=[('r', 'pos')])\n",
    "\n",
    "p.setup()\n",
    "\n",
    "p.set_val('pos', 1.0 + np.random.rand(n, 3))\n",
    "\n",
    "p.run_model()\n",
    "\n",
    "# Verify the results against numpy.dot in a for loop.\n",
    "expected = []\n",
    "for i in range(n):\n",
    "    a_i = p.get_val('pos')[i, :]\n",
    "    expected.append(np.sqrt(np.dot(a_i, a_i)))\n",
    "\n",
    "    actual_i = p.get_val('vec_mag_comp.r_mag')[i]\n",
    "    rel_error = np.abs(expected[i] - actual_i)/actual_i\n",
    "    assert rel_error < 1e-9, f\"Relative error: {rel_error}\"\n",
    "\n",
    "print(p.get_val('vec_mag_comp.r_mag'))"
   ]
  },
  {
   "cell_type": "code",
   "execution_count": 4,
   "metadata": {
    "tags": [
     "remove-input",
     "remove-output"
    ]
   },
   "outputs": [
    {
     "data": {
      "text/plain": [
       "6.206938993434361e-17"
      ]
     },
     "execution_count": 4,
     "metadata": {},
     "output_type": "execute_result"
    }
   ],
   "source": [
    "from openmdao.utils.assert_utils import assert_near_equal\n",
    "\n",
    "assert_near_equal(p.get_val('vec_mag_comp.r_mag'), np.array(expected))"
   ]
  },
  {
   "cell_type": "markdown",
   "metadata": {},
   "source": [
    "## VectorMagnitudeComp Example with Multiple Magnitudes\n",
    "\n",
    "Note that, when defining multiple magnitudes, an input name in one call to `add_magnitude` may not be an output name in another call, and vice-versa."
   ]
  },
  {
   "cell_type": "code",
   "execution_count": 5,
   "metadata": {
    "tags": [
     "allow_assert",
     "allow-assert"
    ]
   },
   "outputs": [
    {
     "name": "stdout",
     "output_type": "stream",
     "text": [
      "[2.16909513 2.31484139 2.1553754  2.26823389 2.62191047 2.69089259\n",
      " 2.92511147 2.81172221 2.88230408 2.99339444 2.80249834 3.17668009\n",
      " 3.30847843 2.94933918 2.14980714 2.68058423 2.99421523 2.46476956\n",
      " 2.99592247 2.39167247 2.9381786  2.45940609 2.00891224 3.24347441\n",
      " 2.11641843 2.66017763 2.43954382 2.59119938 2.56812034 2.00580092\n",
      " 2.25745868 2.32984385 2.27979531 2.65531736 2.98510633 2.71093903\n",
      " 2.55121194 2.89978764 2.65676425 2.75940445 3.20361578 2.61292702\n",
      " 2.69709788 2.55761854 2.4688588  2.25872174 2.4873349  2.74086404\n",
      " 2.27145181 2.42832141 2.82401819 2.25611018 3.11158394 2.5596496\n",
      " 2.65985986 2.40461125 2.04029604 2.45138562 2.33155441 2.82890186\n",
      " 2.90370387 2.69566135 3.09228606 3.26733392 2.65650134 2.63552336\n",
      " 2.94427179 2.910518   2.59693374 2.59146563 2.42203945 2.61999688\n",
      " 2.63347728 2.57154506 2.53671846 2.59376095 2.59784258 2.99502527\n",
      " 2.8462322  2.20084296 2.49992886 2.54874362 2.65832316 2.87099382\n",
      " 2.38961611 2.5853811  2.40343661 2.45445522 2.0560535  2.30189349\n",
      " 2.80277013 2.77942141 2.525652   3.00399725 2.33026156 2.89685393\n",
      " 2.80304125 2.45418386 2.92310298 2.96557737]\n"
     ]
    }
   ],
   "source": [
    "import numpy as np\n",
    "\n",
    "n = 100\n",
    "\n",
    "p = om.Problem()\n",
    "\n",
    "comp = om.VectorMagnitudeComp(vec_size=n, length=3,\n",
    "                              in_name='r', mag_name='r_mag', units='km')\n",
    "\n",
    "comp.add_magnitude(vec_size=n, length=3,\n",
    "                   in_name='b', mag_name='b_mag', units='ft')\n",
    "\n",
    "p.model.add_subsystem(name='vec_mag_comp', subsys=comp,\n",
    "                      promotes_inputs=['r', 'b'])\n",
    "\n",
    "p.setup()\n",
    "\n",
    "p.set_val('r', 1.0 + np.random.rand(n, 3))\n",
    "p.set_val('b', 1.0 + np.random.rand(n, 3))\n",
    "\n",
    "p.run_model()\n",
    "\n",
    "# Verify the results against numpy.dot in a for loop.\n",
    "expected_r = []\n",
    "expected_b = []\n",
    "for i in range(n):\n",
    "    a_i = p.get_val('r')[i, :]\n",
    "    expected_r.append(np.sqrt(np.dot(a_i, a_i)))\n",
    "\n",
    "    actual_i = p.get_val('vec_mag_comp.r_mag')[i]\n",
    "    rel_error = np.abs(expected_r[i] - actual_i)/actual_i\n",
    "    assert rel_error < 1e-9, f\"Relative error: {rel_error}\"\n",
    "\n",
    "    b_i = p.get_val('b')[i, :]\n",
    "    expected_b.append(np.sqrt(np.dot(b_i, b_i)))\n",
    "\n",
    "    actual_i = p.get_val('vec_mag_comp.b_mag')[i]\n",
    "    rel_error = np.abs(expected_b[i] - actual_i)/actual_i\n",
    "    assert rel_error < 1e-9, f\"Relative error: {rel_error}\"\n",
    "\n",
    "print(p.get_val('vec_mag_comp.r_mag'))"
   ]
  },
  {
   "cell_type": "code",
   "execution_count": 6,
   "metadata": {},
   "outputs": [
    {
     "name": "stdout",
     "output_type": "stream",
     "text": [
      "[2.50569687 2.69284146 2.52691302 3.2708491  2.83961974 2.53759691\n",
      " 2.76146508 2.76474766 2.41099842 2.1752986  2.39602338 3.15424525\n",
      " 1.93374109 1.94382857 2.64499855 2.15168531 2.63849411 2.27947939\n",
      " 3.08403152 2.82203469 3.22401139 2.47380494 2.26321186 2.8875496\n",
      " 2.56771933 2.60151038 2.3058943  2.77524314 2.63831428 2.34649444\n",
      " 2.56401134 2.70933573 2.62342509 2.7813774  2.67102014 2.46713211\n",
      " 2.57825045 2.36867586 3.15058892 3.02129469 2.40320863 1.89942062\n",
      " 2.48782702 2.45208937 2.29927693 2.83513115 2.7742489  3.0032569\n",
      " 2.93768852 3.09179415 2.44028556 2.92920553 2.68855166 2.02035801\n",
      " 2.72780915 2.76203803 2.95242611 2.31933228 2.22646588 2.67490904\n",
      " 2.72177567 2.24960096 2.94634973 2.82528482 3.11303558 2.66744558\n",
      " 3.30195065 2.77466685 2.33276246 3.03439913 2.46957745 2.32666467\n",
      " 2.37320572 2.64207015 2.75884949 2.30902782 2.20478052 2.57885685\n",
      " 2.75971356 2.710412   2.36083182 2.6957311  2.7071677  2.36035488\n",
      " 3.05998955 2.98277305 2.87554915 2.70009616 2.72004103 2.31983391\n",
      " 2.46743347 2.87947876 1.88942081 1.994684   3.05961792 2.8075148\n",
      " 2.3370853  2.55152958 2.8522323  2.62951625]\n"
     ]
    }
   ],
   "source": [
    "print(p.get_val('vec_mag_comp.b_mag'))"
   ]
  },
  {
   "cell_type": "code",
   "execution_count": 7,
   "metadata": {
    "tags": [
     "remove-input",
     "remove-output"
    ]
   },
   "outputs": [
    {
     "data": {
      "text/plain": [
       "5.325068629033931e-17"
      ]
     },
     "execution_count": 7,
     "metadata": {},
     "output_type": "execute_result"
    }
   ],
   "source": [
    "assert_near_equal(p.get_val('vec_mag_comp.r_mag'), np.array(expected_r))\n",
    "assert_near_equal(p.get_val('vec_mag_comp.b_mag'), np.array(expected_b))"
   ]
  }
 ],
 "metadata": {
  "celltoolbar": "Tags",
  "kernelspec": {
   "display_name": "Python 3",
   "language": "python",
   "name": "python3"
  },
  "language_info": {
   "codemirror_mode": {
    "name": "ipython",
    "version": 3
   },
   "file_extension": ".py",
   "mimetype": "text/x-python",
   "name": "python",
   "nbconvert_exporter": "python",
   "pygments_lexer": "ipython3",
   "version": "3.9.19"
  },
  "orphan": true
 },
 "nbformat": 4,
 "nbformat_minor": 4
}