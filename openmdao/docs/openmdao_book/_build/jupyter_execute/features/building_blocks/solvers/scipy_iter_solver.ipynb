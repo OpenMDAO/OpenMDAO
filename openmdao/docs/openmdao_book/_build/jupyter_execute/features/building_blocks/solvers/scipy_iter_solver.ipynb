{
 "cells": [
  {
   "cell_type": "code",
   "execution_count": 1,
   "metadata": {
    "tags": [
     "remove-input",
     "active-ipynb",
     "remove-output"
    ]
   },
   "outputs": [],
   "source": [
    "try:\n",
    "    from openmdao.utils.notebook_utils import notebook_mode\n",
    "except ImportError:\n",
    "    !python -m pip install openmdao[notebooks]"
   ]
  },
  {
   "cell_type": "markdown",
   "metadata": {},
   "source": [
    "# ScipyKrylov\n",
    "\n",
    "ScipyKrylov is an iterative linear solver that wraps the methods found in `scipy.sparse.linalg`.\n",
    "The default method is \"gmres\", or the Generalized Minimal RESidual method. Support for other\n",
    "`scipy.sparse.linalg` solvers will be added over time. This linear solver is capable of handling any\n",
    "system topology very effectively. It also solves all subsystems below it in the hierarchy, so\n",
    "assigning different solvers to subsystems will have no effect on the solution at this level.\n",
    "\n",
    "This is a serial solver, so it should never be used under MPI; use [PETScKrylov](../../../_srcdocs/packages/solvers.linear/petsc_ksp) instead.\n",
    "\n",
    "Here, we calculate the total derivatives across the Sellar system."
   ]
  },
  {
   "cell_type": "code",
   "execution_count": 2,
   "metadata": {
    "tags": [
     "remove-input",
     "remove-output"
    ]
   },
   "outputs": [],
   "source": [
    "from openmdao.utils.notebook_utils import get_code\n",
    "from myst_nb import glue\n",
    "glue(\"code_src41\", get_code(\"openmdao.test_suite.components.sellar.SellarDis1withDerivatives\"), display=False)"
   ]
  },
  {
   "cell_type": "markdown",
   "metadata": {},
   "source": [
    ":::{Admonition} `SellarDis1withDerivatives` class definition \n",
    ":class: dropdown\n",
    "\n",
    "{glue:}`code_src41`\n",
    ":::"
   ]
  },
  {
   "cell_type": "code",
   "execution_count": 3,
   "metadata": {
    "tags": [
     "remove-input",
     "remove-output"
    ]
   },
   "outputs": [],
   "source": [
    "from openmdao.utils.notebook_utils import get_code\n",
    "from myst_nb import glue\n",
    "glue(\"code_src42\", get_code(\"openmdao.test_suite.components.sellar.SellarDis2withDerivatives\"), display=False)"
   ]
  },
  {
   "cell_type": "markdown",
   "metadata": {},
   "source": [
    ":::{Admonition} `SellarDis2withDerivatives` class definition \n",
    ":class: dropdown\n",
    "\n",
    "{glue:}`code_src42`\n",
    ":::"
   ]
  },
  {
   "cell_type": "code",
   "execution_count": 4,
   "metadata": {},
   "outputs": [
    {
     "name": "stdout",
     "output_type": "stream",
     "text": [
      "NL: NLBGS Converged in 8 iterations\n"
     ]
    }
   ],
   "source": [
    "import numpy as np\n",
    "import openmdao.api as om\n",
    "from openmdao.test_suite.components.sellar import SellarDis1withDerivatives, SellarDis2withDerivatives\n",
    "\n",
    "prob = om.Problem()\n",
    "model = prob.model\n",
    "\n",
    "model.add_subsystem('d1', SellarDis1withDerivatives(), promotes=['x', 'z', 'y1', 'y2'])\n",
    "model.add_subsystem('d2', SellarDis2withDerivatives(), promotes=['z', 'y1', 'y2'])\n",
    "\n",
    "model.add_subsystem('obj_cmp', om.ExecComp('obj = x**2 + z[1] + y1 + exp(-y2)',\n",
    "                                           z=np.array([0.0, 0.0]), x=0.0),\n",
    "                    promotes=['obj', 'x', 'z', 'y1', 'y2'])\n",
    "\n",
    "model.add_subsystem('con_cmp1', om.ExecComp('con1 = 3.16 - y1'), promotes=['con1', 'y1'])\n",
    "model.add_subsystem('con_cmp2', om.ExecComp('con2 = y2 - 24.0'), promotes=['con2', 'y2'])\n",
    "\n",
    "model.nonlinear_solver = om.NonlinearBlockGS()\n",
    "\n",
    "model.linear_solver = om.ScipyKrylov()\n",
    "\n",
    "prob.setup()\n",
    "\n",
    "prob.set_val('x', 1.)\n",
    "prob.set_val('z', np.array([5.0, 2.0]))\n",
    "\n",
    "prob.run_model()\n",
    "\n",
    "wrt = ['z']\n",
    "of = ['obj']\n",
    "\n",
    "J = prob.compute_totals(of=of, wrt=wrt, return_format='flat_dict')"
   ]
  },
  {
   "cell_type": "code",
   "execution_count": 5,
   "metadata": {
    "tags": [
     "remove-input",
     "remove-output"
    ]
   },
   "outputs": [
    {
     "data": {
      "text/plain": [
       "2.448120300755809e-09"
      ]
     },
     "execution_count": 5,
     "metadata": {},
     "output_type": "execute_result"
    }
   ],
   "source": [
    "from openmdao.utils.assert_utils import assert_near_equal\n",
    "\n",
    "assert_near_equal(J['obj', 'z'][0][0], 9.61001056, .00001)\n",
    "assert_near_equal(J['obj', 'z'][0][1], 1.78448534, .00001)"
   ]
  },
  {
   "cell_type": "markdown",
   "metadata": {},
   "source": [
    "## ScipyKrylov Options"
   ]
  },
  {
   "cell_type": "code",
   "execution_count": 6,
   "metadata": {
    "tags": [
     "remove-input"
    ]
   },
   "outputs": [
    {
     "data": {
      "text/html": [
       "\n",
       "<!DOCTYPE html>\n",
       "<html lang=\"en\">\n",
       "<head>\n",
       "    <style>\n",
       "        h2 {\n",
       "            text-align: center;\n",
       "        }\n",
       "    </style>\n",
       "</head>\n",
       "<body>\n",
       "    <h2></h2>\n",
       "        <table style=\"border: 1px solid #999; border-collapse: collapse;\">\n",
       "        <tr><th style=\"border: 1px solid #999; border-collapse: collapse; padding: 5px; background-color: #E9E9E9; text-align: left;\">Option</th><th style=\"border: 1px solid #999; border-collapse: collapse; padding: 5px; background-color: #E9E9E9; text-align: left;\">Default</th><th style=\"border: 1px solid #999; border-collapse: collapse; padding: 5px; background-color: #E9E9E9; text-align: left;\">Acceptable Values</th><th style=\"border: 1px solid #999; border-collapse: collapse; padding: 5px; background-color: #E9E9E9; text-align: left;\">Acceptable Types</th><th style=\"border: 1px solid #999; border-collapse: collapse; padding: 5px; background-color: #E9E9E9; text-align: left;\">Description</th></tr>\n",
       "       <tr style=\"background-color: ghostwhite;\"><td style=\"border: 1px solid #999; border-collapse: collapse; padding: 5px; text-align: left;\">assemble_jac</td><td style=\"border: 1px solid #999; border-collapse: collapse; padding: 5px; text-align: left;\">False</td><td style=\"border: 1px solid #999; border-collapse: collapse; padding: 5px; text-align: left;\">[True, False]</td><td style=\"border: 1px solid #999; border-collapse: collapse; padding: 5px; text-align: left;\">[&#x27;bool&#x27;]</td><td style=\"border: 1px solid #999; border-collapse: collapse; padding: 5px; text-align: left;\">Activates use of assembled jacobian by this solver.</td></tr>\n",
       "       <tr style=\"background-color: #F3F3F3;\"><td style=\"border: 1px solid #999; border-collapse: collapse; padding: 5px; text-align: left;\">atol</td><td style=\"border: 1px solid #999; border-collapse: collapse; padding: 5px; text-align: left;\">1e-12</td><td style=\"border: 1px solid #999; border-collapse: collapse; padding: 5px; text-align: left;\">N/A</td><td style=\"border: 1px solid #999; border-collapse: collapse; padding: 5px; text-align: left;\">N/A</td><td style=\"border: 1px solid #999; border-collapse: collapse; padding: 5px; text-align: left;\">absolute error tolerance</td></tr>\n",
       "       <tr style=\"background-color: ghostwhite;\"><td style=\"border: 1px solid #999; border-collapse: collapse; padding: 5px; text-align: left;\">err_on_non_converge</td><td style=\"border: 1px solid #999; border-collapse: collapse; padding: 5px; text-align: left;\">False</td><td style=\"border: 1px solid #999; border-collapse: collapse; padding: 5px; text-align: left;\">[True, False]</td><td style=\"border: 1px solid #999; border-collapse: collapse; padding: 5px; text-align: left;\">[&#x27;bool&#x27;]</td><td style=\"border: 1px solid #999; border-collapse: collapse; padding: 5px; text-align: left;\">When True, AnalysisError will be raised if we don&#x27;t converge.</td></tr>\n",
       "       <tr style=\"background-color: #F3F3F3;\"><td style=\"border: 1px solid #999; border-collapse: collapse; padding: 5px; text-align: left;\">iprint</td><td style=\"border: 1px solid #999; border-collapse: collapse; padding: 5px; text-align: left;\">1</td><td style=\"border: 1px solid #999; border-collapse: collapse; padding: 5px; text-align: left;\">N/A</td><td style=\"border: 1px solid #999; border-collapse: collapse; padding: 5px; text-align: left;\">[&#x27;int&#x27;]</td><td style=\"border: 1px solid #999; border-collapse: collapse; padding: 5px; text-align: left;\">whether to print output</td></tr>\n",
       "       <tr style=\"background-color: ghostwhite;\"><td style=\"border: 1px solid #999; border-collapse: collapse; padding: 5px; text-align: left;\">maxiter</td><td style=\"border: 1px solid #999; border-collapse: collapse; padding: 5px; text-align: left;\">1000</td><td style=\"border: 1px solid #999; border-collapse: collapse; padding: 5px; text-align: left;\">N/A</td><td style=\"border: 1px solid #999; border-collapse: collapse; padding: 5px; text-align: left;\">[&#x27;int&#x27;]</td><td style=\"border: 1px solid #999; border-collapse: collapse; padding: 5px; text-align: left;\">maximum number of iterations</td></tr>\n",
       "       <tr style=\"background-color: #F3F3F3;\"><td style=\"border: 1px solid #999; border-collapse: collapse; padding: 5px; text-align: left;\">restart</td><td style=\"border: 1px solid #999; border-collapse: collapse; padding: 5px; text-align: left;\">20</td><td style=\"border: 1px solid #999; border-collapse: collapse; padding: 5px; text-align: left;\">N/A</td><td style=\"border: 1px solid #999; border-collapse: collapse; padding: 5px; text-align: left;\">[&#x27;int&#x27;]</td><td style=\"border: 1px solid #999; border-collapse: collapse; padding: 5px; text-align: left;\">Number of iterations between restarts. Larger values increase iteration cost, but may be necessary for convergence. This option applies only to gmres.</td></tr>\n",
       "       <tr style=\"background-color: ghostwhite;\"><td style=\"border: 1px solid #999; border-collapse: collapse; padding: 5px; text-align: left;\">rtol</td><td style=\"border: 1px solid #999; border-collapse: collapse; padding: 5px; text-align: left;\">1e-10</td><td style=\"border: 1px solid #999; border-collapse: collapse; padding: 5px; text-align: left;\">N/A</td><td style=\"border: 1px solid #999; border-collapse: collapse; padding: 5px; text-align: left;\">N/A</td><td style=\"border: 1px solid #999; border-collapse: collapse; padding: 5px; text-align: left;\">relative error tolerance</td></tr>\n",
       "       <tr style=\"background-color: #F3F3F3;\"><td style=\"border: 1px solid #999; border-collapse: collapse; padding: 5px; text-align: left;\">solver</td><td style=\"border: 1px solid #999; border-collapse: collapse; padding: 5px; text-align: left;\">gmres</td><td style=\"border: 1px solid #999; border-collapse: collapse; padding: 5px; text-align: left;\">[&#x27;gmres&#x27;]</td><td style=\"border: 1px solid #999; border-collapse: collapse; padding: 5px; text-align: left;\">N/A</td><td style=\"border: 1px solid #999; border-collapse: collapse; padding: 5px; text-align: left;\">function handle for actual solver</td></tr>\n",
       "    </table>\n",
       "</body>\n",
       "</html>\n"
      ],
      "text/plain": [
       "<IPython.core.display.HTML object>"
      ]
     },
     "metadata": {},
     "output_type": "display_data"
    }
   ],
   "source": [
    "om.show_options_table(\"openmdao.solvers.linear.scipy_iter_solver.ScipyKrylov\")"
   ]
  },
  {
   "cell_type": "markdown",
   "metadata": {},
   "source": [
    "## ScipyKrylov Constructor\n",
    "\n",
    "The call signature for the `ScipyKrylov` constructor is:\n",
    "\n",
    "```{eval-rst}\n",
    "    .. automethod:: openmdao.solvers.linear.scipy_iter_solver.ScipyKrylov.__init__\n",
    "        :noindex:\n",
    "```\n",
    "\n",
    "## ScipyKrylov Option Examples\n",
    "\n",
    "**maxiter**\n",
    "\n",
    "  `maxiter` lets you specify the maximum number of GMRES iterations to apply. The default maximum is 1000, which\n",
    "  is much higher than the other linear solvers because each multiplication by the system Jacobian is considered\n",
    "  to be an iteration. You may have to decrease this value if you have a coupled system that is converging\n",
    "  very slowly. (Of course, in such a case, it may be better to add a preconditioner.)  Alternatively, you\n",
    "  may have to raise it if you have an extremely large number of components in your system (a 1000-component\n",
    "  ring would need 1000 iterations just to make it around once.)\n",
    "\n",
    "  This example shows what happens if you set `maxiter` too low. Since iteration is terminated after only 3 iterations, the solver does not converge and the derivatives will not be correct."
   ]
  },
  {
   "cell_type": "code",
   "execution_count": 7,
   "metadata": {},
   "outputs": [
    {
     "name": "stdout",
     "output_type": "stream",
     "text": [
      "NL: NLBGS Converged in 8 iterations\n",
      "LN: SCIPYSolver 'LN: SCIPY' on system '' failed to converge in 3 iterations.\n"
     ]
    }
   ],
   "source": [
    "from openmdao.test_suite.components.sellar import SellarDis1withDerivatives, SellarDis2withDerivatives\n",
    "\n",
    "prob = om.Problem()\n",
    "model = prob.model\n",
    "\n",
    "model.add_subsystem('d1', SellarDis1withDerivatives(), promotes=['x', 'z', 'y1', 'y2'])\n",
    "model.add_subsystem('d2', SellarDis2withDerivatives(), promotes=['z', 'y1', 'y2'])\n",
    "\n",
    "model.add_subsystem('obj_cmp', om.ExecComp('obj = x**2 + z[1] + y1 + exp(-y2)',\n",
    "                                           z=np.array([0.0, 0.0]), x=0.0),\n",
    "                    promotes=['obj', 'x', 'z', 'y1', 'y2'])\n",
    "\n",
    "model.add_subsystem('con_cmp1', om.ExecComp('con1 = 3.16 - y1'), promotes=['con1', 'y1'])\n",
    "model.add_subsystem('con_cmp2', om.ExecComp('con2 = y2 - 24.0'), promotes=['con2', 'y2'])\n",
    "\n",
    "model.nonlinear_solver = om.NonlinearBlockGS()\n",
    "\n",
    "model.linear_solver = om.ScipyKrylov()\n",
    "model.linear_solver.options['maxiter'] = 3\n",
    "\n",
    "prob.setup()\n",
    "\n",
    "prob.set_val('x', 1.)\n",
    "prob.set_val('z', np.array([5.0, 2.0]))\n",
    "\n",
    "prob.run_model()\n",
    "\n",
    "wrt = ['z']\n",
    "of = ['obj']\n",
    "\n",
    "J = prob.compute_totals(of=of, wrt=wrt, return_format='flat_dict')"
   ]
  },
  {
   "cell_type": "code",
   "execution_count": 8,
   "metadata": {},
   "outputs": [
    {
     "name": "stdout",
     "output_type": "stream",
     "text": [
      "9.265405444309772\n",
      "1.8724662355885666\n"
     ]
    }
   ],
   "source": [
    "print(J['obj', 'z'][0][0])\n",
    "print(J['obj', 'z'][0][1])"
   ]
  },
  {
   "cell_type": "markdown",
   "metadata": {},
   "source": [
    "Depending on your situation, you may want to set the `err_on_non_converge` option to `True`, so that this will raise an AnalysisError."
   ]
  },
  {
   "cell_type": "code",
   "execution_count": 9,
   "metadata": {},
   "outputs": [
    {
     "name": "stdout",
     "output_type": "stream",
     "text": [
      "NL: NLBGS Converged in 8 iterations\n",
      "LN: SCIPYSolver 'LN: SCIPY' on system '' failed to converge in 3 iterations.\n",
      "===\n",
      "Linear Solver failed to converge, derivatives are not valid.\n",
      "===\n"
     ]
    }
   ],
   "source": [
    "from openmdao.test_suite.components.sellar import SellarDis1withDerivatives, SellarDis2withDerivatives\n",
    "from openmdao.api import AnalysisError\n",
    "\n",
    "prob = om.Problem()\n",
    "model = prob.model\n",
    "\n",
    "model.add_subsystem('d1', SellarDis1withDerivatives(), promotes=['x', 'z', 'y1', 'y2'])\n",
    "model.add_subsystem('d2', SellarDis2withDerivatives(), promotes=['z', 'y1', 'y2'])\n",
    "\n",
    "model.add_subsystem('obj_cmp', om.ExecComp('obj = x**2 + z[1] + y1 + exp(-y2)',\n",
    "                                           z=np.array([0.0, 0.0]), x=0.0),\n",
    "                    promotes=['obj', 'x', 'z', 'y1', 'y2'])\n",
    "\n",
    "model.add_subsystem('con_cmp1', om.ExecComp('con1 = 3.16 - y1'), promotes=['con1', 'y1'])\n",
    "model.add_subsystem('con_cmp2', om.ExecComp('con2 = y2 - 24.0'), promotes=['con2', 'y2'])\n",
    "\n",
    "model.nonlinear_solver = om.NonlinearBlockGS()\n",
    "\n",
    "model.linear_solver = om.ScipyKrylov()\n",
    "model.linear_solver.options['maxiter'] = 3\n",
    "model.linear_solver.options['err_on_non_converge'] = True\n",
    "\n",
    "prob.setup()\n",
    "\n",
    "prob.set_val('x', 1.)\n",
    "prob.set_val('z', np.array([5.0, 2.0]))\n",
    "\n",
    "prob.run_model()\n",
    "\n",
    "wrt = ['z']\n",
    "of = ['obj']\n",
    "\n",
    "try:\n",
    "    J = prob.compute_totals(of=of, wrt=wrt, return_format='flat_dict')\n",
    "except AnalysisError as err:\n",
    "    # Special handling for a failure to converge when computing derivatives\n",
    "    print(\"===\\nLinear Solver failed to converge, derivatives are not valid.\\n===\")"
   ]
  },
  {
   "cell_type": "markdown",
   "metadata": {},
   "source": [
    "**atol**\n",
    "\n",
    "  Here, we set the absolute tolerance to a much tighter value (default is 1.0e-12) to show what happens. In\n",
    "  practice, the tolerance serves a dual role in GMRES. In addition to being a termination criteria, the tolerance\n",
    "  also defines what GMRES considers to be tiny. Tiny numbers are replaced by zero when the argument vector is\n",
    "  normalized at the start of each new matrix-vector product. The end result here is that we iterate longer to get\n",
    "  a marginally better answer.\n",
    "\n",
    "  You may need to adjust this setting if you have abnormally large or small values in your global Jacobian."
   ]
  },
  {
   "cell_type": "code",
   "execution_count": 10,
   "metadata": {},
   "outputs": [
    {
     "name": "stdout",
     "output_type": "stream",
     "text": [
      "NL: NLBGS Converged in 8 iterations\n"
     ]
    }
   ],
   "source": [
    "from openmdao.test_suite.components.sellar import SellarDis1withDerivatives, SellarDis2withDerivatives\n",
    "\n",
    "prob = om.Problem()\n",
    "model = prob.model\n",
    "\n",
    "model.add_subsystem('d1', SellarDis1withDerivatives(), promotes=['x', 'z', 'y1', 'y2'])\n",
    "model.add_subsystem('d2', SellarDis2withDerivatives(), promotes=['z', 'y1', 'y2'])\n",
    "\n",
    "model.add_subsystem('obj_cmp', om.ExecComp('obj = x**2 + z[1] + y1 + exp(-y2)',\n",
    "                                           z=np.array([0.0, 0.0]), x=0.0),\n",
    "                    promotes=['obj', 'x', 'z', 'y1', 'y2'])\n",
    "\n",
    "model.add_subsystem('con_cmp1', om.ExecComp('con1 = 3.16 - y1'), promotes=['con1', 'y1'])\n",
    "model.add_subsystem('con_cmp2', om.ExecComp('con2 = y2 - 24.0'), promotes=['con2', 'y2'])\n",
    "\n",
    "model.nonlinear_solver = om.NonlinearBlockGS()\n",
    "\n",
    "model.linear_solver = om.ScipyKrylov()\n",
    "model.linear_solver.options['atol'] = 1.0e-20\n",
    "\n",
    "prob.setup()\n",
    "\n",
    "prob.set_val('x', 1.)\n",
    "prob.set_val('z', np.array([5.0, 2.0]))\n",
    "\n",
    "prob.run_model()\n",
    "\n",
    "wrt = ['z']\n",
    "of = ['obj']\n",
    "\n",
    "J = prob.compute_totals(of=of, wrt=wrt, return_format='flat_dict')"
   ]
  },
  {
   "cell_type": "code",
   "execution_count": 11,
   "metadata": {},
   "outputs": [
    {
     "name": "stdout",
     "output_type": "stream",
     "text": [
      "9.610010556989947\n",
      "1.7844853356313652\n"
     ]
    }
   ],
   "source": [
    "print(J['obj', 'z'][0][0])\n",
    "print(J['obj', 'z'][0][1])"
   ]
  },
  {
   "cell_type": "code",
   "execution_count": 12,
   "metadata": {
    "tags": [
     "remove-input",
     "remove-output"
    ]
   },
   "outputs": [
    {
     "data": {
      "text/plain": [
       "7.651238418285962e-13"
      ]
     },
     "execution_count": 12,
     "metadata": {},
     "output_type": "execute_result"
    }
   ],
   "source": [
    "assert_near_equal(J['obj', 'z'][0][0], 9.61001055699, .00001)\n",
    "assert_near_equal(J['obj', 'z'][0][1], 1.78448533563, .00001)"
   ]
  },
  {
   "cell_type": "markdown",
   "metadata": {},
   "source": [
    "**rtol**\n",
    "\n",
    "  The 'rtol' setting is not supported by SciPy GMRES for versions earlier than SciPy 1.12.0.\n",
    "\n",
    "## Specifying a Preconditioner\n",
    "\n",
    "You can specify a preconditioner to improve the convergence of the iterative linear solution by setting the `precon` attribute. The\n",
    "motivation for using a preconditioner is the observation that iterative methods have better convergence\n",
    "properties if the linear system has a smaller condition number, so the goal of the preconditioner is to\n",
    "improve the condition number in part or all of the Jacobian.\n",
    "\n",
    "Here, we add a Gauss-Seidel preconditioner to a problem that contains two subgroups, each with an implicit component that implements a quadratic\n",
    "equation. These are solved together by a Newton solver at the top.  The goal of the preconditioner here is to solve the smaller linear systems\n",
    "for the quadratic components independently, and use that solution to precondition the full system solution. This is accomplished by setting up\n",
    "the linear solver hierarchy so that the preconditioner is `LinearBlockGS` and the subsytems `sub1` and `sub2` contain a `DirectSolver`.\n",
    "\n",
    "Note that the number of GMRES iterations is lower when using the preconditioner."
   ]
  },
  {
   "cell_type": "code",
   "execution_count": 13,
   "metadata": {
    "tags": [
     "remove-input",
     "remove-output"
    ]
   },
   "outputs": [],
   "source": [
    "from openmdao.utils.notebook_utils import get_code\n",
    "from myst_nb import glue\n",
    "glue(\"code_src43\", get_code(\"openmdao.test_suite.components.quad_implicit.QuadraticComp\"), display=False)"
   ]
  },
  {
   "cell_type": "markdown",
   "metadata": {},
   "source": [
    ":::{Admonition} `QuadraticComp` class definition \n",
    ":class: dropdown\n",
    "\n",
    "{glue:}`code_src43`\n",
    ":::"
   ]
  },
  {
   "cell_type": "code",
   "execution_count": 14,
   "metadata": {
    "scrolled": true,
    "tags": [
     "output_scroll"
    ]
   },
   "outputs": [
    {
     "name": "stdout",
     "output_type": "stream",
     "text": [
      "NL: Newton 0 ; 10 1\n",
      "|  | precon: LNBGS 0 ; 10 1\n",
      "|  | precon: LNBGS 1 ; 6.9399 0.69399\n",
      "|  | precon: LNBGS 2 ; 0.00069399 6.9399e-05\n",
      "|  | precon: LNBGS 3 ; 6.93990003e-08 6.93990003e-09\n",
      "|  | precon: LNBGS 4 ; 6.93933799e-12 6.93933799e-13\n",
      "|  | precon:LN: LNBGS Converged\n",
      "|  | precon: LNBGS 0 ; 6.93933799e-12 1\n",
      "|  | precon:LN: LNBGS Converged\n",
      "|  | precon: LNBGS 0 ; 0 0\n",
      "|  | precon:LN: LNBGS Converged\n",
      "|  LN: SCIPY 0 ; 2.86880433e-16 1\n",
      "NL: Newton 1 ; 49.9085269 4.99085269\n",
      "|  | precon: LNBGS 0 ; 148.641386 1\n",
      "|  | precon: LNBGS 1 ; 6.91321409 0.046509349\n",
      "|  | precon: LNBGS 2 ; 4.16646906e-06 2.80303432e-08\n",
      "|  | precon: LNBGS 3 ; 2.50822592e-12 1.68743443e-14\n",
      "|  | precon:LN: LNBGS Converged\n",
      "|  | precon: LNBGS 0 ; 247.507374 1\n",
      "|  | precon: LNBGS 1 ; 13.853804 0.0559732979\n",
      "|  | precon: LNBGS 2 ; 8.349437e-06 3.37340939e-08\n",
      "|  | precon: LNBGS 3 ; 5.03064257e-12 2.0325223e-14\n",
      "|  | precon:LN: LNBGS Converged\n",
      "|  | precon: LNBGS 0 ; 0 0\n",
      "|  | precon:LN: LNBGS Converged\n",
      "|  LN: SCIPY 0 ; 0 0\n",
      "NL: Newton 2 ; 10.5986027 1.05986027\n",
      "|  | precon: LNBGS 0 ; 18.1127188 1\n",
      "|  | precon: LNBGS 1 ; 0.0172701646 0.000953482735\n",
      "|  | precon: LNBGS 2 ; 3.14865982e-08 1.73836952e-09\n",
      "|  | precon: LNBGS 3 ; 5.7738429e-14 3.18772846e-15\n",
      "|  | precon:LN: LNBGS Converged\n",
      "|  | precon: LNBGS 0 ; 46.8240402 1\n",
      "|  | precon: LNBGS 1 ; 0.044645914 0.000953482735\n",
      "|  | precon: LNBGS 2 ; 8.13974843e-08 1.73836952e-09\n",
      "|  | precon: LNBGS 3 ; 1.49213975e-13 3.18669585e-15\n",
      "|  | precon:LN: LNBGS Converged\n",
      "|  | precon: LNBGS 0 ; 0 0\n",
      "|  | precon:LN: LNBGS Converged\n",
      "|  LN: SCIPY 0 ; 1.08556395e-16 1\n",
      "NL: Newton 3 ; 1.44424034 0.144424034\n",
      "|  | precon: LNBGS 0 ; 6.26588166 1\n",
      "|  | precon: LNBGS 1 ; 0.00821261904 0.0013106885\n",
      "|  | precon: LNBGS 2 ; 2.83220809e-08 4.52004721e-09\n",
      "|  | precon: LNBGS 3 ; 9.76996262e-14 1.55923191e-14\n",
      "|  | precon:LN: LNBGS Converged\n",
      "|  | precon: LNBGS 0 ; 13.9760037 1\n",
      "|  | precon: LNBGS 1 ; 0.0183181873 0.0013106885\n",
      "|  | precon: LNBGS 2 ; 6.31721964e-08 4.52004721e-09\n",
      "|  | precon: LNBGS 3 ; 2.17603713e-13 1.55698094e-14\n",
      "|  | precon:LN: LNBGS Converged\n",
      "|  | precon: LNBGS 0 ; 0 0\n",
      "|  | precon:LN: LNBGS Converged\n",
      "|  LN: SCIPY 0 ; 0 0\n",
      "NL: Newton 4 ; 0.0506752521 0.00506752521\n",
      "|  | precon: LNBGS 0 ; 1.29221459 1\n",
      "|  | precon: LNBGS 1 ; 0.00182151595 0.00140960795\n",
      "|  | precon: LNBGS 2 ; 7.26768965e-09 5.62421266e-09\n",
      "|  | precon: LNBGS 3 ; 2.89976376e-14 2.24402649e-14\n",
      "|  | precon:LN: LNBGS Converged\n",
      "|  | precon: LNBGS 0 ; 2.63510443 1\n",
      "|  | precon: LNBGS 1 ; 0.00371446414 0.00140960795\n",
      "|  | precon: LNBGS 2 ; 1.48203876e-08 5.62421262e-09\n",
      "|  | precon: LNBGS 3 ; 5.90639693e-14 2.24142803e-14\n",
      "|  | precon:LN: LNBGS Converged\n",
      "|  | precon: LNBGS 0 ; 0 0\n",
      "|  | precon:LN: LNBGS Converged\n",
      "|  LN: SCIPY 0 ; 2.39466931e-15 1\n",
      "NL: Newton 5 ; 7.21617369e-05 7.21617369e-06\n",
      "|  | precon: LNBGS 0 ; 0.0504587669 1\n",
      "|  | precon: LNBGS 1 ; 7.13302261e-05 0.00141363395\n",
      "|  | precon: LNBGS 2 ; 2.86232687e-10 5.67260567e-09\n",
      "|  | precon: LNBGS 3 ; 1.14859023e-15 2.27629468e-14\n",
      "|  | precon:LN: LNBGS Converged\n",
      "|  | precon: LNBGS 0 ; 0.100989696 1\n",
      "|  | precon: LNBGS 1 ; 0.000142762462 0.00141363395\n",
      "|  | precon: LNBGS 2 ; 5.7287472e-10 5.67260567e-09\n",
      "|  | precon: LNBGS 3 ; 2.29677388e-15 2.27426558e-14\n",
      "|  | precon:LN: LNBGS Converged\n",
      "|  | precon: LNBGS 0 ; 0 0\n",
      "|  | precon:LN: LNBGS Converged\n",
      "|  LN: SCIPY 0 ; 0 0\n",
      "NL: Newton 6 ; 1.47167278e-10 1.47167278e-11\n",
      "NL: Newton Converged\n"
     ]
    }
   ],
   "source": [
    "from openmdao.test_suite.components.quad_implicit import QuadraticComp\n",
    "\n",
    "prob = om.Problem()\n",
    "model = prob.model\n",
    "\n",
    "sub1 = model.add_subsystem('sub1', om.Group())\n",
    "sub1.add_subsystem('q1', QuadraticComp())\n",
    "sub1.add_subsystem('z1', om.ExecComp('y = -6.0 + .01 * x'))\n",
    "sub2 = model.add_subsystem('sub2', om.Group())\n",
    "sub2.add_subsystem('q2', QuadraticComp())\n",
    "sub2.add_subsystem('z2', om.ExecComp('y = -6.0 + .01 * x'))\n",
    "\n",
    "model.connect('sub1.q1.x', 'sub1.z1.x')\n",
    "model.connect('sub1.z1.y', 'sub2.q2.c')\n",
    "model.connect('sub2.q2.x', 'sub2.z2.x')\n",
    "model.connect('sub2.z2.y', 'sub1.q1.c')\n",
    "\n",
    "model.nonlinear_solver = om.NewtonSolver(solve_subsystems=False)\n",
    "model.linear_solver = om.ScipyKrylov()\n",
    "\n",
    "prob.setup()\n",
    "\n",
    "model.sub1.linear_solver = om.DirectSolver()\n",
    "model.sub2.linear_solver = om.DirectSolver()\n",
    "\n",
    "model.linear_solver.precon = om.LinearBlockGS()\n",
    "\n",
    "prob.set_solver_print(level=2)\n",
    "prob.run_model()"
   ]
  },
  {
   "cell_type": "code",
   "execution_count": 15,
   "metadata": {},
   "outputs": [
    {
     "name": "stdout",
     "output_type": "stream",
     "text": [
      "[1.9960048]\n",
      "[1.9960048]\n"
     ]
    }
   ],
   "source": [
    "print(prob.get_val('sub1.q1.x'))\n",
    "print(prob.get_val('sub2.q2.x'))"
   ]
  },
  {
   "cell_type": "code",
   "execution_count": 16,
   "metadata": {
    "tags": [
     "remove-input",
     "remove-output"
    ]
   },
   "outputs": [
    {
     "data": {
      "text/plain": [
       "2.403856197041086e-06"
      ]
     },
     "execution_count": 16,
     "metadata": {},
     "output_type": "execute_result"
    }
   ],
   "source": [
    "assert_near_equal(prob.get_val('sub1.q1.x'), 1.996, .0001)\n",
    "assert_near_equal(prob.get_val('sub2.q2.x'), 1.996, .0001)"
   ]
  }
 ],
 "metadata": {
  "celltoolbar": "Tags",
  "kernelspec": {
   "display_name": "Python 3 (ipykernel)",
   "language": "python",
   "name": "python3"
  },
  "language_info": {
   "codemirror_mode": {
    "name": "ipython",
    "version": 3
   },
   "file_extension": ".py",
   "mimetype": "text/x-python",
   "name": "python",
   "nbconvert_exporter": "python",
   "pygments_lexer": "ipython3",
   "version": "3.9.19"
  },
  "orphan": true
 },
 "nbformat": 4,
 "nbformat_minor": 4
}