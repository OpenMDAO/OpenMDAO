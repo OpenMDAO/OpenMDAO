{
 "cells": [
  {
   "cell_type": "code",
   "execution_count": 1,
   "metadata": {
    "tags": [
     "remove-input",
     "active-ipynb",
     "remove-output"
    ]
   },
   "outputs": [],
   "source": [
    "try:\n",
    "    from openmdao.utils.notebook_utils import notebook_mode\n",
    "except ImportError:\n",
    "    !python -m pip install openmdao[notebooks]"
   ]
  },
  {
   "cell_type": "markdown",
   "metadata": {},
   "source": [
    "# BoundsEnforceLS\n",
    "\n",
    "The BoundsEnforceLS only backtracks until variables violate their upper and lower bounds.\n",
    "\n",
    "Here is a simple example where BoundsEnforceLS is used to backtrack during the Newton solver's iteration on\n",
    "a system that contains an implicit component with 3 states that are confined to a small range of values."
   ]
  },
  {
   "cell_type": "code",
   "execution_count": 2,
   "metadata": {
    "tags": [
     "remove-input",
     "remove-output"
    ]
   },
   "outputs": [],
   "source": [
    "from openmdao.utils.notebook_utils import get_code\n",
    "from myst_nb import glue\n",
    "glue(\"code_src20\", get_code(\"openmdao.test_suite.components.implicit_newton_linesearch.ImplCompTwoStatesArrays\"), display=False)"
   ]
  },
  {
   "cell_type": "markdown",
   "metadata": {},
   "source": [
    ":::{Admonition} `ImplCompTwoStatesArrays` class definition \n",
    ":class: dropdown\n",
    "\n",
    "{glue:}`code_src20`\n",
    ":::"
   ]
  },
  {
   "cell_type": "code",
   "execution_count": 3,
   "metadata": {},
   "outputs": [
    {
     "name": "stdout",
     "output_type": "stream",
     "text": [
      "NL: NewtonSolver 'NL: Newton' on system '' failed to converge in 10 iterations.\n",
      "[1.5]\n",
      "[1.5]\n",
      "[1.5]\n"
     ]
    }
   ],
   "source": [
    "import numpy as np\n",
    "\n",
    "import openmdao.api as om\n",
    "from openmdao.test_suite.components.implicit_newton_linesearch import ImplCompTwoStatesArrays\n",
    "\n",
    "top = om.Problem()\n",
    "top.model.add_subsystem('comp', ImplCompTwoStatesArrays(), promotes_inputs=['x'])\n",
    "\n",
    "top.model.nonlinear_solver = om.NewtonSolver(solve_subsystems=False)\n",
    "top.model.nonlinear_solver.options['maxiter'] = 10\n",
    "top.model.linear_solver = om.ScipyKrylov()\n",
    "\n",
    "top.model.nonlinear_solver.linesearch = om.BoundsEnforceLS()\n",
    "\n",
    "top.setup()\n",
    "top.set_val('x', np.array([2., 2, 2]).reshape(3, 1))\n",
    "\n",
    "# Test lower bounds: should go to the lower bound and stall\n",
    "top.set_val('comp.y', 0.)\n",
    "top.set_val('comp.z', 1.6)\n",
    "top.run_model()\n",
    "\n",
    "for ind in range(3):\n",
    "    print(top.get_val('comp.z', indices=ind))"
   ]
  },
  {
   "cell_type": "code",
   "execution_count": 4,
   "metadata": {
    "tags": [
     "remove-input",
     "remove-output"
    ]
   },
   "outputs": [],
   "source": [
    "from openmdao.utils.assert_utils import assert_near_equal\n",
    "\n",
    "for ind in range(3):\n",
    "    assert_near_equal(top.get_val('comp.z', indices=ind), [1.5], 1e-8)"
   ]
  },
  {
   "cell_type": "markdown",
   "metadata": {},
   "source": [
    "## BoundsEnforceLS Options"
   ]
  },
  {
   "cell_type": "code",
   "execution_count": 5,
   "metadata": {
    "tags": [
     "remove-input"
    ]
   },
   "outputs": [
    {
     "data": {
      "text/html": [
       "\n",
       "<!DOCTYPE html>\n",
       "<html lang=\"en\">\n",
       "<head>\n",
       "    <style>\n",
       "        h2 {\n",
       "            text-align: center;\n",
       "        }\n",
       "    </style>\n",
       "</head>\n",
       "<body>\n",
       "    <h2></h2>\n",
       "        <table style=\"border: 1px solid #999; border-collapse: collapse;\">\n",
       "        <tr><th style=\"border: 1px solid #999; border-collapse: collapse; padding: 5px; background-color: #E9E9E9; text-align: left;\">Option</th><th style=\"border: 1px solid #999; border-collapse: collapse; padding: 5px; background-color: #E9E9E9; text-align: left;\">Default</th><th style=\"border: 1px solid #999; border-collapse: collapse; padding: 5px; background-color: #E9E9E9; text-align: left;\">Acceptable Values</th><th style=\"border: 1px solid #999; border-collapse: collapse; padding: 5px; background-color: #E9E9E9; text-align: left;\">Acceptable Types</th><th style=\"border: 1px solid #999; border-collapse: collapse; padding: 5px; background-color: #E9E9E9; text-align: left;\">Description</th></tr>\n",
       "       <tr style=\"background-color: ghostwhite;\"><td style=\"border: 1px solid #999; border-collapse: collapse; padding: 5px; text-align: left;\">bound_enforcement</td><td style=\"border: 1px solid #999; border-collapse: collapse; padding: 5px; text-align: left;\">scalar</td><td style=\"border: 1px solid #999; border-collapse: collapse; padding: 5px; text-align: left;\">[&#x27;vector&#x27;, &#x27;scalar&#x27;, &#x27;wall&#x27;]</td><td style=\"border: 1px solid #999; border-collapse: collapse; padding: 5px; text-align: left;\">N/A</td><td style=\"border: 1px solid #999; border-collapse: collapse; padding: 5px; text-align: left;\">If this is set to &#x27;vector&#x27;, the entire vector is backtracked together when a bound is violated. If this is set to &#x27;scalar&#x27;, only the violating entries are set to the bound and then the backtracking occurs on the vector as a whole. If this is set to &#x27;wall&#x27;, only the violating entries are set to the bound, and then the backtracking follows the wall - i.e., the violating entries do not change during the line search.</td></tr>\n",
       "       <tr style=\"background-color: #F3F3F3;\"><td style=\"border: 1px solid #999; border-collapse: collapse; padding: 5px; text-align: left;\">debug_print</td><td style=\"border: 1px solid #999; border-collapse: collapse; padding: 5px; text-align: left;\">False</td><td style=\"border: 1px solid #999; border-collapse: collapse; padding: 5px; text-align: left;\">[True, False]</td><td style=\"border: 1px solid #999; border-collapse: collapse; padding: 5px; text-align: left;\">[&#x27;bool&#x27;]</td><td style=\"border: 1px solid #999; border-collapse: collapse; padding: 5px; text-align: left;\">If true, the values of input and output variables at the start of iteration are printed and written to a file after a failure to converge.</td></tr>\n",
       "       <tr style=\"background-color: ghostwhite;\"><td style=\"border: 1px solid #999; border-collapse: collapse; padding: 5px; text-align: left;\">iprint</td><td style=\"border: 1px solid #999; border-collapse: collapse; padding: 5px; text-align: left;\">1</td><td style=\"border: 1px solid #999; border-collapse: collapse; padding: 5px; text-align: left;\">N/A</td><td style=\"border: 1px solid #999; border-collapse: collapse; padding: 5px; text-align: left;\">[&#x27;int&#x27;]</td><td style=\"border: 1px solid #999; border-collapse: collapse; padding: 5px; text-align: left;\">whether to print output</td></tr>\n",
       "       <tr style=\"background-color: #F3F3F3;\"><td style=\"border: 1px solid #999; border-collapse: collapse; padding: 5px; text-align: left;\">print_bound_enforce</td><td style=\"border: 1px solid #999; border-collapse: collapse; padding: 5px; text-align: left;\">False</td><td style=\"border: 1px solid #999; border-collapse: collapse; padding: 5px; text-align: left;\">N/A</td><td style=\"border: 1px solid #999; border-collapse: collapse; padding: 5px; text-align: left;\">N/A</td><td style=\"border: 1px solid #999; border-collapse: collapse; padding: 5px; text-align: left;\">Set to True to print out names and values of variables that are pulled back to their bounds.</td></tr>\n",
       "       <tr style=\"background-color: ghostwhite;\"><td style=\"border: 1px solid #999; border-collapse: collapse; padding: 5px; text-align: left;\">stall_limit</td><td style=\"border: 1px solid #999; border-collapse: collapse; padding: 5px; text-align: left;\">0</td><td style=\"border: 1px solid #999; border-collapse: collapse; padding: 5px; text-align: left;\">N/A</td><td style=\"border: 1px solid #999; border-collapse: collapse; padding: 5px; text-align: left;\">N/A</td><td style=\"border: 1px solid #999; border-collapse: collapse; padding: 5px; text-align: left;\">Number of iterations after which, if the residual norms are identical within the stall_tol, then terminate as if max iterations were reached. Default is 0, which disables this feature.</td></tr>\n",
       "       <tr style=\"background-color: #F3F3F3;\"><td style=\"border: 1px solid #999; border-collapse: collapse; padding: 5px; text-align: left;\">stall_tol</td><td style=\"border: 1px solid #999; border-collapse: collapse; padding: 5px; text-align: left;\">1e-12</td><td style=\"border: 1px solid #999; border-collapse: collapse; padding: 5px; text-align: left;\">N/A</td><td style=\"border: 1px solid #999; border-collapse: collapse; padding: 5px; text-align: left;\">N/A</td><td style=\"border: 1px solid #999; border-collapse: collapse; padding: 5px; text-align: left;\">When stall checking is enabled, the threshold below which the residual norm is considered unchanged.</td></tr>\n",
       "       <tr style=\"background-color: ghostwhite;\"><td style=\"border: 1px solid #999; border-collapse: collapse; padding: 5px; text-align: left;\">stall_tol_type</td><td style=\"border: 1px solid #999; border-collapse: collapse; padding: 5px; text-align: left;\">rel</td><td style=\"border: 1px solid #999; border-collapse: collapse; padding: 5px; text-align: left;\">[&#x27;abs&#x27;, &#x27;rel&#x27;]</td><td style=\"border: 1px solid #999; border-collapse: collapse; padding: 5px; text-align: left;\">N/A</td><td style=\"border: 1px solid #999; border-collapse: collapse; padding: 5px; text-align: left;\">Specifies whether the absolute or relative norm of the residual is used for stall detection.</td></tr>\n",
       "    </table>\n",
       "</body>\n",
       "</html>\n"
      ],
      "text/plain": [
       "<IPython.core.display.HTML object>"
      ]
     },
     "metadata": {},
     "output_type": "display_data"
    }
   ],
   "source": [
    "om.show_options_table(\"openmdao.solvers.linesearch.backtracking.BoundsEnforceLS\")"
   ]
  },
  {
   "cell_type": "markdown",
   "metadata": {},
   "source": [
    "## BoundsEnforceLS Constructor\n",
    "\n",
    "The call signature for the `BoundsEnforceLS` constructor is:\n",
    "\n",
    "```{eval-rst}\n",
    "    .. automethod:: openmdao.solvers.linesearch.backtracking.BoundsEnforceLS.__init__\n",
    "        :noindex:\n",
    "```\n",
    "\n",
    "## BoundsEnforceLS Option Examples\n",
    "\n",
    "**bound_enforcement**\n",
    "\n",
    "BoundsEnforceLS includes the `bound_enforcement` option in its options dictionary. This option has a dual role:\n",
    "\n",
    "1. Behavior of the non-bounded variables when the bounded ones are capped.\n",
    "2. Direction of the further backtracking.\n",
    "\n",
    "There are three difference bounds enforcement schemes available in this option.\n",
    "\n",
    "With \"scalar\" bounds enforcement, only the variables that violate their bounds are pulled back to feasible values; the\n",
    "remaining values are kept at the Newton-stepped point. This changes the direction of the backtracking vector so that\n",
    "it still moves in the direction of the initial point. This is the default bounds enforcement for `BoundsEnforceLS`.\n",
    "\n",
    "![BT2](images/BT2.jpg)\n",
    "\n",
    "With \"vector\" bounds enforcement, the solution in the output vector is pulled back in unison to a point where none of the\n",
    "variables violate any upper or lower bounds. Further backtracking continues along the Newton gradient direction vector back towards the\n",
    "initial point.\n",
    "\n",
    "![BT1](images/BT1.jpg)\n",
    "\n",
    "With \"wall\" bounds enforcement, only the variables that violate their bounds are pulled back to feasible values; the remaining values are kept at the Newton-stepped point. Further backtracking only occurs in the direction of the non-violating variables, so that it will move along the wall.\n",
    "\n",
    "```{Note}\n",
    "When using BoundsEnforceLS linesearch, the `scalar` and `wall` methods are exactly the same because no further\n",
    "backtracking is performed.\n",
    "```\n",
    "\n",
    "![BT3](images/BT3.jpg)\n",
    "\n",
    "Here are a few examples of this option:\n",
    "\n",
    "- bound_enforcement: vector\n",
    "\n",
    "  The `bound_enforcement` option in the options dictionary is used to specify how the output bounds\n",
    "  are enforced. When this is set to \"vector\", the output vector is rolled back along the computed gradient until\n",
    "  it reaches a point where the earliest bound violation occurred. The backtracking continues along the original\n",
    "  computed gradient."
   ]
  },
  {
   "cell_type": "code",
   "execution_count": 6,
   "metadata": {},
   "outputs": [
    {
     "name": "stdout",
     "output_type": "stream",
     "text": [
      "NL: NewtonSolver 'NL: Newton' on system '' failed to converge in 10 iterations.\n",
      "[1.5]\n",
      "[1.5]\n",
      "[1.5]\n"
     ]
    }
   ],
   "source": [
    "from openmdao.test_suite.components.implicit_newton_linesearch import ImplCompTwoStatesArrays\n",
    "\n",
    "top = om.Problem()\n",
    "top.model.add_subsystem('comp', ImplCompTwoStatesArrays(), promotes_inputs=['x'])\n",
    "\n",
    "top.model.nonlinear_solver = om.NewtonSolver(solve_subsystems=False)\n",
    "top.model.nonlinear_solver.options['maxiter'] = 10\n",
    "top.model.linear_solver = om.ScipyKrylov()\n",
    "\n",
    "top.model.nonlinear_solver.linesearch = om.BoundsEnforceLS(bound_enforcement='vector')\n",
    "\n",
    "top.setup()\n",
    "top.set_val('x', np.array([2., 2, 2]).reshape(3, 1))\n",
    "\n",
    "# Test lower bounds: should go to the lower bound and stall\n",
    "top.set_val('comp.y', 0.)\n",
    "top.set_val('comp.z', 1.6)\n",
    "top.run_model()\n",
    "\n",
    "for ind in range(3):\n",
    "    print(top.get_val('comp.z', indices=ind))"
   ]
  },
  {
   "cell_type": "code",
   "execution_count": 7,
   "metadata": {
    "tags": [
     "remove-input",
     "remove-output"
    ]
   },
   "outputs": [],
   "source": [
    "for ind in range(3):\n",
    "    assert_near_equal(top.get_val('comp.z', indices=ind), [1.5], 1e-8)"
   ]
  },
  {
   "cell_type": "markdown",
   "metadata": {},
   "source": [
    "- bound_enforcement: scalar\n",
    "\n",
    "  The `bound_enforcement` option in the options dictionary is used to specify how the output bounds\n",
    "  are enforced. When this is set to \"scaler\", then the only indices in the output vector that are rolled back\n",
    "  are the ones that violate their upper or lower bounds. The backtracking continues along the modified gradient."
   ]
  },
  {
   "cell_type": "code",
   "execution_count": 8,
   "metadata": {},
   "outputs": [
    {
     "name": "stdout",
     "output_type": "stream",
     "text": [
      "NL: NewtonSolver 'NL: Newton' on system '' failed to converge in 10 iterations.\n"
     ]
    }
   ],
   "source": [
    "from openmdao.test_suite.components.implicit_newton_linesearch import ImplCompTwoStatesArrays\n",
    "\n",
    "top = om.Problem()\n",
    "top.model.add_subsystem('comp', ImplCompTwoStatesArrays(), promotes_inputs=['x'])\n",
    "\n",
    "top.model.nonlinear_solver = om.NewtonSolver(solve_subsystems=False)\n",
    "top.model.nonlinear_solver.options['maxiter'] = 10\n",
    "top.model.linear_solver = om.ScipyKrylov()\n",
    "\n",
    "top.model.nonlinear_solver.linesearch = om.BoundsEnforceLS(bound_enforcement='scalar')\n",
    "\n",
    "top.setup()\n",
    "top.set_val('x', np.array([2., 2, 2]).reshape(3, 1))\n",
    "top.run_model()"
   ]
  },
  {
   "cell_type": "code",
   "execution_count": 9,
   "metadata": {},
   "outputs": [
    {
     "name": "stdout",
     "output_type": "stream",
     "text": [
      "NL: NewtonSolver 'NL: Newton' on system '' failed to converge in 10 iterations.\n"
     ]
    }
   ],
   "source": [
    "# Test lower bounds: should stop just short of the lower bound\n",
    "top.set_val('comp.y', 0.)\n",
    "top.set_val('comp.z', 1.6)\n",
    "top.run_model()"
   ]
  },
  {
   "cell_type": "markdown",
   "metadata": {},
   "source": [
    "- bound_enforcement: wall\n",
    "\n",
    "  The `bound_enforcement` option in the options dictionary is used to specify how the output bounds\n",
    "  are enforced. When this is set to \"wall\", then the only indices in the output vector that are rolled back\n",
    "  are the ones that violate their upper or lower bounds. The backtracking continues along a modified gradient\n",
    "  direction that follows the boundary of the violated output bounds."
   ]
  },
  {
   "cell_type": "code",
   "execution_count": 10,
   "metadata": {},
   "outputs": [
    {
     "name": "stdout",
     "output_type": "stream",
     "text": [
      "NL: NewtonSolver 'NL: Newton' on system '' failed to converge in 10 iterations.\n",
      "[2.6]\n",
      "[2.5]\n",
      "[2.65]\n"
     ]
    }
   ],
   "source": [
    "from openmdao.test_suite.components.implicit_newton_linesearch import ImplCompTwoStatesArrays\n",
    "\n",
    "top = om.Problem()\n",
    "top.model.add_subsystem('comp', ImplCompTwoStatesArrays(), promotes_inputs=['x'])\n",
    "\n",
    "top.model.nonlinear_solver = om.NewtonSolver(solve_subsystems=False)\n",
    "top.model.nonlinear_solver.options['maxiter'] = 10\n",
    "top.model.linear_solver = om.ScipyKrylov()\n",
    "\n",
    "top.model.nonlinear_solver.linesearch = om.BoundsEnforceLS(bound_enforcement='wall')\n",
    "\n",
    "top.setup()\n",
    "top.set_val('x', np.array([0.5, 0.5, 0.5]).reshape(3, 1))\n",
    "\n",
    "# Test upper bounds: should go to the upper bound and stall\n",
    "top.set_val('comp.y', 0.)\n",
    "top.set_val('comp.z', 2.4)\n",
    "top.run_model()\n",
    "\n",
    "print(top.get_val('comp.z', indices=0))\n",
    "print(top.get_val('comp.z', indices=1))\n",
    "print(top.get_val('comp.z', indices=2))"
   ]
  },
  {
   "cell_type": "code",
   "execution_count": 11,
   "metadata": {
    "tags": [
     "remove-input",
     "remove-output"
    ]
   },
   "outputs": [
    {
     "data": {
      "text/plain": [
       "0.0"
      ]
     },
     "execution_count": 11,
     "metadata": {},
     "output_type": "execute_result"
    }
   ],
   "source": [
    "assert_near_equal(top.get_val('comp.z', indices=0), [2.6], 1e-8)\n",
    "assert_near_equal(top.get_val('comp.z', indices=1), [2.5], 1e-8)\n",
    "assert_near_equal(top.get_val('comp.z', indices=2), [2.65], 1e-8)"
   ]
  }
 ],
 "metadata": {
  "celltoolbar": "Tags",
  "kernelspec": {
   "display_name": "Python 3",
   "language": "python",
   "name": "python3"
  },
  "language_info": {
   "codemirror_mode": {
    "name": "ipython",
    "version": 3
   },
   "file_extension": ".py",
   "mimetype": "text/x-python",
   "name": "python",
   "nbconvert_exporter": "python",
   "pygments_lexer": "ipython3",
   "version": "3.9.19"
  },
  "orphan": true
 },
 "nbformat": 4,
 "nbformat_minor": 4
}