{
 "cells": [
  {
   "cell_type": "markdown",
   "metadata": {},
   "source": [
    "# Nonlinear Solvers\n",
    "\n",
    "- [NonlinearBlockGS](nonlinear_block_gs.ipynb)\n",
    "- [NonlinearBlockJac](nonlinear_block_jac.ipynb)\n",
    "- [NonlinearRunOnce](nonlinear_runonce.ipynb)\n",
    "- [NewtonSolver](newton.ipynb)\n",
    "- [BroydenSolver](broyden.ipynb)"
   ]
  }
 ],
 "metadata": {
  "celltoolbar": "Tags",
  "kernelspec": {
   "display_name": "Python 3",
   "language": "python",
   "name": "python3"
  },
  "language_info": {
   "codemirror_mode": {
    "name": "ipython",
    "version": 3
   },
   "file_extension": ".py",
   "mimetype": "text/x-python",
   "name": "python",
   "nbconvert_exporter": "python",
   "pygments_lexer": "ipython3",
   "version": "3.9.19"
  },
  "orphan": true
 },
 "nbformat": 4,
 "nbformat_minor": 4
}