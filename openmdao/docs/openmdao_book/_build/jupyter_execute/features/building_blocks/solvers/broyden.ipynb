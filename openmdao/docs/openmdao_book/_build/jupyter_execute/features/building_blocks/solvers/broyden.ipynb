{
 "cells": [
  {
   "cell_type": "code",
   "execution_count": 1,
   "metadata": {
    "tags": [
     "remove-input",
     "active-ipynb",
     "remove-output"
    ]
   },
   "outputs": [],
   "source": [
    "try:\n",
    "    from openmdao.utils.notebook_utils import notebook_mode\n",
    "except ImportError:\n",
    "    !python -m pip install openmdao[notebooks]"
   ]
  },
  {
   "cell_type": "markdown",
   "metadata": {},
   "source": [
    "# BroydenSolver\n",
    "\n",
    "BroydenSolver is a quasi-Newton solver that implements Broyden's second method to solve for values of the model's states that drive their residuals to zero. It does so by maintaining an approximation to the inverse of the Jacobian of the model or a subset of the model. In some cases this can be more efficient than NewtonSolver because updating the approximated inverse Jacobian is cheaper than solving the linear system. It may take more iterations because the search direction depends on an approximation, but the iterations take fewer operations.\n",
    "\n",
    "The BroydenSolver has two different modes of operation. It can operate on the entire model and solve for every state in the containing system and all subsystems. Alternatively, it can operate on a subset of the model and only solve for a list of states that you provide. The advantage of full-model mode is that you don't have to worry about forgetting a state, particularly in large models where you might not be familiar with every component or variable. The disadvantage is that you are computing the inverse of a larger matrix every time you recalculate the inverse jacobian, though ideally you are not recomputing this very often. Operating on a subset of states is more efficient in both the linear solve and the Broyden update, but you do run the risk of missing a state. The BroydenSolver will print a warning if it finds any states in the model that aren't covered by a solver.\n",
    "\n",
    "\n",
    "## BroydenSolver Options"
   ]
  },
  {
   "cell_type": "code",
   "execution_count": 2,
   "metadata": {
    "tags": [
     "remove-input"
    ]
   },
   "outputs": [
    {
     "data": {
      "text/html": [
       "\n",
       "<!DOCTYPE html>\n",
       "<html lang=\"en\">\n",
       "<head>\n",
       "    <style>\n",
       "        h2 {\n",
       "            text-align: center;\n",
       "        }\n",
       "    </style>\n",
       "</head>\n",
       "<body>\n",
       "    <h2></h2>\n",
       "        <table style=\"border: 1px solid #999; border-collapse: collapse;\">\n",
       "        <tr><th style=\"border: 1px solid #999; border-collapse: collapse; padding: 5px; background-color: #E9E9E9; text-align: left;\">Option</th><th style=\"border: 1px solid #999; border-collapse: collapse; padding: 5px; background-color: #E9E9E9; text-align: left;\">Default</th><th style=\"border: 1px solid #999; border-collapse: collapse; padding: 5px; background-color: #E9E9E9; text-align: left;\">Acceptable Values</th><th style=\"border: 1px solid #999; border-collapse: collapse; padding: 5px; background-color: #E9E9E9; text-align: left;\">Acceptable Types</th><th style=\"border: 1px solid #999; border-collapse: collapse; padding: 5px; background-color: #E9E9E9; text-align: left;\">Description</th></tr>\n",
       "       <tr style=\"background-color: ghostwhite;\"><td style=\"border: 1px solid #999; border-collapse: collapse; padding: 5px; text-align: left;\">alpha</td><td style=\"border: 1px solid #999; border-collapse: collapse; padding: 5px; text-align: left;\">0.4</td><td style=\"border: 1px solid #999; border-collapse: collapse; padding: 5px; text-align: left;\">N/A</td><td style=\"border: 1px solid #999; border-collapse: collapse; padding: 5px; text-align: left;\">N/A</td><td style=\"border: 1px solid #999; border-collapse: collapse; padding: 5px; text-align: left;\">Value to scale the starting Jacobian, which is Identity. This option does nothing if you compute the initial Jacobian instead.</td></tr>\n",
       "       <tr style=\"background-color: #F3F3F3;\"><td style=\"border: 1px solid #999; border-collapse: collapse; padding: 5px; text-align: left;\">atol</td><td style=\"border: 1px solid #999; border-collapse: collapse; padding: 5px; text-align: left;\">1e-10</td><td style=\"border: 1px solid #999; border-collapse: collapse; padding: 5px; text-align: left;\">N/A</td><td style=\"border: 1px solid #999; border-collapse: collapse; padding: 5px; text-align: left;\">N/A</td><td style=\"border: 1px solid #999; border-collapse: collapse; padding: 5px; text-align: left;\">absolute error tolerance</td></tr>\n",
       "       <tr style=\"background-color: ghostwhite;\"><td style=\"border: 1px solid #999; border-collapse: collapse; padding: 5px; text-align: left;\">compute_jacobian</td><td style=\"border: 1px solid #999; border-collapse: collapse; padding: 5px; text-align: left;\">True</td><td style=\"border: 1px solid #999; border-collapse: collapse; padding: 5px; text-align: left;\">[True, False]</td><td style=\"border: 1px solid #999; border-collapse: collapse; padding: 5px; text-align: left;\">[&#x27;bool&#x27;]</td><td style=\"border: 1px solid #999; border-collapse: collapse; padding: 5px; text-align: left;\">When True, compute an initial Jacobian, otherwise start with Identity scaled by alpha. Further Jacobians may also be computed depending on the other options.</td></tr>\n",
       "       <tr style=\"background-color: #F3F3F3;\"><td style=\"border: 1px solid #999; border-collapse: collapse; padding: 5px; text-align: left;\">converge_limit</td><td style=\"border: 1px solid #999; border-collapse: collapse; padding: 5px; text-align: left;\">1.0</td><td style=\"border: 1px solid #999; border-collapse: collapse; padding: 5px; text-align: left;\">N/A</td><td style=\"border: 1px solid #999; border-collapse: collapse; padding: 5px; text-align: left;\">N/A</td><td style=\"border: 1px solid #999; border-collapse: collapse; padding: 5px; text-align: left;\">Ratio of current residual to previous residual above which the convergence is considered a failure. The Jacobian will be regenerated once this condition has been reached a number of consecutive times as specified in max_converge_failures.</td></tr>\n",
       "       <tr style=\"background-color: ghostwhite;\"><td style=\"border: 1px solid #999; border-collapse: collapse; padding: 5px; text-align: left;\">cs_reconverge</td><td style=\"border: 1px solid #999; border-collapse: collapse; padding: 5px; text-align: left;\">True</td><td style=\"border: 1px solid #999; border-collapse: collapse; padding: 5px; text-align: left;\">[True, False]</td><td style=\"border: 1px solid #999; border-collapse: collapse; padding: 5px; text-align: left;\">[&#x27;bool&#x27;]</td><td style=\"border: 1px solid #999; border-collapse: collapse; padding: 5px; text-align: left;\">When True, when this driver solves under a complex step, nudge the Solution vector by a small amount so that it reconverges.</td></tr>\n",
       "       <tr style=\"background-color: #F3F3F3;\"><td style=\"border: 1px solid #999; border-collapse: collapse; padding: 5px; text-align: left;\">debug_print</td><td style=\"border: 1px solid #999; border-collapse: collapse; padding: 5px; text-align: left;\">False</td><td style=\"border: 1px solid #999; border-collapse: collapse; padding: 5px; text-align: left;\">[True, False]</td><td style=\"border: 1px solid #999; border-collapse: collapse; padding: 5px; text-align: left;\">[&#x27;bool&#x27;]</td><td style=\"border: 1px solid #999; border-collapse: collapse; padding: 5px; text-align: left;\">If true, the values of input and output variables at the start of iteration are printed and written to a file after a failure to converge.</td></tr>\n",
       "       <tr style=\"background-color: ghostwhite;\"><td style=\"border: 1px solid #999; border-collapse: collapse; padding: 5px; text-align: left;\">diverge_limit</td><td style=\"border: 1px solid #999; border-collapse: collapse; padding: 5px; text-align: left;\">2.0</td><td style=\"border: 1px solid #999; border-collapse: collapse; padding: 5px; text-align: left;\">N/A</td><td style=\"border: 1px solid #999; border-collapse: collapse; padding: 5px; text-align: left;\">N/A</td><td style=\"border: 1px solid #999; border-collapse: collapse; padding: 5px; text-align: left;\">Ratio of current residual to previous residual above which the Jacobian will be immediately regenerated.</td></tr>\n",
       "       <tr style=\"background-color: #F3F3F3;\"><td style=\"border: 1px solid #999; border-collapse: collapse; padding: 5px; text-align: left;\">err_on_non_converge</td><td style=\"border: 1px solid #999; border-collapse: collapse; padding: 5px; text-align: left;\">False</td><td style=\"border: 1px solid #999; border-collapse: collapse; padding: 5px; text-align: left;\">[True, False]</td><td style=\"border: 1px solid #999; border-collapse: collapse; padding: 5px; text-align: left;\">[&#x27;bool&#x27;]</td><td style=\"border: 1px solid #999; border-collapse: collapse; padding: 5px; text-align: left;\">When True, AnalysisError will be raised if we don&#x27;t converge.</td></tr>\n",
       "       <tr style=\"background-color: ghostwhite;\"><td style=\"border: 1px solid #999; border-collapse: collapse; padding: 5px; text-align: left;\">iprint</td><td style=\"border: 1px solid #999; border-collapse: collapse; padding: 5px; text-align: left;\">1</td><td style=\"border: 1px solid #999; border-collapse: collapse; padding: 5px; text-align: left;\">N/A</td><td style=\"border: 1px solid #999; border-collapse: collapse; padding: 5px; text-align: left;\">[&#x27;int&#x27;]</td><td style=\"border: 1px solid #999; border-collapse: collapse; padding: 5px; text-align: left;\">whether to print output</td></tr>\n",
       "       <tr style=\"background-color: #F3F3F3;\"><td style=\"border: 1px solid #999; border-collapse: collapse; padding: 5px; text-align: left;\">max_converge_failures</td><td style=\"border: 1px solid #999; border-collapse: collapse; padding: 5px; text-align: left;\">3</td><td style=\"border: 1px solid #999; border-collapse: collapse; padding: 5px; text-align: left;\">N/A</td><td style=\"border: 1px solid #999; border-collapse: collapse; padding: 5px; text-align: left;\">N/A</td><td style=\"border: 1px solid #999; border-collapse: collapse; padding: 5px; text-align: left;\">The number of convergence failures before regenerating the Jacobian.</td></tr>\n",
       "       <tr style=\"background-color: ghostwhite;\"><td style=\"border: 1px solid #999; border-collapse: collapse; padding: 5px; text-align: left;\">max_jacobians</td><td style=\"border: 1px solid #999; border-collapse: collapse; padding: 5px; text-align: left;\">10</td><td style=\"border: 1px solid #999; border-collapse: collapse; padding: 5px; text-align: left;\">N/A</td><td style=\"border: 1px solid #999; border-collapse: collapse; padding: 5px; text-align: left;\">N/A</td><td style=\"border: 1px solid #999; border-collapse: collapse; padding: 5px; text-align: left;\">Maximum number of jacobians to compute.</td></tr>\n",
       "       <tr style=\"background-color: #F3F3F3;\"><td style=\"border: 1px solid #999; border-collapse: collapse; padding: 5px; text-align: left;\">maxiter</td><td style=\"border: 1px solid #999; border-collapse: collapse; padding: 5px; text-align: left;\">10</td><td style=\"border: 1px solid #999; border-collapse: collapse; padding: 5px; text-align: left;\">N/A</td><td style=\"border: 1px solid #999; border-collapse: collapse; padding: 5px; text-align: left;\">[&#x27;int&#x27;]</td><td style=\"border: 1px solid #999; border-collapse: collapse; padding: 5px; text-align: left;\">maximum number of iterations</td></tr>\n",
       "       <tr style=\"background-color: ghostwhite;\"><td style=\"border: 1px solid #999; border-collapse: collapse; padding: 5px; text-align: left;\">reraise_child_analysiserror</td><td style=\"border: 1px solid #999; border-collapse: collapse; padding: 5px; text-align: left;\">False</td><td style=\"border: 1px solid #999; border-collapse: collapse; padding: 5px; text-align: left;\">[True, False]</td><td style=\"border: 1px solid #999; border-collapse: collapse; padding: 5px; text-align: left;\">[&#x27;bool&#x27;]</td><td style=\"border: 1px solid #999; border-collapse: collapse; padding: 5px; text-align: left;\">When the option is true, a solver will reraise any AnalysisError that arises during subsolve; when false, it will continue solving.</td></tr>\n",
       "       <tr style=\"background-color: #F3F3F3;\"><td style=\"border: 1px solid #999; border-collapse: collapse; padding: 5px; text-align: left;\">restart_from_successful</td><td style=\"border: 1px solid #999; border-collapse: collapse; padding: 5px; text-align: left;\">False</td><td style=\"border: 1px solid #999; border-collapse: collapse; padding: 5px; text-align: left;\">[True, False]</td><td style=\"border: 1px solid #999; border-collapse: collapse; padding: 5px; text-align: left;\">[&#x27;bool&#x27;]</td><td style=\"border: 1px solid #999; border-collapse: collapse; padding: 5px; text-align: left;\">If True, the states are cached after a successful solve and used to restart the solver in the case of a failed solve.</td></tr>\n",
       "       <tr style=\"background-color: ghostwhite;\"><td style=\"border: 1px solid #999; border-collapse: collapse; padding: 5px; text-align: left;\">rtol</td><td style=\"border: 1px solid #999; border-collapse: collapse; padding: 5px; text-align: left;\">1e-10</td><td style=\"border: 1px solid #999; border-collapse: collapse; padding: 5px; text-align: left;\">N/A</td><td style=\"border: 1px solid #999; border-collapse: collapse; padding: 5px; text-align: left;\">N/A</td><td style=\"border: 1px solid #999; border-collapse: collapse; padding: 5px; text-align: left;\">relative error tolerance</td></tr>\n",
       "       <tr style=\"background-color: #F3F3F3;\"><td style=\"border: 1px solid #999; border-collapse: collapse; padding: 5px; text-align: left;\">stall_limit</td><td style=\"border: 1px solid #999; border-collapse: collapse; padding: 5px; text-align: left;\">0</td><td style=\"border: 1px solid #999; border-collapse: collapse; padding: 5px; text-align: left;\">N/A</td><td style=\"border: 1px solid #999; border-collapse: collapse; padding: 5px; text-align: left;\">N/A</td><td style=\"border: 1px solid #999; border-collapse: collapse; padding: 5px; text-align: left;\">Number of iterations after which, if the residual norms are identical within the stall_tol, then terminate as if max iterations were reached. Default is 0, which disables this feature.</td></tr>\n",
       "       <tr style=\"background-color: ghostwhite;\"><td style=\"border: 1px solid #999; border-collapse: collapse; padding: 5px; text-align: left;\">stall_tol</td><td style=\"border: 1px solid #999; border-collapse: collapse; padding: 5px; text-align: left;\">1e-12</td><td style=\"border: 1px solid #999; border-collapse: collapse; padding: 5px; text-align: left;\">N/A</td><td style=\"border: 1px solid #999; border-collapse: collapse; padding: 5px; text-align: left;\">N/A</td><td style=\"border: 1px solid #999; border-collapse: collapse; padding: 5px; text-align: left;\">When stall checking is enabled, the threshold below which the residual norm is considered unchanged.</td></tr>\n",
       "       <tr style=\"background-color: #F3F3F3;\"><td style=\"border: 1px solid #999; border-collapse: collapse; padding: 5px; text-align: left;\">stall_tol_type</td><td style=\"border: 1px solid #999; border-collapse: collapse; padding: 5px; text-align: left;\">rel</td><td style=\"border: 1px solid #999; border-collapse: collapse; padding: 5px; text-align: left;\">[&#x27;abs&#x27;, &#x27;rel&#x27;]</td><td style=\"border: 1px solid #999; border-collapse: collapse; padding: 5px; text-align: left;\">N/A</td><td style=\"border: 1px solid #999; border-collapse: collapse; padding: 5px; text-align: left;\">Specifies whether the absolute or relative norm of the residual is used for stall detection.</td></tr>\n",
       "       <tr style=\"background-color: ghostwhite;\"><td style=\"border: 1px solid #999; border-collapse: collapse; padding: 5px; text-align: left;\">state_vars</td><td style=\"border: 1px solid #999; border-collapse: collapse; padding: 5px; text-align: left;\">[]</td><td style=\"border: 1px solid #999; border-collapse: collapse; padding: 5px; text-align: left;\">N/A</td><td style=\"border: 1px solid #999; border-collapse: collapse; padding: 5px; text-align: left;\">N/A</td><td style=\"border: 1px solid #999; border-collapse: collapse; padding: 5px; text-align: left;\">List of the state-variable/residuals that are to be solved here.</td></tr>\n",
       "       <tr style=\"background-color: #F3F3F3;\"><td style=\"border: 1px solid #999; border-collapse: collapse; padding: 5px; text-align: left;\">update_broyden</td><td style=\"border: 1px solid #999; border-collapse: collapse; padding: 5px; text-align: left;\">True</td><td style=\"border: 1px solid #999; border-collapse: collapse; padding: 5px; text-align: left;\">N/A</td><td style=\"border: 1px solid #999; border-collapse: collapse; padding: 5px; text-align: left;\">N/A</td><td style=\"border: 1px solid #999; border-collapse: collapse; padding: 5px; text-align: left;\">Flag controls whether to perform Broyden update to the Jacobian. There are some applications where it may be useful to turn this off.</td></tr>\n",
       "    </table>\n",
       "</body>\n",
       "</html>\n"
      ],
      "text/plain": [
       "<IPython.core.display.HTML object>"
      ]
     },
     "metadata": {},
     "output_type": "display_data"
    }
   ],
   "source": [
    "import openmdao.api as om\n",
    "om.show_options_table(\"openmdao.solvers.nonlinear.broyden.BroydenSolver\")"
   ]
  },
  {
   "cell_type": "markdown",
   "metadata": {},
   "source": [
    "The BroydenSolver also contains a slot for a linear solver and a slot for a linesearch. See the [linesearch section](linesearch-section) for more about these.\n",
    "\n",
    "## BroydenSolver Constructor\n",
    "\n",
    "The call signature for the `BroydenSolver` constructor is:\n",
    "\n",
    "```{eval-rst}\n",
    "    .. automethod:: openmdao.solvers.nonlinear.broyden.BroydenSolver.__init__\n",
    "        :noindex:\n",
    "```\n",
    "\n",
    "## BroydenSolver on a Full Model\n",
    "\n",
    "Here we show an example that uses the [electrical circuit model](../../../advanced_user_guide/models_implicit_components/models_with_solvers_implicit.ipynb) from the\n",
    "advanced guide. We have replaced the `NewtonSolver` with a `BroydenSolver`, and set the maximum number of iterations to 20. We also assign a `DirectSolver` into the \"linear_solver\" slot on the `BroydenSolver`.  This is the linear solver that will be used to assemble the Jacobian and compute its inverse. Since we don't specify any states in the `state_vars` option, the BroydenSolver operates on the entire model. If you don't specify a linear_solver here, then the BroydenSolver will use the one from the system.\n",
    "\n",
    "```{Note}\n",
    "In this mode, only the `DirectSolver` can be used as the linear_solver.\n",
    "```\n",
    "\n",
    "Depending on the values of some of the other options such as \"converge_limit\", \"diverge_limit\", and \"max_converge_failures\", the Jacobian might be recalculated if convergence stalls, though this doesn't happen in the electrical circuit example."
   ]
  },
  {
   "cell_type": "code",
   "execution_count": 3,
   "metadata": {
    "tags": [
     "remove-input",
     "remove-output"
    ]
   },
   "outputs": [],
   "source": [
    "from openmdao.utils.notebook_utils import get_code\n",
    "from myst_nb import glue\n",
    "glue(\"code_src21\", get_code(\"openmdao.test_suite.scripts.circuit_analysis.Circuit\"), display=False)"
   ]
  },
  {
   "cell_type": "markdown",
   "metadata": {},
   "source": [
    ":::{Admonition} `Circuit` class definition \n",
    ":class: dropdown\n",
    "\n",
    "{glue:}`code_src21`\n",
    ":::"
   ]
  },
  {
   "cell_type": "code",
   "execution_count": 4,
   "metadata": {},
   "outputs": [
    {
     "name": "stdout",
     "output_type": "stream",
     "text": [
      "\n",
      "=======\n",
      "circuit\n",
      "=======\n",
      "NL: BROYDEN 0 ; 60.8585191 1\n",
      "NL: BROYDEN 1 ; 22.3883642 0.367875599\n",
      "NL: BROYDEN 2 ; 12.5102871 0.205563449\n",
      "NL: BROYDEN 3 ; 5.98610005 0.0983609219\n",
      "NL: BROYDEN 4 ; 3.04362478 0.0500114827\n",
      "NL: BROYDEN 5 ; 1.51173342 0.0248401283\n",
      "NL: BROYDEN 6 ; 0.757580648 0.0124482268\n",
      "NL: BROYDEN 7 ; 0.378232039 0.0062149399\n",
      "NL: BROYDEN 8 ; 0.188996739 0.00310550999\n",
      "NL: BROYDEN 9 ; 0.0942941723 0.00154939972\n",
      "NL: BROYDEN 10 ; 0.0469594187 0.000771616191\n",
      "NL: BROYDEN 11 ; 0.0232895486 0.000382683459\n",
      "NL: BROYDEN 12 ; 0.0114569328 0.000188255201\n",
      "NL: BROYDEN 13 ; 0.00554426212 9.11008384e-05\n",
      "NL: BROYDEN 14 ; 0.00259566267 4.26507694e-05\n",
      "NL: BROYDEN 15 ; 0.00113639853 1.8672793e-05\n",
      "NL: BROYDEN 16 ; 0.000434036582 7.13189523e-06\n",
      "NL: BROYDEN 17 ; 0.000125653739 2.0646861e-06\n",
      "NL: BROYDEN 18 ; 2.10695157e-05 3.46204869e-07\n",
      "NL: BROYDEN 19 ; 1.29547486e-06 2.12866642e-08\n",
      "NL: BROYDEN 20 ; 1.45259789e-08 2.38684396e-10\n",
      "NL: BROYDENSolver 'NL: BROYDEN' on system 'circuit' failed to converge in 20 iterations.\n"
     ]
    }
   ],
   "source": [
    "import openmdao.api as om\n",
    "from openmdao.test_suite.scripts.circuit_analysis import Circuit\n",
    "\n",
    "p = om.Problem()\n",
    "model = p.model\n",
    "\n",
    "model.add_subsystem('circuit', Circuit(), promotes_inputs=[('Vg', 'V'), ('I_in', 'I')])\n",
    "model.set_input_defaults('V', 0., units='V')\n",
    "model.set_input_defaults('I', 0.1, units='A')\n",
    "\n",
    "p.setup()\n",
    "\n",
    "# Replace existing solver with BroydenSolver\n",
    "model.circuit.nonlinear_solver = om.BroydenSolver()\n",
    "model.circuit.nonlinear_solver.options['maxiter'] = 20\n",
    "model.circuit.nonlinear_solver.linear_solver = om.DirectSolver()\n",
    "\n",
    "# set some initial guesses\n",
    "p.set_val('circuit.n1.V', 10.)\n",
    "p.set_val('circuit.n2.V', 1.)\n",
    "\n",
    "p.set_solver_print(level=2)\n",
    "p.run_model()"
   ]
  },
  {
   "cell_type": "code",
   "execution_count": 5,
   "metadata": {},
   "outputs": [
    {
     "name": "stdout",
     "output_type": "stream",
     "text": [
      "[9.90804735]\n",
      "[0.71278226]\n",
      "[0.10000001]\n"
     ]
    }
   ],
   "source": [
    "print(p.get_val('circuit.n1.V'))\n",
    "print(p.get_val('circuit.n2.V'))\n",
    "\n",
    "# sanity check: should sum to .1 Amps\n",
    "print(p.get_val('circuit.R1.I') + p.get_val('circuit.D1.I'))"
   ]
  },
  {
   "cell_type": "code",
   "execution_count": 6,
   "metadata": {
    "tags": [
     "remove-input",
     "remove-output"
    ]
   },
   "outputs": [
    {
     "data": {
      "text/plain": [
       "1.4525978864199374e-07"
      ]
     },
     "execution_count": 6,
     "metadata": {},
     "output_type": "execute_result"
    }
   ],
   "source": [
    "from openmdao.utils.assert_utils import assert_near_equal\n",
    "\n",
    "assert_near_equal(p.get_val('circuit.n1.V'), 9.90804735, 1e-5)\n",
    "assert_near_equal(p.get_val('circuit.n2.V'), 0.71278226, 1e-5)\n",
    "\n",
    "# sanity check: should sum to .1 Amps\n",
    "assert_near_equal(p.get_val('circuit.R1.I') + p.get_val('circuit.D1.I'), .1, 1e-6)"
   ]
  },
  {
   "cell_type": "markdown",
   "metadata": {},
   "source": [
    "## BroydenSolver on a Subset of States\n",
    "\n",
    "The `BroydenSolver` can also be used to solve for specific states. Here we consider the same circuit example, but instead we specify the two voltages n1.V' and 'n2.V' as our \"state_vars\".  In this mode, we aren't limited to just using the `DirectSolver`, and in this example we choose `LinearBlockGS` instead."
   ]
  },
  {
   "cell_type": "code",
   "execution_count": 7,
   "metadata": {},
   "outputs": [
    {
     "name": "stdout",
     "output_type": "stream",
     "text": [
      "\n",
      "=======\n",
      "circuit\n",
      "=======\n",
      "NL: BROYDEN 0 ; 60.8585191 1\n",
      "NL: BROYDEN 1 ; 22.3883642 0.367875599\n",
      "NL: BROYDEN 2 ; 12.5102871 0.205563449\n",
      "NL: BROYDEN 3 ; 5.98610005 0.0983609219\n",
      "NL: BROYDEN 4 ; 3.04362478 0.0500114827\n",
      "NL: BROYDEN 5 ; 1.51173342 0.0248401283\n",
      "NL: BROYDEN 6 ; 0.757580648 0.0124482268\n",
      "NL: BROYDEN 7 ; 0.378232039 0.0062149399\n",
      "NL: BROYDEN 8 ; 0.188996739 0.00310550999\n",
      "NL: BROYDEN 9 ; 0.0942941723 0.00154939972\n",
      "NL: BROYDEN 10 ; 0.0469594187 0.000771616191\n",
      "NL: BROYDEN 11 ; 0.0232895486 0.000382683459\n",
      "NL: BROYDEN 12 ; 0.0114569328 0.000188255201\n",
      "NL: BROYDEN 13 ; 0.00554426212 9.11008384e-05\n",
      "NL: BROYDEN 14 ; 0.00259566267 4.26507694e-05\n",
      "NL: BROYDEN 15 ; 0.00113639853 1.8672793e-05\n",
      "NL: BROYDEN 16 ; 0.000434036582 7.13189523e-06\n",
      "NL: BROYDEN 17 ; 0.000125653739 2.0646861e-06\n",
      "NL: BROYDEN 18 ; 2.10695157e-05 3.46204869e-07\n",
      "NL: BROYDEN 19 ; 1.29547486e-06 2.12866642e-08\n",
      "NL: BROYDEN 20 ; 1.45259789e-08 2.38684396e-10\n",
      "NL: BROYDENSolver 'NL: BROYDEN' on system 'circuit' failed to converge in 20 iterations.\n"
     ]
    }
   ],
   "source": [
    "from openmdao.test_suite.scripts.circuit_analysis import Circuit\n",
    "\n",
    "p = om.Problem()\n",
    "model = p.model\n",
    "\n",
    "model.add_subsystem('circuit', Circuit(), promotes_inputs=[('Vg', 'V'), ('I_in', 'I')])\n",
    "model.set_input_defaults('V', 0., units='V')\n",
    "model.set_input_defaults('I', 0.1, units='A')\n",
    "\n",
    "p.setup()\n",
    "\n",
    "# Replace existing solver with om.BroydenSolver\n",
    "model.circuit.nonlinear_solver = om.BroydenSolver()\n",
    "model.circuit.nonlinear_solver.options['maxiter'] = 20\n",
    "\n",
    "# Specify states for Broyden to solve\n",
    "model.circuit.nonlinear_solver.options['state_vars'] = ['n1.V', 'n2.V']\n",
    "\n",
    "model.nonlinear_solver.linear_solver = om.LinearBlockGS()\n",
    "\n",
    "# set some initial guesses\n",
    "p.set_val('circuit.n1.V', 10.)\n",
    "p.set_val('circuit.n2.V', 1.)\n",
    "\n",
    "p.set_solver_print(level=2)\n",
    "p.run_model()"
   ]
  },
  {
   "cell_type": "code",
   "execution_count": 8,
   "metadata": {},
   "outputs": [
    {
     "name": "stdout",
     "output_type": "stream",
     "text": [
      "[9.90804735]\n",
      "[0.71278226]\n"
     ]
    }
   ],
   "source": [
    "print(p.get_val('circuit.n1.V'))\n",
    "print(p.get_val('circuit.n2.V'))"
   ]
  },
  {
   "cell_type": "code",
   "execution_count": 9,
   "metadata": {},
   "outputs": [
    {
     "name": "stdout",
     "output_type": "stream",
     "text": [
      "[0.10000001]\n"
     ]
    }
   ],
   "source": [
    "# sanity check: should sum to .1 Amps\n",
    "print(p.get_val('circuit.R1.I') + p.get_val('circuit.D1.I'))"
   ]
  },
  {
   "cell_type": "code",
   "execution_count": 10,
   "metadata": {
    "tags": [
     "remove-input",
     "remove-output"
    ]
   },
   "outputs": [
    {
     "data": {
      "text/plain": [
       "1.4525978864199374e-07"
      ]
     },
     "execution_count": 10,
     "metadata": {},
     "output_type": "execute_result"
    }
   ],
   "source": [
    "assert_near_equal(p.get_val('circuit.n1.V'), 9.90804735, 1e-5)\n",
    "assert_near_equal(p.get_val('circuit.n2.V'), 0.71278226, 1e-5)\n",
    "\n",
    "# sanity check: should sum to .1 Amps\n",
    "assert_near_equal(p.get_val('circuit.R1.I') + p.get_val('circuit.D1.I'), .1, 1e-6)"
   ]
  },
  {
   "cell_type": "markdown",
   "metadata": {},
   "source": [
    "## BroydenSolver for Models Without Derivatives\n",
    "\n",
    "The `BroydenSolver` can be used for models where you don't have any partial derivatives defined, and don't wish to use finite difference to calculate them. This behavior is activated by setting the \"compute_jacobian\" option to False. Instead of calculating an initial Jacobian, we start with an estimate that is just the identity matrix scaled by a tunable parameter in the options called \"alpha\". As the `BroydenSolver` iterates, this estimate of the Jacobian is improved, and for some problems, a solution can be reached that satisfies the residual equations.\n",
    "\n",
    "In this example, we solve for the coupling variable in a version of the Sellar model that severs the cycle\n",
    "and expresses the difference across the broken cycle as an implicit state, which the `BroydenSolver` will\n",
    "solve."
   ]
  },
  {
   "cell_type": "code",
   "execution_count": 11,
   "metadata": {
    "tags": [
     "remove-input",
     "remove-output"
    ]
   },
   "outputs": [],
   "source": [
    "from openmdao.utils.notebook_utils import get_code\n",
    "from myst_nb import glue\n",
    "glue(\"code_src22\", get_code(\"openmdao.test_suite.components.sellar.SellarStateConnection\"), display=False)"
   ]
  },
  {
   "cell_type": "markdown",
   "metadata": {},
   "source": [
    ":::{Admonition} `SellarStateConnection` class definition \n",
    ":class: dropdown\n",
    "\n",
    "{glue:}`code_src22`\n",
    ":::"
   ]
  },
  {
   "cell_type": "code",
   "execution_count": 12,
   "metadata": {},
   "outputs": [
    {
     "name": "stdout",
     "output_type": "stream",
     "text": [
      "NL: BROYDEN 0 ; 11.2725705 1\n",
      "|  LS: BCHK 0 ; 6.82339784 0.605309838\n",
      "NL: BROYDEN 1 ; 6.67731871 0.592351025\n",
      "|  LS: BCHK 0 ; 1.31638163 0.197142249\n",
      "NL: BROYDEN 2 ; 0.00261878643 0.00023231493\n",
      "|  LS: BCHK 0 ; 0.000516169776 0.197102661\n",
      "NL: BROYDEN 3 ; 6.33742047e-07 5.62198343e-08\n",
      "|  LS: BCHK 0 ; 1.2489701e-07 0.197078624\n",
      "NL: BROYDEN 4 ; 6.21724894e-14 5.51537817e-15\n",
      "NL: BROYDEN Converged\n"
     ]
    }
   ],
   "source": [
    "from openmdao.test_suite.components.sellar import SellarStateConnection\n",
    "\n",
    "prob = om.Problem()\n",
    "model = prob.model = SellarStateConnection(nonlinear_solver=om.BroydenSolver(),\n",
    "                                           linear_solver=om.LinearRunOnce())\n",
    "\n",
    "prob.setup()\n",
    "\n",
    "model.nonlinear_solver.options['state_vars'] = ['state_eq.y2_command']\n",
    "model.nonlinear_solver.options['compute_jacobian'] = False\n",
    "\n",
    "prob.set_solver_print(level=2)\n",
    "prob.run_model()"
   ]
  },
  {
   "cell_type": "code",
   "execution_count": 13,
   "metadata": {},
   "outputs": [
    {
     "name": "stdout",
     "output_type": "stream",
     "text": [
      "[25.58830237]\n",
      "[12.05848815]\n"
     ]
    }
   ],
   "source": [
    "print(prob['y1'])\n",
    "print(prob['state_eq.y2_command'])"
   ]
  },
  {
   "cell_type": "code",
   "execution_count": 14,
   "metadata": {
    "tags": [
     "remove-input",
     "remove-output"
    ]
   },
   "outputs": [
    {
     "data": {
      "text/plain": [
       "3.266453330990709e-09"
      ]
     },
     "execution_count": 14,
     "metadata": {},
     "output_type": "execute_result"
    }
   ],
   "source": [
    "assert_near_equal(prob['y1'], 25.58830273, .00001)\n",
    "assert_near_equal(prob['state_eq.y2_command'], 12.05848819, .00001)"
   ]
  },
  {
   "cell_type": "markdown",
   "metadata": {},
   "source": [
    "## BroydenSolver Option Examples\n",
    "\n",
    "There are a few additional options that give you more control over when and how often the Jacobian is recomputed.\n",
    "The \"diverge_limit\" option allows you to define a limit to the ratio of current residual and the previous iteration's residual above which the solution is considered to be diverging. If this limit is exceeded, then the Jacobian is always recomputed on the next iteration. There is also a \"converge_limit\" that allows you similarly define a limit above which the solution is considered to be non-converging. When this limit is exceeded, the Jacobian is not immediately recomputed until the limit has been exceeded a number of consecutive times as defined by the \"max_converge_failures\" option. The default value for \"max_converge_failures\" is 3, and the default \"converge_limit\" is 1.0. Exploring these options can help you solve more quickly (or in some cases solve at all) some tougher problems.\n",
    "\n",
    "Here, we take the same circuit example from above and specify a much lower \"converge_limit\" and \"max_converge_failures\" to force recomputation of the Jacobian much more frequently. This results in a quicker convergence in terms of the number of iterations, though keep in mind that solving for the derivatives adds computational cost."
   ]
  },
  {
   "cell_type": "code",
   "execution_count": 15,
   "metadata": {},
   "outputs": [
    {
     "name": "stdout",
     "output_type": "stream",
     "text": [
      "\n",
      "=======\n",
      "circuit\n",
      "=======\n",
      "NL: BROYDEN 0 ; 60.8585191 1\n",
      "NL: BROYDEN 1 ; 22.3883642 0.367875599\n",
      "NL: BROYDEN 2 ; 8.23598116 0.135329963\n",
      "NL: BROYDEN 3 ; 3.02960973 0.0497811937\n",
      "NL: BROYDEN 4 ; 1.11429207 0.0183095495\n",
      "NL: BROYDEN 5 ; 0.409685491 0.00673176898\n",
      "NL: BROYDEN 6 ; 0.150474776 0.0024725343\n",
      "NL: BROYDEN 7 ; 0.055116451 0.000905648902\n",
      "NL: BROYDEN 8 ; 0.0200371642 0.000329241731\n",
      "NL: BROYDEN 9 ; 0.00713629394 0.000117260394\n",
      "NL: BROYDEN 10 ; 0.00240228312 3.94732431e-05\n",
      "NL: BROYDEN 11 ; 0.000691815028 1.13675955e-05\n",
      "NL: BROYDEN 12 ; 0.000282709816 4.6453614e-06\n",
      "NL: BROYDEN 13 ; 6.22512906e-05 1.0228854e-06\n",
      "NL: BROYDEN 14 ; 7.63617209e-06 1.25474169e-07\n",
      "NL: BROYDEN 15 ; 2.44772377e-07 4.02199035e-09\n",
      "NL: BROYDEN 16 ; 1.00501245e-09 1.65139156e-11\n",
      "NL: BROYDEN Converged\n"
     ]
    }
   ],
   "source": [
    "from openmdao.test_suite.scripts.circuit_analysis import Circuit\n",
    "\n",
    "p = om.Problem()\n",
    "model = p.model\n",
    "\n",
    "model.add_subsystem('circuit', Circuit(), promotes_inputs=[('Vg', 'V'), ('I_in', 'I')])\n",
    "model.set_input_defaults('V', 0., units='V')\n",
    "model.set_input_defaults('I', 0.1, units='A')\n",
    "\n",
    "p.setup()\n",
    "\n",
    "# Replace existing solver with BroydenSolver\n",
    "model.circuit.nonlinear_solver = om.BroydenSolver()\n",
    "model.circuit.nonlinear_solver.options['maxiter'] = 20\n",
    "model.circuit.nonlinear_solver.options['converge_limit'] = 0.1\n",
    "model.circuit.nonlinear_solver.options['max_converge_failures'] = 1\n",
    "\n",
    "# Specify states for Broyden to solve\n",
    "model.circuit.nonlinear_solver.options['state_vars'] = ['n1.V', 'n2.V']\n",
    "\n",
    "# set some initial guesses\n",
    "p.set_val('circuit.n1.V', 10.)\n",
    "p.set_val('circuit.n2.V', 1.)\n",
    "\n",
    "p.set_solver_print(level=2)\n",
    "p.run_model()"
   ]
  },
  {
   "cell_type": "code",
   "execution_count": 16,
   "metadata": {},
   "outputs": [
    {
     "name": "stdout",
     "output_type": "stream",
     "text": [
      "[9.90804735]\n",
      "[0.71278188]\n"
     ]
    }
   ],
   "source": [
    "print(p.get_val('circuit.n1.V'))\n",
    "print(p.get_val('circuit.n2.V'))"
   ]
  },
  {
   "cell_type": "code",
   "execution_count": 17,
   "metadata": {},
   "outputs": [
    {
     "name": "stdout",
     "output_type": "stream",
     "text": [
      "[0.1]\n"
     ]
    }
   ],
   "source": [
    "# sanity check: should sum to .1 Amps\n",
    "print(p.get_val('circuit.R1.I') + p.get_val('circuit.D1.I'))"
   ]
  },
  {
   "cell_type": "code",
   "execution_count": 18,
   "metadata": {
    "tags": [
     "remove-input",
     "remove-output"
    ]
   },
   "outputs": [
    {
     "data": {
      "text/plain": [
       "1.0050124482630096e-08"
      ]
     },
     "execution_count": 18,
     "metadata": {},
     "output_type": "execute_result"
    }
   ],
   "source": [
    "assert_near_equal(p.get_val('circuit.n1.V'), 9.90804735, 1e-5)\n",
    "assert_near_equal(p.get_val('circuit.n2.V'), 0.71278226, 1e-5)\n",
    "\n",
    "# sanity check: should sum to .1 Amps\n",
    "assert_near_equal(p.get_val('circuit.R1.I') + p.get_val('circuit.D1.I'), .1, 1e-6)"
   ]
  },
  {
   "cell_type": "markdown",
   "metadata": {},
   "source": [
    "**stall_limit, stall_tol, and stall_tol_type **\n",
    "\n",
    "  In some cases, nonlinear solvers can stall out where the norm of the residual stops changing at all. This\n",
    "  can happen for a couple of reasons. You can hit numerical noise problems and just be wandering around in\n",
    "  a circle, or you can get stuck on a bound and the line search just keeps running into the same spot no\n",
    "  matter what. Either way, if you have say 100 max iterations and you stall at 15 ... you waste a lot of\n",
    "  compute time. To remedy this, you can turn on stall detection in all nonlinear solvers by setting the\n",
    "  \"stall_limit\" option to a number greater than zero.\n",
    "\n",
    "  In this example, we set stall_limit to 3. While the solver iterates, it will compare the value of the\n",
    "  residual norm to the value computed in the previous iteration.  If the value matches for three iterations\n",
    "  in a row, then iteration will terminate due to detection of a stall. If \"err_on_non_converge\" is set\n",
    "  to True, then an ``AnalysisError`` will be raised just as if we had reached the iteration count limit.\n",
    "\n",
    "  We also set the `stall_tol` to 1e-6, which is the threshold below which a change in the relative residual\n",
    "  norm is considered to be unchanged. The option also exists to use the absolute residual norm by setting\n",
    "  `stall_tol_type` to `'abs'`."
   ]
  },
  {
   "cell_type": "code",
   "execution_count": 19,
   "metadata": {},
   "outputs": [
    {
     "name": "stdout",
     "output_type": "stream",
     "text": [
      "NL: BROYDEN 0 ; 4 1\n",
      "|  LS: BCHK 0 ; 4.76340215 1.50632002\n",
      "NL: BROYDEN 1 ; 0.7 0.175\n",
      "|  LS: BCHK 0 ; 0.63953754 0.913625056\n",
      "NL: BROYDEN 2 ; 0.7 0.175\n",
      "|  LS: BCHK 0 ; 0.63953754 0.913625056\n",
      "NL: BROYDEN 3 ; 0.7 0.175\n",
      "|  LS: BCHK 0 ; 0.63953754 0.913625056\n",
      "NL: BROYDEN 4 ; 0.7 0.175\n",
      "NL: BROYDENSolver 'NL: BROYDEN' on system '' stalled after 4 iterations.\n"
     ]
    }
   ],
   "source": [
    "prob = om.Problem()\n",
    "\n",
    "prob.model.add_subsystem('comp', om.ExecComp('y=3*x+1'), promotes=['*'])\n",
    "\n",
    "balance = prob.model.add_subsystem('balance', om.BalanceComp(),\n",
    "                                   promotes=['*'])\n",
    "balance.add_balance('x', lower=-.1, upper=10, rhs_val=0, lhs_name='y')\n",
    "\n",
    "nl_solver = prob.model.nonlinear_solver = om.BroydenSolver()\n",
    "nl_solver.options['stall_limit'] = 3\n",
    "nl_solver.options['stall_tol'] = 1e-8\n",
    "nl_solver.options['maxiter'] = 100\n",
    "\n",
    "prob.model.linear_solver = om.DirectSolver()\n",
    "\n",
    "prob.setup()\n",
    "prob.set_solver_print()\n",
    "\n",
    "prob.run_model()"
   ]
  }
 ],
 "metadata": {
  "celltoolbar": "Tags",
  "kernelspec": {
   "display_name": "Python 3",
   "language": "python",
   "name": "python3"
  },
  "language_info": {
   "codemirror_mode": {
    "name": "ipython",
    "version": 3
   },
   "file_extension": ".py",
   "mimetype": "text/x-python",
   "name": "python",
   "nbconvert_exporter": "python",
   "pygments_lexer": "ipython3",
   "version": "3.9.19"
  },
  "orphan": true
 },
 "nbformat": 4,
 "nbformat_minor": 4
}