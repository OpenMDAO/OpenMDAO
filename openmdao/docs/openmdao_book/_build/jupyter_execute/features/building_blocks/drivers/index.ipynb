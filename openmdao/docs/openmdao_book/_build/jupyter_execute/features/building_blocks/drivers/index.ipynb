{
 "cells": [
  {
   "cell_type": "markdown",
   "metadata": {},
   "source": [
    "# Drivers\n",
    "\n",
    "- [ScipyOptimizeDriver](scipy_optimize_driver.ipynb)\n",
    "- [pyOptSparseDriver](pyoptsparse_driver.ipynb)\n",
    "- [SimpleGADriver](genetic_algorithm.ipynb)\n",
    "- [DifferentialEvolutionDriver](differential_evolution.ipynb)\n",
    "- [DOEDriver](doe_driver.ipynb)"
   ]
  }
 ],
 "metadata": {
  "celltoolbar": "Tags",
  "kernelspec": {
   "display_name": "Python 3",
   "language": "python",
   "name": "python3"
  },
  "language_info": {
   "codemirror_mode": {
    "name": "ipython",
    "version": 3
   },
   "file_extension": ".py",
   "mimetype": "text/x-python",
   "name": "python",
   "nbconvert_exporter": "python",
   "pygments_lexer": "ipython3",
   "version": "3.9.19"
  },
  "orphan": true
 },
 "nbformat": 4,
 "nbformat_minor": 4
}