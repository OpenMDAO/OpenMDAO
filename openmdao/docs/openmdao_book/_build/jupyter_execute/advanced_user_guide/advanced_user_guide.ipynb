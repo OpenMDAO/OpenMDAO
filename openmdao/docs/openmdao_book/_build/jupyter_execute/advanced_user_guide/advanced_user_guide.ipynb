{
 "cells": [
  {
   "cell_type": "markdown",
   "id": "c6e0d73b-d3f4-4787-9f15-f8084f6695c8",
   "metadata": {},
   "source": [
    "# Advanced User Guide\n",
    "\n",
    "These tutorials cover more advanced topics. This guide assumes that you have read the [Basic User Guide](../basic_user_guide/basic_user_guide.ipynb), and it builds from those basics to cover more complex topics that will let you get the most out of the framework. Within each section, the tutorials are designed to be read in order, but each section is self-contained enough that you can choose to read only the sections that are useful to you.\n",
    "\n",
    "\n",
    "## Models with Implicit Components\n",
    "\n",
    "- [Building Models with Solvers and Implicit Components](models_implicit_components/models_with_solvers_implicit.ipynb)\n",
    "- [Using BalanceComp to Create Implicit Relationships in Groups](models_implicit_components/implicit_with_balancecomp.ipynb)\n",
    "\n",
    "## Working with Analytic Derivatives\n",
    "\n",
    "- [Defining Partial Derivatives on Explicit Components](analytic_derivatives/partial_derivs_explicit.ipynb)\n",
    "- [Defining Partial Derivatives on Implicit Components](analytic_derivatives/partial_derivs_implicit.ipynb)\n",
    "- [Computing Total Derivatives of Coupled Models](analytic_derivatives/derivs_of_coupled_systems.ipynb)\n",
    "\n",
    "## Recoding and Reading Data\n",
    "\n",
    "- [Advanced Recording Example](recording/advanced_case_recording.ipynb)\n",
    "\n",
    "## Using OpenMDAO as a Part of a Larger Process\n",
    "- [Cannonball Example with Euler Integration and an External Optimizer](example/euler_integration_example.ipynb)\n",
    "\n",
    "## Details about Complex Step\n",
    "- [Using Complex Step to Compute Derivatives](complex_step.ipynb)\n",
    "\n",
    "## Using AnalysisError\n",
    "- [Using AnalysisError to avoid a region in the solution space](analysis_errors/analysis_error.ipynb)\n",
    "\n",
    "## Computing Partial Derivatives using JAX\n",
    "- [Computing Partial Derivatives of Explicit Components Using JAX](jax_derivatives/partial_derivs_explicit.ipynb)\n"
   ]
  }
 ],
 "metadata": {
  "kernelspec": {
   "display_name": "Python 3 (ipykernel)",
   "language": "python",
   "name": "python3"
  },
  "language_info": {
   "codemirror_mode": {
    "name": "ipython",
    "version": 3
   },
   "file_extension": ".py",
   "mimetype": "text/x-python",
   "name": "python",
   "nbconvert_exporter": "python",
   "pygments_lexer": "ipython3",
   "version": "3.9.19"
  }
 },
 "nbformat": 4,
 "nbformat_minor": 5
}