{
 "cells": [
  {
   "cell_type": "markdown",
   "metadata": {},
   "source": [
    "# Examples\n",
    "\n",
    "This document is intended to show run files that provide\n",
    "techniques for using certain features in combination, or examples of solving canonical problems in OpenMDAO.\n",
    "If you need to learn the basics of how things work, please see the [User Guide](../basic_user_guide/basic_user_guide).\n",
    "\n",
    "- [Optimizing a Paraboloid – The TL;DR Version](tldr_paraboloid.ipynb)\n",
    "- [Optimizing a Paraboloid](paraboloid.ipynb)\n",
    "- [Optimizing an Actuator Disk Model to Find Betz Limit for Wind Turbines](betz_limit.ipynb)\n",
    "- [Hohmann Transfer Example - Optimizing a Spacecraft Manuever](hohmann_transfer/hohmann_transfer.ipynb)\n",
    "- [Kepler’s Equation Example - Solving an Implicit Equation](keplers_equation.ipynb)\n",
    "- [Converging an Implicit Model: Nonlinear circuit analysis](circuit_analysis_examples.ipynb)\n",
    "- [Optimizing the Thickness Distribution of a Cantilever Beam Using the Adjoint Method](beam_optimization_example.ipynb)\n",
    "- [Revisiting the Beam Problem - Minimizing Stress with KS Constraints and BSplines](beam_optimization_example_part_2.ipynb)\n",
    "- [Simple Optimization using Simultaneous Derivatives](simul_deriv_example.ipynb)\n"
   ]
  }
 ],
 "metadata": {
  "celltoolbar": "Tags",
  "kernelspec": {
   "display_name": "Python 3",
   "language": "python",
   "name": "python3"
  },
  "language_info": {
   "codemirror_mode": {
    "name": "ipython",
    "version": 3
   },
   "file_extension": ".py",
   "mimetype": "text/x-python",
   "name": "python",
   "nbconvert_exporter": "python",
   "pygments_lexer": "ipython3",
   "version": "3.9.19"
  },
  "orphan": true
 },
 "nbformat": 4,
 "nbformat_minor": 4
}