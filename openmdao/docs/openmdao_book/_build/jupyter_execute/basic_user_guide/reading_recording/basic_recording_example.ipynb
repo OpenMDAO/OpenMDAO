{
 "cells": [
  {
   "cell_type": "code",
   "execution_count": 1,
   "metadata": {
    "tags": [
     "remove-input",
     "active-ipynb",
     "remove-output"
    ]
   },
   "outputs": [],
   "source": [
    "try:\n",
    "    from openmdao.utils.notebook_utils import notebook_mode\n",
    "except ImportError:\n",
    "    !python -m pip install openmdao[notebooks]"
   ]
  },
  {
   "cell_type": "markdown",
   "metadata": {},
   "source": [
    "# Basic Recording Example\n",
    "## Recording Terminology\n",
    "- **Case**: A Case stores a snapshot of all the variable values, metadata, and options of a model, or a sub-set of a model, at a particular point in time\n",
    "- **Case Recorder**: An OpenMDAO module used to store a snapshot of a model before, during, or after execution in an SQL file.\n",
    "- **Sources**: The OpenMDAO object responsible for recording the case. Can be `Problem`, `Driver` or a specific `System` or `Solver` identified by pathname.\n",
    "\n",
    "## Basic Recording Example\n",
    "\n",
    "Below is a basic example of how to create a recorder, attach it to a Problem, save the information,\n",
    "and retrieve the data from the recorder. `list_outputs` is a quick way to show all of your outputs\n",
    "and their values at the time the case was recorded, and should you need to isolate a single value OpenMDAO provides two ways to\n",
    "retrieve them. To view all the design variables, constraints, and\n",
    "objectives, you can use their methods like the example below.\n"
   ]
  },
  {
   "cell_type": "code",
   "execution_count": 2,
   "metadata": {
    "tags": [
     "remove-input",
     "remove-output"
    ]
   },
   "outputs": [],
   "source": [
    "import os\n",
    "if os.path.exists('cases.sql'):\n",
    "    os.remove('cases.sql')"
   ]
  },
  {
   "cell_type": "code",
   "execution_count": 3,
   "metadata": {
    "tags": [
     "remove-input",
     "remove-output"
    ]
   },
   "outputs": [],
   "source": [
    "from openmdao.utils.notebook_utils import get_code\n",
    "from myst_nb import glue\n",
    "glue(\"code_src8\", get_code(\"openmdao.test_suite.components.sellar_feature.SellarMDAWithUnits\"), display=False)"
   ]
  },
  {
   "cell_type": "markdown",
   "metadata": {},
   "source": [
    ":::{Admonition} `SellarMDAWithUnits` class definition \n",
    ":class: dropdown\n",
    "\n",
    "{glue:}`code_src8`\n",
    ":::"
   ]
  },
  {
   "cell_type": "code",
   "execution_count": 4,
   "metadata": {},
   "outputs": [
    {
     "name": "stdout",
     "output_type": "stream",
     "text": [
      "[-1.66901604e-10]\n",
      "[273.15]\n"
     ]
    }
   ],
   "source": [
    "from openmdao.test_suite.components.sellar_feature import SellarMDAWithUnits\n",
    "import numpy as np\n",
    "import openmdao.api as om\n",
    "\n",
    "# build the model\n",
    "prob = om.Problem(model=SellarMDAWithUnits())\n",
    "\n",
    "model = prob.model\n",
    "model.add_design_var('z', lower=np.array([-10.0, 0.0]), upper=np.array([10.0, 10.0]))\n",
    "model.add_design_var('x', lower=0.0, upper=10.0)\n",
    "model.add_objective('obj')\n",
    "model.add_constraint('con1', upper=0.0)\n",
    "model.add_constraint('con2', upper=0.0)\n",
    "\n",
    "# setup the optimization\n",
    "driver = prob.driver = om.ScipyOptimizeDriver(optimizer='SLSQP', tol=1e-9, disp=False)\n",
    "\n",
    "# Create a recorder variable\n",
    "recorder = om.SqliteRecorder('cases.sql')\n",
    "# Attach a recorder to the problem\n",
    "prob.add_recorder(recorder)\n",
    "\n",
    "prob.setup()\n",
    "prob.set_solver_print(0)\n",
    "prob.run_driver()\n",
    "prob.record(\"after_run_driver\")\n",
    "\n",
    "# Instantiate your CaseReader\n",
    "cr = om.CaseReader(\"cases.sql\")\n",
    "# Isolate \"problem\" as your source\n",
    "driver_cases = cr.list_cases('problem', out_stream=None)\n",
    "# Get the first case from the recorder\n",
    "case = cr.get_case('after_run_driver')\n",
    "\n",
    "# These options will give outputs as the model sees them\n",
    "# Gets value but will not convert units\n",
    "const = case['con1']\n",
    "print(const)\n",
    "\n",
    "# get_val can convert your result's units if desired\n",
    "const_K = case.get_val(\"con1\", units='K')\n",
    "\n",
    "print(const_K)"
   ]
  },
  {
   "cell_type": "code",
   "execution_count": 5,
   "metadata": {
    "tags": [
     "remove-input",
     "remove-output"
    ]
   },
   "outputs": [
    {
     "ename": "ValueError",
     "evalue": "actual [-1.66901604e-10], desired [-1.68550507e-10], rel error 0.009782844208595636, tolerance 0.001",
     "output_type": "error",
     "traceback": [
      "\u001b[0;31m---------------------------------------------------------------------------\u001b[0m",
      "\u001b[0;31mValueError\u001b[0m                                Traceback (most recent call last)",
      "Cell \u001b[0;32mIn[5], line 2\u001b[0m\n\u001b[1;32m      1\u001b[0m \u001b[38;5;28;01mfrom\u001b[39;00m \u001b[38;5;21;01mopenmdao\u001b[39;00m\u001b[38;5;21;01m.\u001b[39;00m\u001b[38;5;21;01mutils\u001b[39;00m\u001b[38;5;21;01m.\u001b[39;00m\u001b[38;5;21;01massert_utils\u001b[39;00m \u001b[38;5;28;01mimport\u001b[39;00m assert_near_equal\n\u001b[0;32m----> 2\u001b[0m \u001b[43massert_near_equal\u001b[49m\u001b[43m(\u001b[49m\u001b[43mconst\u001b[49m\u001b[43m,\u001b[49m\u001b[43m \u001b[49m\u001b[38;5;241;43m-\u001b[39;49m\u001b[38;5;241;43m1.68550507e-10\u001b[39;49m\u001b[43m,\u001b[49m\u001b[43m \u001b[49m\u001b[38;5;241;43m1e-3\u001b[39;49m\u001b[43m)\u001b[49m\n\u001b[1;32m      3\u001b[0m assert_near_equal(const_K, \u001b[38;5;241m273.15\u001b[39m, \u001b[38;5;241m1e-3\u001b[39m)\n",
      "File \u001b[0;32m~/dev/eecs481/hw6/OpenMDAO/openmdao/utils/assert_utils.py:574\u001b[0m, in \u001b[0;36massert_near_equal\u001b[0;34m(actual, desired, tolerance)\u001b[0m\n\u001b[1;32m    572\u001b[0m \u001b[38;5;28;01mif\u001b[39;00m \u001b[38;5;28mabs\u001b[39m(error) \u001b[38;5;241m>\u001b[39m tolerance:\n\u001b[1;32m    573\u001b[0m     \u001b[38;5;28;01mif\u001b[39;00m actual\u001b[38;5;241m.\u001b[39msize \u001b[38;5;241m<\u001b[39m \u001b[38;5;241m10\u001b[39m \u001b[38;5;129;01mand\u001b[39;00m desired\u001b[38;5;241m.\u001b[39msize \u001b[38;5;241m<\u001b[39m \u001b[38;5;241m10\u001b[39m:\n\u001b[0;32m--> 574\u001b[0m         \u001b[38;5;28;01mraise\u001b[39;00m \u001b[38;5;167;01mValueError\u001b[39;00m(\u001b[38;5;124m'\u001b[39m\u001b[38;5;124mactual \u001b[39m\u001b[38;5;132;01m%s\u001b[39;00m\u001b[38;5;124m, desired \u001b[39m\u001b[38;5;132;01m%s\u001b[39;00m\u001b[38;5;124m, rel error \u001b[39m\u001b[38;5;132;01m%s\u001b[39;00m\u001b[38;5;124m, tolerance \u001b[39m\u001b[38;5;132;01m%s\u001b[39;00m\u001b[38;5;124m'\u001b[39m\n\u001b[1;32m    575\u001b[0m                          \u001b[38;5;241m%\u001b[39m (actual, desired, error, tolerance))\n\u001b[1;32m    576\u001b[0m     \u001b[38;5;28;01melse\u001b[39;00m:\n\u001b[1;32m    577\u001b[0m         \u001b[38;5;28;01mraise\u001b[39;00m \u001b[38;5;167;01mValueError\u001b[39;00m(\u001b[38;5;124m'\u001b[39m\u001b[38;5;124marrays do not match, rel error \u001b[39m\u001b[38;5;132;01m%.3e\u001b[39;00m\u001b[38;5;124m > tol (\u001b[39m\u001b[38;5;132;01m%.3e\u001b[39;00m\u001b[38;5;124m)\u001b[39m\u001b[38;5;124m'\u001b[39m \u001b[38;5;241m%\u001b[39m\n\u001b[1;32m    578\u001b[0m                          (error, tolerance))\n",
      "\u001b[0;31mValueError\u001b[0m: actual [-1.66901604e-10], desired [-1.68550507e-10], rel error 0.009782844208595636, tolerance 0.001"
     ]
    }
   ],
   "source": [
    "from openmdao.utils.assert_utils import assert_near_equal\n",
    "assert_near_equal(const, -1.68550507e-10, 1e-3)\n",
    "assert_near_equal(const_K, 273.15, 1e-3)"
   ]
  },
  {
   "cell_type": "code",
   "execution_count": null,
   "metadata": {},
   "outputs": [],
   "source": [
    "# list_outputs will list your model's outputs and return a list of them too\n",
    "print(case.list_outputs())"
   ]
  },
  {
   "cell_type": "code",
   "execution_count": null,
   "metadata": {},
   "outputs": [],
   "source": [
    "# This code below will find all the objectives, design variables, and constraints that the\n",
    "# problem source contains\n",
    "objectives = case.get_objectives()\n",
    "print(objectives['obj'])\n",
    "\n",
    "design_vars = case.get_design_vars()\n",
    "print(design_vars['x'])\n",
    "\n",
    "constraints = case.get_constraints()\n",
    "print(constraints['con1'])"
   ]
  },
  {
   "cell_type": "code",
   "execution_count": null,
   "metadata": {
    "tags": [
     "remove-input",
     "remove-output"
    ]
   },
   "outputs": [],
   "source": [
    "assert_near_equal(objectives['obj'], 3.18339395, 1e-4)\n",
    "assert_near_equal(design_vars['x'], 0., 1e-4)\n",
    "assert_near_equal(constraints['con1'], -1.68550507e-10, 1e-4)"
   ]
  }
 ],
 "metadata": {
  "celltoolbar": "Tags",
  "kernelspec": {
   "display_name": "Python 3",
   "language": "python",
   "name": "python3"
  },
  "language_info": {
   "codemirror_mode": {
    "name": "ipython",
    "version": 3
   },
   "file_extension": ".py",
   "mimetype": "text/x-python",
   "name": "python",
   "nbconvert_exporter": "python",
   "pygments_lexer": "ipython3",
   "version": "3.9.19"
  }
 },
 "nbformat": 4,
 "nbformat_minor": 4
}